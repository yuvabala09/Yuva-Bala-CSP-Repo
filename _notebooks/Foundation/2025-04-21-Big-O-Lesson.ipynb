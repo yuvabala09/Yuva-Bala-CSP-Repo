{
 "cells": [
  {
   "cell_type": "markdown",
   "metadata": {},
   "source": [
    "---\n",
    "layout: post\n",
    "title: Big O and Algorithm Effeciency\n",
    "type: issues\n",
    "comments: True\n",
    "---"
   ]
  },
  {
   "cell_type": "markdown",
   "metadata": {},
   "source": [
    "## Popcorn Hack 1\n",
    "\n",
    "Popcorn Hack – The Even/Odd Check Challenge\n",
    "Challenge: You need to check if a number is even or odd. Which TWO strategies are the most efficient?\n",
    "\n",
    "- Divide the number by 2 and check if the result is a whole number.\n",
    "- Check if the last digit is 0, 2, 4, 6, or 8 manually\n",
    "- Use the modulus operator (%) to check if the remainder when divided by 2 is 0\n",
    "- Convert the number to a string and check if the last character is an even digit.\n",
    "- Subtract 2 repeatedly until you reach 0 or 1, then check the result.\n",
    "- Generate a list of all even numbers and check if the number is in the list.\n",
    "Interactive Tip: Write down your answer and explain in two sentences why your choices are the most efficient. (Hint: Methods with O(1) - complexity are best for this check.)\n",
    "\n",
    "My Answer:\n",
    "Number 2, checking the last digit manually is only checking one digit and out of five options which is pretty quick.\n",
    "Number 3, this is only 1 step and using the modulus operator is very common to check is a number is even."
   ]
  },
  {
   "cell_type": "code",
   "execution_count": 3,
   "metadata": {},
   "outputs": [
    {
     "name": "stdout",
     "output_type": "stream",
     "text": [
      "Testing with data size: 20000000\n",
      "Linear search: 6.593367 seconds\n",
      "Binary search: 0.000099 seconds\n",
      "Binary search is approximately 66799x faster\n"
     ]
    }
   ],
   "source": [
    "\n",
    "import time\n",
    "import random\n",
    "\n",
    "# Generate a large sorted list\n",
    "data_size = 20000000\n",
    "sorted_data = sorted(random.sample(range(200000000), data_size))\n",
    "\n",
    "# Target to find (worst case for linear search)\n",
    "target = sorted_data[-1]  # Last element\n",
    "\n",
    "# O(n) - Linear Search\n",
    "def linear_search(arr, target):\n",
    "    for i, element in enumerate(arr):\n",
    "        if element == target:\n",
    "            return i\n",
    "    return -1\n",
    "\n",
    "# O(log n) - Binary Search\n",
    "def binary_search(arr, target):\n",
    "    left, right = 0, len(arr) - 1\n",
    "    \n",
    "    while left <= right:\n",
    "        mid = (left + right) // 2\n",
    "        if arr[mid] == target:\n",
    "            return mid\n",
    "        elif arr[mid] < target:\n",
    "            left = mid + 1\n",
    "        else:\n",
    "            right = mid - 1\n",
    "    \n",
    "    return -1\n",
    "\n",
    "# Compare performance\n",
    "print(\"Testing with data size:\", data_size)\n",
    "\n",
    "start = time.time()\n",
    "linear_result = linear_search(sorted_data, target)\n",
    "linear_time = time.time() - start\n",
    "print(f\"Linear search: {linear_time:.6f} seconds\")\n",
    "\n",
    "start = time.time()\n",
    "binary_result = binary_search(sorted_data, target)\n",
    "binary_time = time.time() - start\n",
    "print(f\"Binary search: {binary_time:.6f} seconds\")\n",
    "\n",
    "print(f\"Binary search is approximately {linear_time/binary_time:.0f}x faster\")"
   ]
  },
  {
   "cell_type": "markdown",
   "metadata": {},
   "source": [
    "## Popcorn Hack 2\n",
    "What is the time complexity of each algorithm?\n",
    "- Linear Search: O(n) —> it may need to check every element. \n",
    "- Binary Search: O(log n) —> it repeatedly halves the search space.\n",
    "\n",
    "How many times faster is binary search than linear search?\n",
    "- Binary search is approximately 22811x faster\n",
    "\n",
    "What happens if you increase data_size to 20000000?\n",
    "- The linear search time should double to 4.6 seconds approximately\n",
    "- The binary search time should not increase almost at all because the log graph grows very slowly so the time will be very identical.\n",
    "\n",
    "## Homework Hack 1"
   ]
  },
  {
   "cell_type": "code",
   "execution_count": null,
   "metadata": {},
   "outputs": [
    {
     "name": "stdout",
     "output_type": "stream",
     "text": [
      "Bubble Sort time: 7.669099 seconds\n",
      "Merge Sort time: 0.032528 seconds\n",
      "Faster Algorithm: Merge Sort\n"
     ]
    }
   ],
   "source": [
    "import time\n",
    "import random\n",
    "\n",
    "# Bubble Sort function\n",
    "def bubble_sort(arr):\n",
    "    n = len(arr)\n",
    "    for i in range(n - 1):\n",
    "        for j in range(n - i - 1):\n",
    "            if arr[j] > arr[j + 1]:\n",
    "                arr[j], arr[j + 1] = arr[j + 1], arr[j]\n",
    "\n",
    "# Merge Sort function\n",
    "def merge_sort(arr):\n",
    "    if len(arr) <= 1:\n",
    "        return arr\n",
    "    mid = len(arr) // 2\n",
    "    left = merge_sort(arr[:mid])\n",
    "    right = merge_sort(arr[mid:])\n",
    "    return merge(left, right)\n",
    "\n",
    "def merge(left, right):\n",
    "    result = []\n",
    "    i = j = 0\n",
    "    while i < len(left) and j < len(right):\n",
    "        if left[i] < right[j]:\n",
    "            result.append(left[i])\n",
    "            i += 1\n",
    "        else:\n",
    "            result.append(right[j])\n",
    "            j += 1\n",
    "    result.extend(left[i:])\n",
    "    result.extend(right[j:])\n",
    "    return result\n",
    "\n",
    "# Generate random list\n",
    "random_data = [random.randint(1, 10000) for _ in range(10000)]\n",
    "data_for_bubble = random_data[:]\n",
    "data_for_merge = random_data[:]\n",
    "\n",
    "# Time Bubble Sort\n",
    "start = time.time()\n",
    "bubble_sort(data_for_bubble)\n",
    "bubble_time = time.time() - start\n",
    "\n",
    "# Time Merge Sort\n",
    "start = time.time()\n",
    "merge_sort(data_for_merge)\n",
    "merge_time = time.time() - start\n",
    "\n",
    "print(f\"Bubble Sort time: {bubble_time:.6f} seconds\")\n",
    "print(f\"Merge Sort time: {merge_time:.6f} seconds\")\n",
    "print(\"Faster Algorithm:\", \"Merge Sort\" if merge_time < bubble_time else \"Bubble Sort\")"
   ]
  },
  {
   "cell_type": "markdown",
   "metadata": {},
   "source": [
    "Merge Sort consistently outperforms Bubble Sort because it uses a divide-and-conquer strategy that breaks the list into smaller parts and sorts them efficiently, achieving a time complexity of O(n log n). In contrast, Bubble Sort compares and swaps elements repeatedly, making it inefficient with a time complexity of O(n²). This makes Merge Sort much faster, especially as the size of the dataset grows.\n",
    "\n",
    "## Homework Hack 2"
   ]
  },
  {
   "cell_type": "code",
   "execution_count": 7,
   "metadata": {},
   "outputs": [
    {
     "name": "stdout",
     "output_type": "stream",
     "text": [
      "Target number: 20295\n",
      "Linear Search comparisons: 20295\n",
      "Binary Search comparisons: 17\n"
     ]
    }
   ],
   "source": [
    "import random\n",
    "\n",
    "# Linear Search\n",
    "def linear_search(arr, target):\n",
    "    count = 0\n",
    "    for i in range(len(arr)):\n",
    "        count += 1\n",
    "        if arr[i] == target:\n",
    "            return count\n",
    "    return -1\n",
    "\n",
    "# Binary Search\n",
    "def binary_search(arr, target):\n",
    "    left, right = 0, len(arr) - 1\n",
    "    count = 0\n",
    "    while left <= right:\n",
    "        count += 1\n",
    "        mid = (left + right) // 2\n",
    "        if arr[mid] == target:\n",
    "            return count\n",
    "        elif arr[mid] < target:\n",
    "            left = mid + 1\n",
    "        else:\n",
    "            right = mid - 1\n",
    "    return -1\n",
    "\n",
    "# Generate sorted list of 100,000 numbers\n",
    "sorted_list = list(range(1, 100001))\n",
    "\n",
    "# Pick a random number from the list\n",
    "random_target = random.choice(sorted_list)\n",
    "\n",
    "# Run both searches and count comparisons\n",
    "linear_comparisons = linear_search(sorted_list, random_target)\n",
    "binary_comparisons = binary_search(sorted_list, random_target)\n",
    "\n",
    "# Print results\n",
    "print(f\"Target number: {random_target}\")\n",
    "print(f\"Linear Search comparisons: {linear_comparisons}\")\n",
    "print(f\"Binary Search comparisons: {binary_comparisons}\")\n"
   ]
  },
  {
   "cell_type": "markdown",
   "metadata": {},
   "source": [
    "Which search algorithm is faster, and why?\n",
    "- Binary Search is faster because it eliminates half of the remaining elements with each comparison, leading to a time complexity of O(log n). It only works on sorted lists. In contrast, Linear Search checks each element one by one and has a time complexity of O(n), making it much slower for large datasets.\n",
    "\n",
    "What happens if you run both searches on an unsorted list?\n",
    "- Linear Search still works correctly on unsorted lists because it doesn't rely on any order; it simply checks each item one by one.\n",
    "- Binary Search will not work correctly on unsorted lists. Since it assumes the list is sorted to eliminate half the possibilities, running it on an unsorted list can lead to incorrect results or missed targets."
   ]
  }
 ],
 "metadata": {
  "kernelspec": {
   "display_name": "venv",
   "language": "python",
   "name": "python3"
  },
  "language_info": {
   "codemirror_mode": {
    "name": "ipython",
    "version": 3
   },
   "file_extension": ".py",
   "mimetype": "text/x-python",
   "name": "python",
   "nbconvert_exporter": "python",
   "pygments_lexer": "ipython3",
   "version": "3.12.4"
  }
 },
 "nbformat": 4,
 "nbformat_minor": 2
}
