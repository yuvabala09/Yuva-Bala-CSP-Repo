{
 "cells": [
  {
   "cell_type": "markdown",
   "metadata": {},
   "source": [
    "---\n",
    "layout: post\n",
    "title: Homework Certification for Final Review\n",
    "type: issues\n",
    "comments: True\n",
    "---"
   ]
  },
  {
   "cell_type": "markdown",
   "metadata": {},
   "source": [
    "| Lesson Title                  | Hacks                                                                 |\n",
    "|-------------------------------|-----------------------------------------------------------------------|\n",
    "| 3.1 Variables & Assignment Hacks and Homework        | [Link](https://yuvabala09.github.io/yuvabalacsprepo/2024/10/07/BigIdea3.1_IPYNB_2_.html) |\n",
    "| 3.2 Data Types and Input Hacks and Homework        | [Link](https://yuvabala09.github.io/yuvabalacsprepo/2024/10/11/BigIdea3.2_IPYNB_2_.html) |\n",
    "| 3.4 Operators and Expressions Hacks and Homework        | [Link](https://yuvabala09.github.io/yuvabalacsprepo/2024/10/07/BigIdea3.4_IPYNB_2_.html) |\n",
    "| 3.6 Conditionals Hacks and Homework        | [Link](https://yuvabala09.github.io/yuvabalacsprepo/2024/10/09/BigIdea3.6_IPYNB_2_.html) |\n",
    "| 3.7 Nested Conditionals Hacks and Homework        | [Link](https://yuvabala09.github.io/yuvabalacsprepo/2024/10/09/BigIdea3.7_IPYNB_2_.html) |\n",
    "| 3.8 Iteration Hacks and Homework        | [Link](https://yuvabala09.github.io/yuvabalacsprepo/2024/10/09/BigIdea3.8_IPYNB_2_.html) |\n",
    "| 3.10.1 Lists Hacks and Homework     | [Link](https://yuvabala09.github.io/yuvabalacsprepo/2024/10/10/BigIdea3.10.1_IPYNB_2_.html) |\n",
    "| 3.10.2 Lists Hacks and Homework     | [Link](https://yuvabala09.github.io/yuvabalacsprepo/2024/10/11/BigIdea3.10.2_IPYNB_2_.html) |"
   ]
  },
  {
   "cell_type": "markdown",
   "metadata": {},
   "source": [
    "| Lesson                             | Hacks                                                                 |\n",
    "|------------------------------------|-----------------------------------------------------------------------|\n",
    "| Beneficial and Harmful Effects     | [Link](https://yuvabala09.github.io/yuvabalacsprepo/2025/03/20/5.1-Beneficial-and-Harmful-Effects_IPYNB_2_.html) |\n",
    "| Digital Divide                     | [Link](https://yuvabala09.github.io/yuvabalacsprepo/2025/03/21/Digital-Divide-P2_IPYNB_2_.html) |\n",
    "| Computing Bias                     | [Link](https://yuvabala09.github.io/yuvabalacsprepo/2025/03/24/Computing-Bias_IPYNB_2_.html) |\n",
    "| Crowdsourcing                      | [Link](https://yuvabala09.github.io/yuvabalacsprepo/2025/03/25/Crowdsourcing_IPYNB_2_.html) |\n",
    "| Safe Computing                     | [Link](https://yuvabala09.github.io/yuvabalacsprepo/2025/04/01/Safe-Computing_IPYNB_2_.html) |\n",
    "| Binary Search                      | [Link](https://yuvabala09.github.io/yuvabalacsprepo/2025/04/07/Binary-Search_IPYNB_2_.html) |\n",
    "| Lists & Filtering Algorithms       | [Link](https://yuvabala09.github.io/yuvabalacsprepo/2025/04/09/Lists-Lesson_IPYNB_2_.html) |\n",
    "| Big O and Algorithm Efficiency     | [Link](https://yuvabala09.github.io/yuvabalacsprepo/2025/04/21/Big-O-Lesson_IPYNB_2_.html) |"
   ]
  }
 ],
 "metadata": {
  "language_info": {
   "name": "python"
  }
 },
 "nbformat": 4,
 "nbformat_minor": 2
}
