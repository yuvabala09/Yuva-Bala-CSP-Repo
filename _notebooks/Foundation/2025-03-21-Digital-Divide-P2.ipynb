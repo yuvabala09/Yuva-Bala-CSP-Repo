{
 "cells": [
  {
   "cell_type": "markdown",
   "metadata": {},
   "source": [
    "---\n",
    "layout: post\n",
    "title: Digital Divide Period 2\n",
    "type: issues\n",
    "comments: True\n",
    "---"
   ]
  },
  {
   "cell_type": "markdown",
   "metadata": {},
   "source": [
    "# Popcorn Hack 1\n",
    "- There is a lot of digital divide in the education field since a large percentage of kids not only have limited access, or no access to devices, but dont even have the opportunity to go to school. For kids who live in developing countries, education itself isn't even a priority, let alone the use of computers. Since many kids around the world dont even have the chance of using a computer once, the digital divide only increases with each passing day, making it much harder for the youth who dont have access to computers to compete for a better future. This leaves people who have a poorer socio-economic backgound in a circle of labor, and doesn't give them a chance to escape poverty."
   ]
  },
  {
   "cell_type": "markdown",
   "metadata": {},
   "source": [
    "# Popcorn Hack 2\n",
    "- A computing innovation that may unintentionally exclude certain groups is the Iphone. There are many people who dont have the ability to use a phone since they miss hands, which could leave them feeling excluded from being able to interact with people online. The VR headset also unintentinally excludes people who are blind as they wont be able to experience the joy of being able to visualize a dream. "
   ]
  },
  {
   "cell_type": "markdown",
   "metadata": {},
   "source": [
    "# Homework Hack\n",
    "- When I went to India in 2017-2018, I was old enough to realize the differences between the educational experience of kids in India and kids in America. Many kids in India were begging on the streets when it was clearly time for school. Many of them had no opportunity to use a computer The location (no internet in rural areas), the access to technology (no computers available in certain regions), the economic status (many families were in poverty and could not send their child to private school, which is the standard in India for a good education), all come together and play a role in creating the digital divide between the local Indian children and future opportunities. I could personally try to help bridge this gap by creating awareness for this problem. I am currently creating a website for underpriveldged youth which acts as an online school with structures curriculum, and a page dedicated to creating awareness and securing donations for organization that prioritize equity in education. "
   ]
  }
 ],
 "metadata": {
  "language_info": {
   "name": "python"
  }
 },
 "nbformat": 4,
 "nbformat_minor": 2
}
