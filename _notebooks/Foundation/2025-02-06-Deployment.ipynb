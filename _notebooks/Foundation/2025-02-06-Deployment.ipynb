{
 "cells": [
  {
   "cell_type": "markdown",
   "metadata": {},
   "source": [
    "---\n",
    "layout: post\n",
    "title: Deployment\n",
    "description:  Blog for Deployment Instructions\n",
    "type: issues \n",
    "comments: true\n",
    "---"
   ]
  },
  {
   "cell_type": "markdown",
   "metadata": {},
   "source": [
    "# Deployment\n",
    "\n",
    "## Step 1: Prerequisits \n",
    "- Review the frontend and backend servers to make sure everything you want to show on your website is there and working.\n",
    "- Have a deployment blog for your group, and include steps, terms, visuals and the purpose and process of deployment.\n",
    "- Create an issue on flocker-frontend kanban board with roles for everybody on the group.\n",
    "- Get account credentials from Mr. Mortensen\n",
    "- Use the AWS cockpit to begin deployment process."
   ]
  },
  {
   "cell_type": "markdown",
   "metadata": {},
   "source": [
    "## Step 2: Testing your Server\n",
    "- Make sure that your localhost is working (frontend to backend integration). Use postman and other tools to check backend functionality. If there is a problem locally with a feature or the whole website, you need to debug and fix it before deploying."
   ]
  },
  {
   "cell_type": "markdown",
   "metadata": {},
   "source": [
    "## Step 3: Subdomain\n",
    "- Setup the DNS endpoint through AWS Route 53.\n",
    "- Server: https://takeabyte.stu.nighthawkcodingsociety.com/\n",
    "- Domain: stu.nighthawkcodingsociety.com\n",
    "- Subdomain: takeabyte"
   ]
  },
  {
   "cell_type": "markdown",
   "metadata": {},
   "source": [
    "## Step 4: Ports\n",
    "- You need to select a port for your website, 8887 is Mortensens, our groups port is 8403.\n",
    "\n",
    "## Backend Changes\n",
    "- main.py: Prepare the localhost test server port to run on 8403 for consistency (change all of the 8887 to 8403)"
   ]
  },
  {
   "cell_type": "code",
   "execution_count": null,
   "metadata": {},
   "outputs": [],
   "source": [
    "if __name__ == \"__main__\":\n",
    "   with app.app_context():\n",
    "       app.run(debug=True, host=\"0.0.0.0\", port=\"8403\")"
   ]
  },
  {
   "cell_type": "markdown",
   "metadata": {},
   "source": [
    "- Dockerfile: Change this file to run the server as a virtual machine on the deployment host."
   ]
  },
  {
   "cell_type": "code",
   "execution_count": null,
   "metadata": {},
   "outputs": [],
   "source": [
    "FROM docker.io/python:3.12.4\n",
    "\n",
    "WORKDIR /\n",
    "\n",
    "# --- [Install python and pip] ---\n",
    "RUN apt-get update && apt-get upgrade -y && \\\n",
    "    apt-get install -y python3 python3-pip git\n",
    "COPY . /\n",
    "\n",
    "RUN pip install --no-cache-dir -r requirements.txt\n",
    "RUN pip install gunicorn\n",
    "\n",
    "ENV GUNICORN_CMD_ARGS=\"--workers=3 --bind=0.0.0.0:8403\"\n",
    "\n",
    "EXPOSE 8403\n",
    "\n",
    "# Define environment variable\n",
    "ENV FLASK_ENV=deploy\n",
    "\n",
    "CMD [ \"gunicorn\", \"main:app\" ]"
   ]
  },
  {
   "cell_type": "markdown",
   "metadata": {},
   "source": [
    "- docker-compose.yml: Change this file to be the make for Docker."
   ]
  },
  {
   "cell_type": "code",
   "execution_count": null,
   "metadata": {},
   "outputs": [],
   "source": [
    "version: '3'\n",
    "services:\n",
    "        web:\n",
    "                image: takeabyte\n",
    "                build: .\n",
    "                env_file:\n",
    "                        - .env # This file is optional; defaults will be used if it does not exist\n",
    "                ports:\n",
    "                        - \"8403:8403\"\n",
    "                volumes:\n",
    "                        - ./instance:/instance\n",
    "                restart: unless-stopped"
   ]
  },
  {
   "cell_type": "markdown",
   "metadata": {},
   "source": [
    "nginx_file: Change file for reverse proxy (internet -> application -> back to requester)"
   ]
  },
  {
   "cell_type": "code",
   "execution_count": null,
   "metadata": {},
   "outputs": [],
   "source": [
    "server {\n",
    "    listen 80;\n",
    "    listen [::]:80;\n",
    "    server_name takeabyte.stu.nighthawkcodingsociety.com;\n",
    "\n",
    "    location / {\n",
    "            proxy_pass http://localhost:8403;\n",
    "\n",
    "        # Preflighted requests\n",
    "        if ($request_method = OPTIONS) {\n",
    "                add_header \"Access-Control-Allow-Credentials\" \"true\" always;\n",
    "                add_header \"Access-Control-Allow-Origin\"  \"https://nighthawkcoders.github.io\" always;\n",
    "                add_header \"Access-Control-Allow-Methods\" \"GET, POST, PUT, DELETE, OPTIONS, HEAD\" always;\n",
    "                add_header \"Access-Control-Allow-MaxAge\" 600 always;\n",
    "                add_header \"Access-Control-Allow-Headers\" \"Authorization, Origin, X-Origin, X-Requested-With, Content-Type, Accept\" always;\n",
    "                return 204;\n",
    "        }\n",
    "    }\n",
    "}"
   ]
  },
  {
   "cell_type": "markdown",
   "metadata": {},
   "source": [
    "## Frontend Changes:\n",
    "- assets/api/config.js: Change the frontend to access your domain, ports must match to your localhost, port, and domain settings."
   ]
  },
  {
   "cell_type": "code",
   "execution_count": null,
   "metadata": {},
   "outputs": [],
   "source": [
    "export var pythonURI;\n",
    "if (location.hostname === \"localhost\") {\n",
    "        pythonURI = \"http://localhost:8403\";\n",
    "} else if (location.hostname === \"127.0.0.1\") {\n",
    "        pythonURI = \"http://127.0.0.1:8403\";\n",
    "} else {\n",
    "        pythonURI =  \"https://takeabyte.stu.nighthawkcodingsociety.com\";\n",
    "}"
   ]
  },
  {
   "cell_type": "markdown",
   "metadata": {},
   "source": [
    "## Step 5: Launching an EC2 Instance\n",
    "- Log into AWS Console: Go to EC2 Dashboard. To login to the deployment server on AWS EC2, you need to use the cockpit backdoor. https://cockpit.stu.nighthawkcodingsociety.com/\n",
    "\n",
    "- Then you will need to launch a new EC2 instance"
   ]
  },
  {
   "cell_type": "markdown",
   "metadata": {},
   "source": [
    "## Step 6: Deployment\n",
    "- Make sure your port is open (8403) using `docker ps`"
   ]
  },
  {
   "cell_type": "markdown",
   "metadata": {},
   "source": [
    "- Make sure your `Dockerfile` and `docker-compose.yml` match the port (8403) discovered with the `docker ps` on AWS EC2.\n",
    "- Test `docker-compose up` or `sudo docker-compose up` \n",
    "- After it is done building, type in `http://localhost:8403`"
   ]
  },
  {
   "cell_type": "markdown",
   "metadata": {},
   "source": [
    "## Step 7: Server Setup\n",
    "- `cd ~` \n",
    "- Clone your backend repo: `git clone https://github.com/lalita1809/takeabyte_backend.git`\n",
    "- Navigate to the repo: `cd takeabyte_backend`\n",
    "- Build your site using `docker-compose up -d --build`\n",
    "- Test your site using `curl localhost:8403`\n",
    "    - Make sure your see a bunch of html code lines in your terminal (represents the content of your home page). If you see an error message, it means your server is not running properly, and you need to debug on your localhost. If there is a broken pipe error, you need to check your ports in docker-compose.yml and all the Docker file. Check docker ps to make sure that your port is only being used by your group, not any other group.\n",
    "- Configure Route 53 DNS for the subdomain. "
   ]
  },
  {
   "cell_type": "markdown",
   "metadata": {},
   "source": [
    "## Step 8: Nginx Setup"
   ]
  },
  {
   "cell_type": "code",
   "execution_count": null,
   "metadata": {
    "vscode": {
     "languageId": "shellscript"
    }
   },
   "outputs": [],
   "source": [
    "cd /etc/nginx/sites-available\n",
    "sudo nano takeabyte.nginx_file takeabyte.stu\n",
    "cd /etc/nginx/sites-enabled\n",
    "sudo ln -s /etc/nginx/sites-available/takeabyte.stu /etc/nginx/sites-enabled\n",
    "sudo nginx -t\n",
    "sudo systemctl restart nginx"
   ]
  },
  {
   "cell_type": "markdown",
   "metadata": {},
   "source": [
    "Use the"
   ]
  },
  {
   "cell_type": "code",
   "execution_count": null,
   "metadata": {
    "vscode": {
     "languageId": "jade"
    }
   },
   "outputs": [],
   "source": [
    "cat takeabyte.stu"
   ]
  },
  {
   "cell_type": "markdown",
   "metadata": {},
   "source": [
    "to check if the contents of the nginx file are correctly copied into takeabyte.stu in sites available."
   ]
  },
  {
   "cell_type": "markdown",
   "metadata": {},
   "source": [
    "secure the server with Cerbot (SSL):"
   ]
  },
  {
   "cell_type": "code",
   "execution_count": null,
   "metadata": {
    "vscode": {
     "languageId": "jade"
    }
   },
   "outputs": [],
   "source": [
    "sudo cerbot --nginx"
   ]
  },
  {
   "cell_type": "markdown",
   "metadata": {},
   "source": [
    "## Step 9: Update Deployment Process\n",
    "- pull the latest changes in from the repository"
   ]
  },
  {
   "cell_type": "code",
   "execution_count": null,
   "metadata": {
    "vscode": {
     "languageId": "jade"
    }
   },
   "outputs": [],
   "source": [
    "cd ~/takeabyte_backend\n",
    "docker-compose down \n",
    "git pull\n",
    "docker-compose build\n",
    "docker-compose up -d\n",
    "sudo cp -f takeabyte.nginx_file /etc/nginx/sites-available/takeabyte.stu"
   ]
  },
  {
   "cell_type": "markdown",
   "metadata": {},
   "source": [
    "troubleshoot if there are any errors"
   ]
  },
  {
   "cell_type": "code",
   "execution_count": null,
   "metadata": {
    "vscode": {
     "languageId": "jade"
    }
   },
   "outputs": [],
   "source": [
    "curl localhost:8403\n",
    "docker-compose ps\n",
    "docker ps"
   ]
  }
 ],
 "metadata": {
  "language_info": {
   "name": "python"
  }
 },
 "nbformat": 4,
 "nbformat_minor": 2
}
