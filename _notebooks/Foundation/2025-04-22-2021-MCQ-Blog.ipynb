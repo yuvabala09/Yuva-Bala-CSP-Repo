{
 "cells": [
  {
   "cell_type": "markdown",
   "metadata": {},
   "source": [
    "---\n",
    "layout: post\n",
    "title: 2021 MCQ Corrections\n",
    "type: issues\n",
    "comments: True\n",
    "---"
   ]
  },
  {
   "cell_type": "markdown",
   "metadata": {},
   "source": [
    "## 2021 MCQ Corrections \n",
    "\n",
    "- I got 67/70 which was a big improvement over my last scores. Although I got a 67/70, I did feel that I got a bit lucky as I had guessed some of the answers in the last part of the test as I was running out of focus. In total, I finished in 1.5 hours which is a much better time than my usual 2 hour time. I still need to improve my rate at reading code as that can always be better not just for the CSP AP test but also for real life coding. "
   ]
  },
  {
   "cell_type": "markdown",
   "metadata": {},
   "source": [
    "| Number | Question                                    | Topic                  | Skills |\n",
    "|--------|---------------------------------------------|------------------------|--------|\n",
    "| 24     | Lossy Compression scenario                  | 2.2                    | 1.D    |\n",
    "| 55     | Move element from end of list to beginning  | 3.10                   | 2.B    |\n",
    "| 68     | Error in remove duplicate code segment      | 1.4, 3.8, 3.10       | 1.B    |\n"
   ]
  },
  {
   "cell_type": "markdown",
   "metadata": {},
   "source": [
    "# Questions 24\n",
    "![2021mcqq24](yuvabalacsprepo/images/2021mcqcspq24.png)\n",
    "\n",
    "### What I Chose:\n",
    "- Answer D\n",
    "- Incorrect. In situations where quality is maximally important, lossless compression algorithms are typically chosen.\n",
    "\n",
    "### Correct Answer:\n",
    "- Answer C\n",
    "- Correct. In situations where minimizing data size or transmission time is maximally important, lossy compression algorithms are typically chosen."
   ]
  },
  {
   "cell_type": "markdown",
   "metadata": {},
   "source": [
    "# Question 55\n",
    "![2021mcqq55](yuvabalacsprepo/images/2021mcqcspq55.png)\n",
    "\n",
    "### What I Chose:\n",
    "- Answer A\n",
    "- Incorrect. This code segment assigns the value of the last element of the list to the variable temp, then removes the last element of the list, then appends temp to the end of the list. The resulting list is the same as the original list.\n",
    "\n",
    "### Correct Answer:\n",
    "- Answer C\n",
    "- Correct. This code segment assigns the value of the last element of the list to the variable temp, then removes the last element of the list, then inserts temp as the first element of the list."
   ]
  },
  {
   "cell_type": "markdown",
   "metadata": {},
   "source": [
    "# Question 68\n",
    "![2021mcqq68](yuvabalacsprepo/images/2021mcqcspq68.png)\n",
    "\n",
    "### What I Chose:\n",
    "- Answer A\n",
    "- Correct. The code segment will iterate over myList from right to left, removing each element that is equal in value to the element immediately preceding it. For this list, the code segment will remove the sixth element (10), the fourth element (20), and the second element (10). This results in the list [10, 20, 10], which still contains duplicates.\n",
    "\n",
    "- Answer B\n",
    "- Incorrect. The code segment will iterate over myList from right to left, removing the sixth element (20), the third element (30), and the second element (30). This results in the list [30, 10, 20], which contains no duplicates, as intended.\n",
    "\n",
    "### Correct Answers:\n",
    "- Answer A\n",
    "- Correct. The code segment will iterate over myList from right to left, removing each element that is equal in value to the element immediately preceding it. For this list, the code segment will remove the sixth element (10), the fourth element (20), and the second element (10). This results in the list [10, 20, 10], which still contains duplicates.\n",
    "\n",
    "- Answer C\n",
    "- Correct. The code segment will iterate over myList from right to left, removing each element that is equal in value to the element immediately preceding it. This list does not contain any pairs of adjacent elements that are equal in value, so no elements will be removed even though the value 40 appears twice in the list."
   ]
  },
  {
   "cell_type": "markdown",
   "metadata": {},
   "source": [
    "# Units to Study from this MCQ:\n",
    "\n",
    "## Unit 2.2 (0/1)\n",
    "\n",
    "In AP Computer Science Principles, Unit 2.2 focuses on data compression, which is the process of reducing the number of bits used to represent digital data. As the amount of digital information we handle continues to grow, data compression becomes essential for storing and transmitting data more efficiently. There are two main types of data compression: lossless and lossy. Lossless compression reduces file size without losing any data, meaning the original content can be perfectly reconstructed. Common examples of lossless compression include ZIP files and PNG images. In contrast, lossy compression permanently removes some data to achieve greater compression, which results in reduced quality but much smaller file sizes. Examples of lossy compression include MP3 audio files and JPEG images, where the loss in data is often not noticeable to the average user.\n",
    "\n",
    "## Unit 3.10 (3/5)\n",
    "\n",
    "In AP Computer Science Principles, Unit 3.10 focuses on lists, which are one of the most important and commonly used data structures in programming. A list is an ordered collection of elements, which can include numbers, text, or other types of data. Lists allow programmers to store multiple items in a single variable and access or manipulate them using their position, or index, in the list. In most programming languages used in AP CSP, such as Python or pseudocode, lists are indexed starting at 0. This means that the first element is at position 0, the second at position 1, and so on. Students learn how to create lists, access elements, update values, and perform operations like appending, inserting, removing, and slicing parts of a list."
   ]
  }
 ],
 "metadata": {
  "language_info": {
   "name": "python"
  }
 },
 "nbformat": 4,
 "nbformat_minor": 2
}
