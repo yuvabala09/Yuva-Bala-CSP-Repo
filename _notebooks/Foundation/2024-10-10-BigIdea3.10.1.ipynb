{
 "cells": [
  {
   "cell_type": "markdown",
   "metadata": {},
   "source": [
    "---\n",
    "layout: post\n",
    "title: 3.10.1 Hacks and Homework\n",
    "description:  3.10.1 Big Idea Hacks and Homework\n",
    "type: issues \n",
    "comments: true\n",
    "---"
   ]
  },
  {
   "cell_type": "markdown",
   "metadata": {},
   "source": [
    "# Popcorn Hack 1 (Python) Bonus"
   ]
  },
  {
   "cell_type": "code",
   "execution_count": 1,
   "metadata": {},
   "outputs": [
    {
     "name": "stdout",
     "output_type": "stream",
     "text": [
      "\n",
      "Items in the list:\n",
      "book\n",
      "computer\n",
      "pencil\n"
     ]
    }
   ],
   "source": [
    "# Initialize an empty list\n",
    "a_list = []\n",
    "\n",
    "# Define how many inputs you'd like to take\n",
    "num_of_items = 3\n",
    "\n",
    "# Loop to take input and append to the list\n",
    "for _ in range(num_of_items):\n",
    "    user_input = input(\"Enter an item: \")\n",
    "    a_list.append(user_input)\n",
    "\n",
    "# Print each item in the list using a for loop\n",
    "print(\"\\nItems in the list:\")\n",
    "for item in a_list:\n",
    "    print(item)"
   ]
  },
  {
   "cell_type": "markdown",
   "metadata": {},
   "source": [
    "# Popcorn Hack 1 (Javascript)"
   ]
  },
  {
   "cell_type": "code",
   "execution_count": null,
   "metadata": {
    "vscode": {
     "languageId": "javascript"
    }
   },
   "outputs": [],
   "source": [
    "// Initialize an empty array\n",
    "let a_list = [];\n",
    "\n",
    "// Define how many items you'd like to input\n",
    "const num_of_items = 3; // You can change this number as needed\n",
    "\n",
    "// Loop to take input and append to the array\n",
    "for (let i = 0; i < num_of_items; i++) {\n",
    "    let user_input = prompt(`Enter item ${i + 1}:`);\n",
    "    a_list.push(user_input);\n",
    "}\n",
    "\n",
    "// Print each item in the array using a for loop\n",
    "console.log(\"\\nItems in the list:\");\n",
    "for (let i = 0; i < a_list.length; i++) {\n",
    "    console.log(a_list[i]);\n",
    "}"
   ]
  },
  {
   "cell_type": "markdown",
   "metadata": {},
   "source": [
    "# Popcorn Hack 2 (Javascript)"
   ]
  },
  {
   "cell_type": "code",
   "execution_count": 7,
   "metadata": {
    "vscode": {
     "languageId": "javascript"
    }
   },
   "outputs": [
    {
     "data": {
      "application/javascript": "// Initialize an empty array\nlet aList = [];\n\n// Prompt the user for the number of items\nconst num_of_items = parseInt(prompt(\"Enter the number of items you want in the list:\"));\n\n// Loop to take input and append to the array\nfor (let i = 0; i < num_of_items; i++) {\n    let item = prompt(`Enter item ${i + 1}:`);\n    aList.push(item);\n}\n\n// Check if there are at least 2 items and display the second element\nif (aList.length >= 2) {\n    console.log(`\\nThe second element is: ${aList[1]}`);\n} else {\n    console.log(\"\\nThe list has less than 2 items, no second element to display.\");\n}\n\n// Delete the second element if it exists\nif (aList.length >= 2) {\n    aList.splice(1, 1); // Removes the element at index 1\n    console.log(\"\\nThe second element has been deleted.\");\n} else {\n    console.log(\"\\nNo second element to delete.\");\n}\n\n// Display the updated list\nconsole.log(\"Updated list:\", aList);\n",
      "text/plain": [
       "<IPython.core.display.Javascript object>"
      ]
     },
     "metadata": {},
     "output_type": "display_data"
    }
   ],
   "source": [
    "%%js\n",
    "// Initialize an empty array\n",
    "let aList = [];\n",
    "\n",
    "// Prompt the user for the number of items\n",
    "const num_of_items = parseInt(prompt(\"Enter the number of items you want in the list:\"));\n",
    "\n",
    "// Loop to take input and append to the array\n",
    "for (let i = 0; i < num_of_items; i++) {\n",
    "    let item = prompt(`Enter item ${i + 1}:`);\n",
    "    aList.push(item);\n",
    "}\n",
    "\n",
    "// Check if there are at least 2 items and display the second element\n",
    "if (aList.length >= 2) {\n",
    "    console.log(`\\nThe second element is: ${aList[1]}`);\n",
    "} else {\n",
    "    console.log(\"\\nThe list has less than 2 items, no second element to display.\");\n",
    "}\n",
    "\n",
    "// Delete the second element if it exists\n",
    "if (aList.length >= 2) {\n",
    "    aList.splice(1, 1); // Removes the element at index 1\n",
    "    console.log(\"\\nThe second element has been deleted.\");\n",
    "} else {\n",
    "    console.log(\"\\nNo second element to delete.\");\n",
    "}\n",
    "\n",
    "// Display the updated list\n",
    "console.log(\"Updated list:\", aList);"
   ]
  },
  {
   "cell_type": "markdown",
   "metadata": {},
   "source": [
    "# Popcorn Hack 3 (Python)"
   ]
  },
  {
   "cell_type": "code",
   "execution_count": 3,
   "metadata": {},
   "outputs": [
    {
     "name": "stdout",
     "output_type": "stream",
     "text": [
      "My favorite foods list: ['Steak', 'Sushi', 'Pasta', 'Ramen', 'Burgers', 'Tacos', 'Biryani']\n",
      "Total number of items in the list: 7\n"
     ]
    }
   ],
   "source": [
    "# Favorite foods\n",
    "favorite_foods = [\"Steak\", \"Sushi\", \"Pasta\", \"Ramen\", \"Burgers\"]\n",
    "\n",
    "# Two more items\n",
    "favorite_foods.append(\"Tacos\")\n",
    "favorite_foods.append(\"Biryani\")\n",
    "\n",
    "# Print list\n",
    "print(\"My favorite foods list:\", favorite_foods)\n",
    "\n",
    "# Print total number\n",
    "total_items = len(favorite_foods)\n",
    "print(\"Total number of items in the list:\", total_items)"
   ]
  },
  {
   "cell_type": "markdown",
   "metadata": {},
   "source": [
    "# Popcorn Hack 4 (Python)"
   ]
  },
  {
   "cell_type": "code",
   "execution_count": 4,
   "metadata": {},
   "outputs": [
    {
     "name": "stdout",
     "output_type": "stream",
     "text": [
      "The sum of all even numbers is: 50\n"
     ]
    }
   ],
   "source": [
    "# List of integers\n",
    "nums = [10, 23, 12, 17, 8, 3, 20]\n",
    "\n",
    "# Defining variable\n",
    "even_sum = 0\n",
    "\n",
    "# Iterate to find even numbers\n",
    "for num in nums:\n",
    "    if num % 2 == 0:\n",
    "        even_sum += num\n",
    "\n",
    "# Printng sum of even numbers\n",
    "print(\"The sum of all even numbers is:\", even_sum)"
   ]
  },
  {
   "cell_type": "markdown",
   "metadata": {},
   "source": [
    "# Popcorn Hack 5 (Python)"
   ]
  },
  {
   "cell_type": "code",
   "execution_count": 5,
   "metadata": {},
   "outputs": [
    {
     "name": "stdout",
     "output_type": "stream",
     "text": [
      "Banana is in the list.\n"
     ]
    }
   ],
   "source": [
    "# Define list of fruits\n",
    "fruits = [\"apple\", \"banana\", \"orange\", \"watermelon\", \"grape\"]\n",
    "\n",
    "# Check for banana using if else statements\n",
    "if \"banana\" in fruits:\n",
    "    print(\"Banana is in the list.\")\n",
    "else:\n",
    "    print(\"Banana is not in the list.\")"
   ]
  },
  {
   "cell_type": "markdown",
   "metadata": {},
   "source": [
    "# Popcorn Hack 5 (Javascript)"
   ]
  },
  {
   "cell_type": "code",
   "execution_count": 9,
   "metadata": {
    "vscode": {
     "languageId": "javascript"
    }
   },
   "outputs": [
    {
     "data": {
      "application/javascript": "// Define list of fruits\nlet fruits = [\"apple\", \"banana\", \"orange\", \"watermelon\", \"grape\"];\n\n// Check banana using if else statements\nif (fruits.includes(\"banana\")) {\n    console.log(\"Banana is in the list.\");\n} else {\n    console.log(\"Banana is not in the list.\");\n}\n",
      "text/plain": [
       "<IPython.core.display.Javascript object>"
      ]
     },
     "metadata": {},
     "output_type": "display_data"
    }
   ],
   "source": [
    "%%js\n",
    "// Define list of fruits\n",
    "let fruits = [\"apple\", \"banana\", \"orange\", \"watermelon\", \"grape\"];\n",
    "\n",
    "// Check banana using if else statements\n",
    "if (fruits.includes(\"banana\")) {\n",
    "    console.log(\"Banana is in the list.\");\n",
    "} else {\n",
    "    console.log(\"Banana is not in the list.\");\n",
    "}"
   ]
  },
  {
   "cell_type": "markdown",
   "metadata": {},
   "source": [
    "# Homework Hack 1"
   ]
  },
  {
   "cell_type": "code",
   "execution_count": 10,
   "metadata": {
    "vscode": {
     "languageId": "javascript"
    }
   },
   "outputs": [
    {
     "name": "stdout",
     "output_type": "stream",
     "text": [
      "20\n"
     ]
    }
   ],
   "source": [
    "list = [10, 20, 30, 40, 50]\n",
    "print(list[1])"
   ]
  },
  {
   "cell_type": "markdown",
   "metadata": {},
   "source": [
    "# Homework Hack 2"
   ]
  },
  {
   "cell_type": "code",
   "execution_count": 11,
   "metadata": {
    "vscode": {
     "languageId": "javascript"
    }
   },
   "outputs": [
    {
     "data": {
      "application/javascript": "let array = [10, 20, 30, 40, 50]\nconsole.log(array[1])\n",
      "text/plain": [
       "<IPython.core.display.Javascript object>"
      ]
     },
     "metadata": {},
     "output_type": "display_data"
    }
   ],
   "source": [
    "%%js \n",
    "let array = [10, 20, 30, 40, 50]\n",
    "console.log(array[1])"
   ]
  },
  {
   "cell_type": "markdown",
   "metadata": {},
   "source": [
    "# Homework Hack 3"
   ]
  },
  {
   "cell_type": "code",
   "execution_count": 13,
   "metadata": {},
   "outputs": [
    {
     "name": "stdout",
     "output_type": "stream",
     "text": [
      "\n",
      "To-Do List Menu:\n",
      "1. Add an item\n",
      "2. Remove an item\n",
      "3. View list\n",
      "4. Exit\n",
      "'2' has been added to your to-do list.\n",
      "\n",
      "To-Do List Menu:\n",
      "1. Add an item\n",
      "2. Remove an item\n",
      "3. View list\n",
      "4. Exit\n",
      "\n",
      "Your To-Do List:\n",
      "1. 2\n",
      "\n",
      "To-Do List Menu:\n",
      "1. Add an item\n",
      "2. Remove an item\n",
      "3. View list\n",
      "4. Exit\n",
      "'2' has been removed from your to-do list.\n",
      "\n",
      "To-Do List Menu:\n",
      "1. Add an item\n",
      "2. Remove an item\n",
      "3. View list\n",
      "4. Exit\n",
      "Your to-do list is empty.\n",
      "\n",
      "To-Do List Menu:\n",
      "1. Add an item\n",
      "2. Remove an item\n",
      "3. View list\n",
      "4. Exit\n",
      "Your to-do list is empty.\n",
      "\n",
      "To-Do List Menu:\n",
      "1. Add an item\n",
      "2. Remove an item\n",
      "3. View list\n",
      "4. Exit\n",
      "Your to-do list is empty.\n",
      "\n",
      "To-Do List Menu:\n",
      "1. Add an item\n",
      "2. Remove an item\n",
      "3. View list\n",
      "4. Exit\n",
      "Your to-do list is empty.\n",
      "\n",
      "To-Do List Menu:\n",
      "1. Add an item\n",
      "2. Remove an item\n",
      "3. View list\n",
      "4. Exit\n",
      "Exiting the to-do list program. Goodbye!\n"
     ]
    }
   ],
   "source": [
    "# Initialize an empty to-do list\n",
    "todo_list = []\n",
    "\n",
    "def display_menu():\n",
    "    print(\"\\nTo-Do List Menu:\")\n",
    "    print(\"1. Add an item\")\n",
    "    print(\"2. Remove an item\")\n",
    "    print(\"3. View list\")\n",
    "    print(\"4. Exit\")\n",
    "\n",
    "while True:\n",
    "    display_menu()\n",
    "    \n",
    "    # Get user choice\n",
    "    choice = input(\"Choose an option (1-4): \")\n",
    "\n",
    "    if choice == \"1\":\n",
    "        # Add an item to the list\n",
    "        item = input(\"Enter the item to add: \")\n",
    "        todo_list.append(item)\n",
    "        print(f\"'{item}' has been added to your to-do list.\")\n",
    "\n",
    "    elif choice == \"2\":\n",
    "        # Remove an item from the list\n",
    "        item = input(\"Enter the item to remove: \")\n",
    "        if item in todo_list:\n",
    "            todo_list.remove(item)\n",
    "            print(f\"'{item}' has been removed from your to-do list.\")\n",
    "        else:\n",
    "            print(f\"'{item}' not found in your to-do list.\")\n",
    "\n",
    "    elif choice == \"3\":\n",
    "        # View the list\n",
    "        if todo_list:\n",
    "            print(\"\\nYour To-Do List:\")\n",
    "            for idx, task in enumerate(todo_list, start=1):\n",
    "                print(f\"{idx}. {task}\")\n",
    "        else:\n",
    "            print(\"Your to-do list is empty.\")\n",
    "\n",
    "    elif choice == \"4\":\n",
    "        # Exit the program\n",
    "        print(\"Exiting the to-do list program. Goodbye!\")\n",
    "        break\n",
    "\n",
    "    else:\n",
    "        print(\"Invalid choice, please select a valid option (1-4).\")\n"
   ]
  },
  {
   "cell_type": "markdown",
   "metadata": {},
   "source": [
    "# Homework Hack 4"
   ]
  },
  {
   "cell_type": "code",
   "execution_count": 15,
   "metadata": {
    "vscode": {
     "languageId": "javascript"
    }
   },
   "outputs": [
    {
     "data": {
      "application/javascript": "// Initialize an empty array to hold the workouts\nlet workoutLog = [];\n\n// Function to display the workout menu\nfunction displayMenu() {\n    console.log(\"\\nWorkout Tracker Menu:\");\n    console.log(\"1. Log a workout\");\n    console.log(\"2. View workout log\");\n    console.log(\"3. Exit\");\n}\n\n// Function to log a workout\nfunction logWorkout() {\n    const type = prompt(\"Enter the type of workout (e.g., Running, Cycling):\");\n    const duration = prompt(\"Enter the duration in minutes:\");\n    const calories = prompt(\"Enter the calories burned:\");\n\n    // Create a workout object and add it to the log\n    const workout = {\n        type: type,\n        duration: duration,\n        calories: calories\n    };\n    workoutLog.push(workout);\n    console.log(`Workout logged: ${type}, Duration: ${duration} mins, Calories burned: ${calories}`);\n}\n\n// Function to view the workout log\nfunction viewWorkoutLog() {\n    if (workoutLog.length === 0) {\n        console.log(\"No workouts logged yet.\");\n        return;\n    }\n    \n    console.log(\"\\nYour Workout Log:\");\n    workoutLog.forEach((workout, index) => {\n        console.log(`${index + 1}. Type: ${workout.type}, Duration: ${workout.duration} mins, Calories: ${workout.calories}`);\n    });\n}\n\n// Main program loop\nwhile (true) {\n    displayMenu();\n    \n    const choice = prompt(\"Choose an option (1-3):\");\n    \n    if (choice === \"1\") {\n        logWorkout();\n    } else if (choice === \"2\") {\n        viewWorkoutLog();\n    } else if (choice === \"3\") {\n        console.log(\"Exiting the workout tracker. Goodbye!\");\n        break;\n    } else {\n        console.log(\"Invalid choice, please select a valid option (1-3).\");\n    }\n}\n",
      "text/plain": [
       "<IPython.core.display.Javascript object>"
      ]
     },
     "metadata": {},
     "output_type": "display_data"
    }
   ],
   "source": [
    "%%js\n",
    "// Initialize an empty array to hold the workouts\n",
    "let workoutLog = [];\n",
    "\n",
    "// Function to display the workout menu\n",
    "function displayMenu() {\n",
    "    console.log(\"\\nWorkout Tracker Menu:\");\n",
    "    console.log(\"1. Log a workout\");\n",
    "    console.log(\"2. View workout log\");\n",
    "    console.log(\"3. Exit\");\n",
    "}\n",
    "\n",
    "// Function to log a workout\n",
    "function logWorkout() {\n",
    "    const type = prompt(\"Enter the type of workout (e.g., Running, Cycling):\");\n",
    "    const duration = prompt(\"Enter the duration in minutes:\");\n",
    "    const calories = prompt(\"Enter the calories burned:\");\n",
    "\n",
    "    // Create a workout object and add it to the log\n",
    "    const workout = {\n",
    "        type: type,\n",
    "        duration: duration,\n",
    "        calories: calories\n",
    "    };\n",
    "    workoutLog.push(workout);\n",
    "    console.log(`Workout logged: ${type}, Duration: ${duration} mins, Calories burned: ${calories}`);\n",
    "}\n",
    "\n",
    "// Function to view the workout log\n",
    "function viewWorkoutLog() {\n",
    "    if (workoutLog.length === 0) {\n",
    "        console.log(\"No workouts logged yet.\");\n",
    "        return;\n",
    "    }\n",
    "    \n",
    "    console.log(\"\\nYour Workout Log:\");\n",
    "    workoutLog.forEach((workout, index) => {\n",
    "        console.log(`${index + 1}. Type: ${workout.type}, Duration: ${workout.duration} mins, Calories: ${workout.calories}`);\n",
    "    });\n",
    "}\n",
    "\n",
    "// Main program loop\n",
    "while (true) {\n",
    "    displayMenu();\n",
    "    \n",
    "    const choice = prompt(\"Choose an option (1-3):\");\n",
    "    \n",
    "    if (choice === \"1\") {\n",
    "        logWorkout();\n",
    "    } else if (choice === \"2\") {\n",
    "        viewWorkoutLog();\n",
    "    } else if (choice === \"3\") {\n",
    "        console.log(\"Exiting the workout tracker. Goodbye!\");\n",
    "        break;\n",
    "    } else {\n",
    "        console.log(\"Invalid choice, please select a valid option (1-3).\");\n",
    "    }\n",
    "}\n"
   ]
  }
 ],
 "metadata": {
  "kernelspec": {
   "display_name": "venv",
   "language": "python",
   "name": "python3"
  },
  "language_info": {
   "codemirror_mode": {
    "name": "ipython",
    "version": 3
   },
   "file_extension": ".py",
   "mimetype": "text/x-python",
   "name": "python",
   "nbconvert_exporter": "python",
   "pygments_lexer": "ipython3",
   "version": "3.12.4"
  }
 },
 "nbformat": 4,
 "nbformat_minor": 2
}
