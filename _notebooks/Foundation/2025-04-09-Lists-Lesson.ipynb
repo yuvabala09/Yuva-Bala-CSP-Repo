{
 "cells": [
  {
   "cell_type": "markdown",
   "metadata": {},
   "source": [
    "---\n",
    "layout: post\n",
    "title: Lists & Filtering Algorithms\n",
    "type: issues\n",
    "comments: True\n",
    "---"
   ]
  },
  {
   "cell_type": "markdown",
   "metadata": {},
   "source": [
    "### Popcorn Hack 1\n",
    "\n",
    "What are some possible benefits of using lists? What are some real world examples of lists being used in code ?\n",
    "\n",
    "- Lists are useful because they allow you to store and manage multiple pieces of data within a single structure. Rather than creating a separate variable for each item, you can use a list to group related data together and access each element by its index. This makes it easier to perform tasks like looping through data, sorting items, or applying the same operation to multiple values. Lists are also dynamic—you can add, remove, or modify elements whenever needed. In real-world programming, lists are used in countless ways. For example, a to-do app might use a list to keep track of tasks, while a streaming platform could store a user’s recently watched shows in a list. In video games, lists are often used to track player names and scores. Even social media platforms and search engines rely on lists to organize and display posts or search results.\n",
    "\n",
    "### Popcorn Hack 2"
   ]
  },
  {
   "cell_type": "code",
   "execution_count": 1,
   "metadata": {},
   "outputs": [
    {
     "name": "stdout",
     "output_type": "stream",
     "text": [
      "eraser\n"
     ]
    }
   ],
   "source": [
    "items = [\"pen\", \"pencil\", \"marker\", \"eraser\"]\n",
    "items.remove(\"pencil\")\n",
    "items.append(\"sharpener\")\n",
    "print(items[2])"
   ]
  },
  {
   "cell_type": "markdown",
   "metadata": {},
   "source": [
    "What does this code output?\n",
    "\n",
    "The original list is:\n",
    "- [\"pen\", \"pencil\", \"marker\", \"eraser\"]\n",
    "\n",
    "items.remove(\"pencil\")\n",
    "- This removes \"pencil\" from the list.\n",
    "Now the list becomes:\n",
    "- [\"pen\", \"marker\", \"eraser\"]\n",
    "\n",
    "items.append(\"sharpener\")\n",
    "- This adds \"sharpener\" to the end of the list.\n",
    "Now the list is:\n",
    "- [\"pen\", \"marker\", \"eraser\", \"sharpener\"]\n",
    "\n",
    "print(items[2])\n",
    "Index 2 means the third item (Python starts at 0).\n",
    "- So the third item is: \"eraser\"\n",
    "- Final answer: eraser"
   ]
  },
  {
   "cell_type": "markdown",
   "metadata": {},
   "source": [
    "### Popcorn Hack 3\n",
    "\n",
    "What are some real world examples of filtering algorithms?\n",
    "\n",
    "1. Spam Filters (Email Services):\n",
    "Email platforms like Gmail use filtering algorithms to automatically detect and move spam or phishing emails out of your inbox. These algorithms analyze keywords, sender reputation, and patterns in the email content.\n",
    "\n",
    "2. Recommendation Systems (Netflix, YouTube, Spotify):\n",
    "These platforms filter massive datasets to recommend content you’re likely to enjoy. They use filtering techniques like collaborative filtering (based on user behavior) and content-based filtering (based on item attributes).\n",
    "\n",
    "3. Search Engines (Google):\n",
    "When you search something on Google, filtering algorithms help rank and display only the most relevant results while excluding spammy or low-quality pages.\n",
    "\n",
    "### Homework Hack 1"
   ]
  },
  {
   "cell_type": "code",
   "execution_count": null,
   "metadata": {},
   "outputs": [],
   "source": [
    "# start with a list of five sports\n",
    "sports = [\"soccer\", \"basketball\", \"tennis\", \"baseball\", \"hockey\"]\n",
    "\n",
    "#1 .append(): add a new sport\n",
    "sports.append(\"golf\")            \n",
    "\n",
    "#2 .remove(): remove an item by value\n",
    "sports.remove(\"baseball\")      \n",
    "\n",
    "#3 .insert(): insert at specific index\n",
    "sports.insert(2, \"volleyball\")  \n",
    "\n",
    "#4 .pop(): remove & return last item\n",
    "last = sports.pop()              \n",
    "\n",
    "#5 .sort(): sort the list alphabetically\n",
    "sports.sort()                  \n"
   ]
  },
  {
   "cell_type": "markdown",
   "metadata": {},
   "source": [
    "To handle each item individually, use a for loop:\n",
    "\n",
    "- Start: Use the `fruits` list as your data source.\n",
    "\n",
    "- Loop: Write `for item in fruits`: to begin iterating.\n",
    "\n",
    "- Action: Inside the loop, perform an operation like `print(item)`.\n",
    "\n",
    "- Flow: The loop automatically goes through each index from start to end."
   ]
  },
  {
   "cell_type": "code",
   "execution_count": null,
   "metadata": {},
   "outputs": [],
   "source": [
    "import pandas as pd\n",
    "\n",
    "# start with a list of sports\n",
    "sports = [\"soccer\", \"basketball\", \"tennis\", \"baseball\", \"hockey\"]\n",
    "\n",
    "# build DataFrame\n",
    "df = pd.DataFrame(sports, columns=[\"sport\"])\n",
    "\n",
    "# apply filter condition (e.g., keep sports with names longer than 7 characters)\n",
    "filtered_df = df[df[\"sport\"].str.len() > 7]\n",
    "\n",
    "# extract filtered list\n",
    "long_sports = filtered_df[\"sport\"].tolist()\n",
    "# long_sports → [\"basketball\", \"baseball\"]\n"
   ]
  },
  {
   "cell_type": "markdown",
   "metadata": {},
   "source": [
    "### Final Reflection\n",
    "\n",
    "In two complete sentences, explain when and how filtering algorithms and lists are used in real life.\n",
    "\n",
    "- Filtering algorithms and lists are used in real life to manage and organize large amounts of data by selecting only the relevant information. For example, streaming services use lists to store recommended shows and apply filtering algorithms to display suggestions based on a user’s viewing history."
   ]
  }
 ],
 "metadata": {
  "kernelspec": {
   "display_name": "venv",
   "language": "python",
   "name": "python3"
  },
  "language_info": {
   "codemirror_mode": {
    "name": "ipython",
    "version": 3
   },
   "file_extension": ".py",
   "mimetype": "text/x-python",
   "name": "python",
   "nbconvert_exporter": "python",
   "pygments_lexer": "ipython3",
   "version": "3.12.4"
  }
 },
 "nbformat": 4,
 "nbformat_minor": 2
}
