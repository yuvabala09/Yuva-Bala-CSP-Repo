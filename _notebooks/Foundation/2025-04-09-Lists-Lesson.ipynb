{
 "cells": [
  {
   "cell_type": "markdown",
   "metadata": {},
   "source": [
    "---\n",
    "layout: post\n",
    "title: Lists & Filtering Algorithms\n",
    "type: issues\n",
    "comments: True\n",
    "---"
   ]
  },
  {
   "cell_type": "markdown",
   "metadata": {},
   "source": [
    "### Popcorn Hack 1\n",
    "\n",
    "What are some possible benefits of using lists? What are some real world examples of lists being used in code ?\n",
    "\n",
    "- Lists are useful because they allow you to store and manage multiple pieces of data within a single structure. Rather than creating a separate variable for each item, you can use a list to group related data together and access each element by its index. This makes it easier to perform tasks like looping through data, sorting items, or applying the same operation to multiple values. Lists are also dynamic—you can add, remove, or modify elements whenever needed. In real-world programming, lists are used in countless ways. For example, a to-do app might use a list to keep track of tasks, while a streaming platform could store a user’s recently watched shows in a list. In video games, lists are often used to track player names and scores. Even social media platforms and search engines rely on lists to organize and display posts or search results.\n",
    "\n",
    "### Popcorn Hack 2"
   ]
  },
  {
   "cell_type": "code",
   "execution_count": 1,
   "metadata": {},
   "outputs": [
    {
     "name": "stdout",
     "output_type": "stream",
     "text": [
      "eraser\n"
     ]
    }
   ],
   "source": [
    "items = [\"pen\", \"pencil\", \"marker\", \"eraser\"]\n",
    "items.remove(\"pencil\")\n",
    "items.append(\"sharpener\")\n",
    "print(items[2])"
   ]
  },
  {
   "cell_type": "markdown",
   "metadata": {},
   "source": [
    "What does this code output?\n",
    "\n",
    "The original list is:\n",
    "- [\"pen\", \"pencil\", \"marker\", \"eraser\"]\n",
    "\n",
    "items.remove(\"pencil\")\n",
    "- This removes \"pencil\" from the list.\n",
    "Now the list becomes:\n",
    "- [\"pen\", \"marker\", \"eraser\"]\n",
    "\n",
    "items.append(\"sharpener\")\n",
    "- This adds \"sharpener\" to the end of the list.\n",
    "Now the list is:\n",
    "- [\"pen\", \"marker\", \"eraser\", \"sharpener\"]\n",
    "\n",
    "print(items[2])\n",
    "Index 2 means the third item (Python starts at 0).\n",
    "- So the third item is: \"eraser\"\n",
    "- Final answer: eraser"
   ]
  },
  {
   "cell_type": "markdown",
   "metadata": {},
   "source": [
    "### Popcorn Hack 3\n",
    "\n",
    "What are some real world examples of filtering algorithms?\n",
    "\n",
    "1. Spam Filters (Email Services):\n",
    "Email platforms like Gmail use filtering algorithms to automatically detect and move spam or phishing emails out of your inbox. These algorithms analyze keywords, sender reputation, and patterns in the email content.\n",
    "\n",
    "2. Recommendation Systems (Netflix, YouTube, Spotify):\n",
    "These platforms filter massive datasets to recommend content you’re likely to enjoy. They use filtering techniques like collaborative filtering (based on user behavior) and content-based filtering (based on item attributes).\n",
    "\n",
    "3. Search Engines (Google):\n",
    "When you search something on Google, filtering algorithms help rank and display only the most relevant results while excluding spammy or low-quality pages.\n",
    "\n",
    "### Homework Hack 1"
   ]
  },
  {
   "cell_type": "code",
   "execution_count": 3,
   "metadata": {},
   "outputs": [
    {
     "name": "stdout",
     "output_type": "stream",
     "text": [
      "tennis\n",
      "Sport: soccer\n",
      "Sport: basketball\n",
      "Sport: tennis\n",
      "Sport: baseball\n",
      "Sport: volleyball\n",
      "Filtered Sports: ['basketball', 'baseball', 'volleyball']\n"
     ]
    }
   ],
   "source": [
    "# PART 1\n",
    "\n",
    "# Create a list of sports\n",
    "sports = [\"soccer\", \"basketball\", \"tennis\", \"baseball\", \"golf\"]\n",
    "\n",
    "# Procedure 1: Add an item to the list using append()\n",
    "sports.append(\"volleyball\")  # Adds \"volleyball\" to the end of the list\n",
    "\n",
    "# Procedure 2: Remove an item using remove()\n",
    "sports.remove(\"golf\")  # Removes \"golf\" from the list\n",
    "\n",
    "# Procedure 3: Access an item using an index\n",
    "print(sports[2])  # Prints the third item in the list (index 2)\n",
    "\n",
    "\n",
    "# PART 2\n",
    "\n",
    "# Steps to go through a list one item at a time:\n",
    "# 1. Start at the beginning of the list (index 0).\n",
    "# 2. Use a for loop to move through each element.\n",
    "# 3. Perform an action with each item (like printing it).\n",
    "# 4. Stop when all elements have been visited.\n",
    "\n",
    "# Example of iterating through the list\n",
    "for sport in sports:\n",
    "    print(\"Sport:\", sport)\n",
    "\n",
    "\n",
    "# PART 3 \n",
    "\n",
    "# Condition: Keep only sports that are longer than 7 letters.\n",
    "# Steps:\n",
    "# 1. Start with the original list (sports).\n",
    "# 2. Create an empty list called filtered_sports.\n",
    "# 3. Use a loop to go through each item.\n",
    "# 4. If the item has more than 7 letters, add it to the new list.\n",
    "# 5. At the end, filtered_sports will only have the items that passed the test.\n",
    "\n",
    "# Example of filtering the list\n",
    "filtered_sports = []\n",
    "\n",
    "for sport in sports:\n",
    "    if len(sport) > 7:\n",
    "        filtered_sports.append(sport)\n",
    "\n",
    "# Print the filtered list\n",
    "print(\"Filtered Sports:\", filtered_sports)\n",
    "\n"
   ]
  },
  {
   "cell_type": "markdown",
   "metadata": {},
   "source": [
    "### Final Reflection\n",
    "\n",
    "In two complete sentences, explain when and how filtering algorithms and lists are used in real life.\n",
    "\n",
    "- Filtering algorithms and lists are used in real life to manage and organize large amounts of data by selecting only the relevant information. For example, streaming services use lists to store recommended shows and apply filtering algorithms to display suggestions based on a user’s viewing history."
   ]
  }
 ],
 "metadata": {
  "kernelspec": {
   "display_name": "venv",
   "language": "python",
   "name": "python3"
  },
  "language_info": {
   "codemirror_mode": {
    "name": "ipython",
    "version": 3
   },
   "file_extension": ".py",
   "mimetype": "text/x-python",
   "name": "python",
   "nbconvert_exporter": "python",
   "pygments_lexer": "ipython3",
   "version": "3.12.4"
  }
 },
 "nbformat": 4,
 "nbformat_minor": 2
}
