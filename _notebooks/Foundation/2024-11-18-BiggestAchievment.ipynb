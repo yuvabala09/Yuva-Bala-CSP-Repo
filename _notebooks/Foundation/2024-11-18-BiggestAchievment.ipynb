{
 "cells": [
  {
   "cell_type": "markdown",
   "metadata": {},
   "source": [
    "---\n",
    "layout: post\n",
    "title: Biggest Achievment during Sprint 3\n",
    "description:  Biggest Achievment during Sprint 3\n",
    "type: issues \n",
    "comments: true\n",
    "---"
   ]
  },
  {
   "cell_type": "markdown",
   "metadata": {},
   "source": [
    "# Understanding API and Backend"
   ]
  },
  {
   "cell_type": "markdown",
   "metadata": {},
   "source": [
    "<img src=\"{{site.baseurl}}/images/backendapi1.png\" width=\"600\" height=\"400\">"
   ]
  },
  {
   "cell_type": "markdown",
   "metadata": {},
   "source": [
    "API Definition:\n",
    "API (Application Programming Interface) is the way by which two software applications can communicate with each other. For example, you can use an app on your phone to control a ROOMBA cleaning device in your house. In our case with our website, the user presses a button with an argument written out under the name in which they logged in, which calls the API to save the information in the backend and also retrieve other users' arguments. \n",
    "\n",
    "import { pythonURI, fetchOptions } from '{{ site.baseurl }}/assets/js/api/config.js';\n",
    "pythonURI is the base web address (URL) of the server in which the backend API exists in\n",
    "fetchOptions is to fetch the calls\n",
    "\n",
    "fetch command is sent to the API and basically fetches an answer to the request the user makes.\n",
    "\n",
    "fetchGroups is the function that will ask the server for a list of groups and once it replies, it populates the dropdown with the group names in order for the user to pick a choice.\n",
    "\n",
    "If the server does not reply, then it will prompt the user with a message saying it failed to fetch groups.\n",
    "\n",
    "groups.forEach section of code loops through the groups of dropdowns, and creates a new dropdown option each time. Basically, changes the dropdown based on the user picks.\n"
   ]
  },
  {
   "cell_type": "markdown",
   "metadata": {},
   "source": [
    "# Working with Mom for Proficient Understanding"
   ]
  },
  {
   "cell_type": "markdown",
   "metadata": {},
   "source": [
    "<img src=\"{{site.baseurl}}/images/momexplainsapi.png\" width=\"600\" height=\"600\">"
   ]
  },
  {
   "cell_type": "markdown",
   "metadata": {},
   "source": [
    "# Planning for Website Debate Page"
   ]
  },
  {
   "cell_type": "markdown",
   "metadata": {},
   "source": [
    "<img src=\"{{site.baseurl}}/images/debatewebsiteplanning.png\" width=\"600\" height=\"400\">"
   ]
  },
  {
   "cell_type": "markdown",
   "metadata": {},
   "source": [
    "# Ideation Process"
   ]
  },
  {
   "cell_type": "markdown",
   "metadata": {},
   "source": [
    "## Diagram"
   ]
  },
  {
   "cell_type": "markdown",
   "metadata": {},
   "source": [
    "<img src=\"{{site.baseurl}}/images/debatewebsiteplanning1.png\" width=\"600\" height=\"200\">"
   ]
  },
  {
   "cell_type": "markdown",
   "metadata": {},
   "source": [
    "## Classroom Topic: Vote for the GOAT\n",
    "When we started the project, we had no idea what we wanted to choose. We thought of many different ideas but finally, we took inspiration from reddit and it's many creative subreddits. We the discussed with classmates to choose our offical class period topic which was \"Vote for the GOAT\". Our period had a bar at the top of the site to switch between each groups topics. \n",
    "\n",
    "## Group Ideas and Site: Internet Debates\n",
    "We personally had the idea to give users prompts and have them pick a side to represent their choice. Then, they would submit an argument to support their choice which would flow down below the user prompt. Users would be able to see other people's responses to get an idea of each person's unique choice and reason. If the user liked it or disliked it, they could show this by upvoting or downvoting. There is also a sidebar that has various topics the user could choose to respond on. Other features of our site were added along the way such as a popup that displays the moderator rules so that users can maintain a friendly social media zone. Lastly, people can exit the webiste and come back to still see their original arguments as well as other peoples."
   ]
  },
  {
   "cell_type": "markdown",
   "metadata": {},
   "source": [
    "# Research"
   ]
  },
  {
   "cell_type": "markdown",
   "metadata": {},
   "source": [
    "## Reddit\n",
    "Structure: Reddit comprises thousands of communities known as \"subreddits,\" where users post content, and comments can evolve into debates or discussions. Some subreddits specifically focus on debates about everyday choices and controversial opinions.\n",
    "\n",
    "## Examples:\n",
    "\n",
    "r/unpopularopinion: Users share opinions they believe are unconventional, leading to substantial debate.\n",
    "Engagement Mechanism: The upvote/downvote system and threaded comments facilitate structured debates and community-driven outcomes.\n",
    "\n",
    "Analysis: Reddit flourishes on user-generated content, where engagement is bolstered by anonymity and a diverse range of topics.\n",
    "\n",
    "## Debate.org (Shutdown)\n",
    "Structure: This platform was designed specifically for debating various topics, including politics, entertainment, and even trivial matters like food preferences."
   ]
  },
  {
   "cell_type": "markdown",
   "metadata": {},
   "source": [
    "## Examples: \n",
    "Users could initiate debates on topics such as \"Is pineapple on pizza acceptable?\" and invite others to join and vote on the outcome.\n",
    "\n",
    "Engagement Mechanism: Debate.org featured a formal debate structure where users presented arguments and counterarguments over several rounds, culminating in a community vote to determine the winner.\n",
    "\n",
    "Analysis: Although Debate.org had a smaller user base compared to mainstream social platforms, it offered a formal structure for discussions and a voting mechanism that aligned well with the concept of debating controversial topics."
   ]
  },
  {
   "cell_type": "markdown",
   "metadata": {},
   "source": []
  }
 ],
 "metadata": {
  "kernelspec": {
   "display_name": "venv",
   "language": "python",
   "name": "python3"
  },
  "language_info": {
   "name": "python",
   "version": "3.12.4"
  }
 },
 "nbformat": 4,
 "nbformat_minor": 2
}
