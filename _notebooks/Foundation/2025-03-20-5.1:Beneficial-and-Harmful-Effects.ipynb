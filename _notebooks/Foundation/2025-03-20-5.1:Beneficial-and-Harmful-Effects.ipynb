{
 "cells": [
  {
   "cell_type": "markdown",
   "metadata": {},
   "source": [
    "---\n",
    "layout: post\n",
    "title: Beneficial and Harmful Effects\n",
    "type: issues\n",
    "comments: True\n",
    "---"
   ]
  },
  {
   "cell_type": "markdown",
   "metadata": {},
   "source": [
    "# Popcorn Hack 1\n",
    "- A beneficial effect is solution or a positive effect on an outcome. For example, advancments in technology which allows people to communicate with rural villages.\n",
    "- A harmful effect is a negative effect that alters a result. College board defines a harmful effect as a missuse of technology or a dilemma that may come with developing technlogy."
   ]
  },
  {
   "cell_type": "markdown",
   "metadata": {},
   "source": [
    "# Popcorn Hack 2\n",
    "- I believe the most beneficial out of these are the science and technology advancments as the result of advancments in these fields has allowed doctors to perform much earlier diagnosis (using MRI scanning and DNA sequencing). Some other beneficial effects of technology are connecting people as now people can communicate with family, friends, business collegues, etc over the phone. "
   ]
  },
  {
   "cell_type": "markdown",
   "metadata": {},
   "source": [
    "# Popcorn Hack 3\n",
    "- I think gene editing is more harmful because if something goes wrong, the patients DNA can be corrupted and future generations will have to pay the price of a mistake made by a doctor. The fact that there is controversy surrounding how gene editing can be used in cruel and unethical ways also makes me feel like it's more harmful than beneficial. Could also change the standards of attraction and people who are richer can get gene editing done for cosmetic reasons, blurring the lines between reality and a dream."
   ]
  },
  {
   "cell_type": "markdown",
   "metadata": {},
   "source": [
    "# Homework Hack \n",
    "- A beneficial effect is FSD (full self driving) in Tesla cars. Tesla revolutionized the idea of self driving cars and many did not think it would be possible but now we have autopilot and fsd in different cars. I believe FSD is very beneficial since I have experienced how much easier it makes long distance trips. Before we used to drive 9-12 hours to Bayarea (plus charging), but now my parents can conserve much more energy during these long distance trips with the use of FSD on highways and freeways. FSD is also very beneficial as it constantly gathers data from other Tesla cars and cameras, which makes the car a very accurate driver over time."
   ]
  }
 ],
 "metadata": {
  "language_info": {
   "name": "python"
  }
 },
 "nbformat": 4,
 "nbformat_minor": 2
}
