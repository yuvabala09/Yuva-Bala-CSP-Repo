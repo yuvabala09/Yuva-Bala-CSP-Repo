{
 "cells": [
  {
   "cell_type": "markdown",
   "metadata": {},
   "source": [
    "---\n",
    "layout: post\n",
    "title: HP CTE Expo Blog\n",
    "type: issues\n",
    "comments: True\n",
    "---"
   ]
  },
  {
   "cell_type": "markdown",
   "metadata": {},
   "source": [
    "## AP CSP HP CTE Extra Credit Blog"
   ]
  },
  {
   "cell_type": "markdown",
   "metadata": {},
   "source": [
    "![HP CTE Picture 1](images/cspextracredit.png)\n",
    "![HP CTE Picture 2](images/cspextracredit2.png)"
   ]
  },
  {
   "cell_type": "markdown",
   "metadata": {},
   "source": [
    "I came to the HP Centers expo "
   ]
  }
 ],
 "metadata": {
  "language_info": {
   "name": "python"
  }
 },
 "nbformat": 4,
 "nbformat_minor": 2
}
