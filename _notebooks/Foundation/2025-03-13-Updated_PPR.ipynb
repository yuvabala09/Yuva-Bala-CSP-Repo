{
 "cells": [
  {
   "cell_type": "markdown",
   "metadata": {},
   "source": [
    "---\n",
    "layout: post\n",
    "title: Updated PPR (Draft no2)\n",
    "type: issues\n",
    "comments: True\n",
    "---"
   ]
  },
  {
   "cell_type": "markdown",
   "metadata": {},
   "source": [
    "## Function (parameters, if-else statement, Sequencing, Selection, and Iteration)"
   ]
  },
  {
   "cell_type": "code",
   "execution_count": null,
   "metadata": {},
   "outputs": [],
   "source": [
    "def update_country_dish():\n",
    "   try:\n",
    "       data = request.get_json()\n",
    "       country_dish = CountryDish.query.get(data['id'])\n",
    "\n",
    "       if country_dish is None:\n",
    "           return jsonify({'message': 'Country dish not found'}), 404\n",
    "\n",
    "       _country = data.get('country', country_dish._country)\n",
    "       _dish = data.get('dish', country_dish._dish)\n",
    "       _description = data.get('description', country_dish._description)\n",
    "\n",
    "       country_dish.update(country=_country, dish=_dish, description=_description)\n",
    "\n",
    "       return jsonify(country_dish.read())\n",
    "\n",
    "   except Exception as e:\n",
    "       return jsonify({'error': str(e)}), 500"
   ]
  },
  {
   "cell_type": "markdown",
   "metadata": {},
   "source": [
    "### How This Code Meets the Requirements\n",
    "\n",
    "- Function with Parameters\n",
    "  - `update_country_dish()` is a function that processes an update request for a country dish.\n",
    "\n",
    "- If-Else Statement  \n",
    "  - The function checks if `CountryDish.query.get(data['id'])` returns `None`.  \n",
    "  - If it does, the function returns a `404` error message.  \n",
    "  - Otherwise, it proceeds to update the dish.\n",
    "\n",
    "- Sequencing (Step-by-Step Execution)\n",
    "  1. Retrieves JSON data from the request.  \n",
    "  2. Queries the database to find the dish.  \n",
    "  3. Extracts existing values or updates them if new values are provided.  \n",
    "  4. Calls the `update()` method to save changes.  \n",
    "  5. Returns the updated dish as a JSON response.\n",
    "\n",
    "- Selection (Decision Making)\n",
    "  - The function determines whether to update a dish or return an error using `if country_dish is None:`.  \n",
    "  - If no dish is found, it returns an error response.  \n",
    "  - If a dish is found, it proceeds with the update.\n",
    "\n",
    "- Iteration (Looping through Update Conditions)  \n",
    "  - The function iterates over `data.get()` values to check for updates.  \n",
    "  - If a field (`country`, `dish`, or `description`) is provided, it updates the corresponding attribute.  \n",
    "  - The `update()` method is then called to apply changes.\n"
   ]
  },
  {
   "cell_type": "markdown",
   "metadata": {},
   "source": [
    "## Call to Function"
   ]
  },
  {
   "cell_type": "code",
   "execution_count": null,
   "metadata": {},
   "outputs": [],
   "source": []
  }
 ],
 "metadata": {
  "language_info": {
   "name": "python"
  }
 },
 "nbformat": 4,
 "nbformat_minor": 2
}
