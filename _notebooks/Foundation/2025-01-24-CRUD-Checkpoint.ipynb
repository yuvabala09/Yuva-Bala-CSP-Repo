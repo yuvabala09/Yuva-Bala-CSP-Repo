{
 "cells": [
  {
   "cell_type": "markdown",
   "metadata": {},
   "source": [
    "---\n",
    "layout: post\n",
    "title: CRUD Checkpoint\n",
    "description:  Blog for CRUD\n",
    "type: issues \n",
    "comments: true\n",
    "---"
   ]
  },
  {
   "cell_type": "markdown",
   "metadata": {},
   "source": [
    "## Executive Summary \n",
    "- Created a database to store information regarding countries national dishes, and a description for each dish.\n",
    "- REST api with GET, POST, PUT, and DELETE functions that allow users to interact with the page in the intended way.\n",
    "- Created the frontend for the national country generator, with a form for users to fill out to add more countries to the database. \n",
    "\n",
    "## Team Website Purpose\n",
    "- Food cuisine social platform for users to discover and learn about different cuisines and their respective dishes in five different dietary categories. The website will be a social media zone for users to share their favorite dishes as well, and interact with other users and use Artificial Intelegence to get even more reccomendations and recipes and ingredients as well.\n",
    "\n",
    "## Individual Feature\n",
    "- The purpose of my individual feature is to allow users to discover national dishes of any country they want, and also add their own post for a country that is either not on the list, or a regional dish that they want users to see. The user can also edit and delete their posts if needed. "
   ]
  },
  {
   "cell_type": "markdown",
   "metadata": {},
   "source": [
    "## Input/Output Requests\n",
    "- The natcountrysearch api has GET, POST, PUT, and DELETE requests. The GET requests is seen on the page when the user loads it and can see the generator and go through the database of countries and their national dishes. The POST request is seen when the user creates a post and fills out the information for (country, dish, and description) and submits the post. The PUT requets is made when the user selects a post and changes the information for at least one of the fields. Lastly, the DELETE request is made when the user wants to delete any of the posts."
   ]
  },
  {
   "cell_type": "markdown",
   "metadata": {},
   "source": [
    "## GET Request Code:"
   ]
  },
  {
   "cell_type": "code",
   "execution_count": null,
   "metadata": {},
   "outputs": [],
   "source": [
    "# Endpoint to get a random country dish (from the 5 sample data dishes)\n",
    "@country_api.route('/api/random', methods=['GET'])\n",
    "def get_random_country_dish():\n",
    "   try:\n",
    "       # Query for all country dishes (or you can hard-code 5 sample dishes here if needed)\n",
    "       country_dishes = CountryDish.query.all()\n",
    "       # Ensure there are at least 5 dishes to randomly select from\n",
    "       if len(country_dishes) < 5:\n",
    "           return jsonify({'error': 'Not enough country dishes in the database'}), 400\n",
    "       # Randomly select one dish from the list\n",
    "       random_dish = random.choice(country_dishes)\n",
    "       return jsonify(random_dish.read())\n",
    "   except Exception as e:\n",
    "       logger.exception(\"An error occurred while fetching a random country dish\")\n",
    "       return jsonify({'error': str(e)}), 500"
   ]
  },
  {
   "cell_type": "markdown",
   "metadata": {},
   "source": [
    "## POST Request Code:"
   ]
  },
  {
   "cell_type": "code",
   "execution_count": null,
   "metadata": {},
   "outputs": [],
   "source": [
    "# Endpoint to add a new country dish\n",
    "@country_api.route('/api/add', methods=['POST'])\n",
    "def add_country_dish():\n",
    "   try:\n",
    "       logger.debug(\"Request headers: %s\", request.headers)\n",
    "       logger.debug(\"Request data: %s\", request.data)\n",
    "       data = request.get_json()\n",
    "       if not data:\n",
    "           logger.error(\"Invalid JSON data\")\n",
    "           return jsonify({'error': 'Invalid JSON data'}), 400\n",
    "       country = data.get('country')\n",
    "       dish = data.get('dish')\n",
    "       description = data.get('description')\n",
    "       if not country or not dish or not description:\n",
    "           logger.error(\"Country, dish, and description are required\")\n",
    "           return jsonify({'error': 'Country, dish, and description are required'}), 400\n",
    "       new_country_dish = CountryDish(country=country, dish=dish, description=description)\n",
    "       new_country_dish.create()\n",
    "       return jsonify(new_country_dish.read()), 201\n",
    "   except Exception as e:\n",
    "       logger.exception(\"An error occurred while adding a country dish\")\n",
    "       return jsonify({'error': str(e)}), 500\n",
    "\n"
   ]
  },
  {
   "cell_type": "markdown",
   "metadata": {},
   "source": [
    "## PUT Request Code:"
   ]
  },
  {
   "cell_type": "code",
   "execution_count": null,
   "metadata": {},
   "outputs": [],
   "source": [
    "# Endpoint to update an existing country dish\n",
    "@country_api.route('/api/countries/update', methods=['PUT'])\n",
    "def update_country_dish():\n",
    "   try:\n",
    "       data = request.get_json()\n",
    "       country_dish = CountryDish.query.get(data['id'])\n",
    "       if country_dish is None:\n",
    "           return jsonify({'message': 'Country dish not found'}), 404\n",
    "       _country = data.get('country', country_dish._country)\n",
    "       _dish = data.get('dish', country_dish._dish)\n",
    "       _description = data.get('description', country_dish._description)\n",
    "       country_dish.update(country=_country, dish=_dish, description=_description)\n",
    "       return jsonify(country_dish.read())\n",
    "   except Exception as e:\n",
    "       logger.exception(\"An error occurred while updating country dish\")\n",
    "       return jsonify({'error': str(e)}), 500"
   ]
  },
  {
   "cell_type": "markdown",
   "metadata": {},
   "source": [
    "## DELETE Request Code:"
   ]
  },
  {
   "cell_type": "code",
   "execution_count": null,
   "metadata": {},
   "outputs": [],
   "source": [
    "# Endpoint to delete a country dish\n",
    "@country_api.route('/api/countries/delete', methods=['DELETE'])\n",
    "def delete_country_dish():\n",
    "   try:\n",
    "       data = request.get_json()\n",
    "       country_dish = CountryDish.query.get(data['id'])\n",
    "       if country_dish is None:\n",
    "           return jsonify({'message': 'Country dish not found'}), 404\n",
    "       country_dish.delete()\n",
    "       return jsonify({\"message\": \"Country dish deleted\"})\n",
    "   except Exception as e:\n",
    "       logger.exception(\"An error occurred while deleting country dish\")\n",
    "       return jsonify({'error': str(e)}), 500"
   ]
  },
  {
   "cell_type": "markdown",
   "metadata": {},
   "source": [
    "## Requests & DOM Integration\n",
    "- The fetch request recieves data from the REST API and populates the DOM. Loops are used to iterate thorugh the data. When the users use the random generator, and they press the next dish button, a fetch request is made to get the next random countries national dish. The data is then populated into the DOM. The same happens when the user tries to create, update, and delete posts to add to the generator."
   ]
  },
  {
   "cell_type": "code",
   "execution_count": null,
   "metadata": {
    "vscode": {
     "languageId": "html"
    }
   },
   "outputs": [],
   "source": [
    "<script>\n",
    "    var pythonURI;\n",
    "    if (location.hostname === \"localhost\") {\n",
    "        pythonURI = \"http://localhost:8887\";\n",
    "    } else if (location.hostname === \"127.0.0.1\") {\n",
    "        pythonURI = \"http://127.0.0.1:8887\";\n",
    "    } else {\n",
    "        pythonURI = \"https://flocker.nighthawkcodingsociety.com\";\n",
    "    }\n",
    "\n",
    "    const fetchOptions = {\n",
    "        method: \"GET\",\n",
    "        mode: \"cors\",\n",
    "        cache: \"default\",\n",
    "        credentials: \"include\",\n",
    "        headers: {\n",
    "            \"Content-Type\": \"application/json\",\n",
    "            \"X-Origin\": \"client\",\n",
    "        },\n",
    "    };\n",
    "\n",
    "    const nextDishBtn = document.getElementById('next-dish-btn');\n",
    "    const createUpdateForm = document.getElementById('create-update-form');\n",
    "    const countryName = document.getElementById('country-name');\n",
    "    const dishName = document.getElementById('dish-name');\n",
    "    const dishDescription = document.getElementById('dish-description');\n",
    "    const userPostsList = document.getElementById('user-posts-list');\n",
    "\n",
    "    let currentDishId = null;\n",
    "\n",
    "    // Fetch a random dish and display it\n",
    "    async function getRandomDish() {\n",
    "        const response = await fetch(pythonURI + '/api/random');\n",
    "        const data = await response.json();\n",
    "        if (data) {\n",
    "            countryName.textContent = `Country: ${data.country}`;\n",
    "            dishName.textContent = `Dish: ${data.dish}`;\n",
    "            dishDescription.textContent = `Description: ${data.description}`;\n",
    "        }\n",
    "    }\n",
    "\n",
    "    // Fetch all user posts and display them\n",
    "    async function getUserPosts() {\n",
    "        const response = await fetch(pythonURI + '/api/countries');\n",
    "        const data = await response.json();\n",
    "        userPostsList.innerHTML = '';\n",
    "        data.forEach(post => {\n",
    "            const listItem = document.createElement('li');\n",
    "            listItem.innerHTML = `\n",
    "                    <strong>${post.country} - ${post.dish}</strong>: ${post.description}\n",
    "                    <button onclick=\"editPost(${post.id}, '${post.country}', '${post.dish}', '${post.description}')\">Edit</button>\n",
    "                    <button onclick=\"deletePost(${post.id})\">Delete</button>\n",
    "                `;\n",
    "            userPostsList.appendChild(listItem);\n",
    "        });\n",
    "    }\n",
    "\n",
    "    // Create or update a post\n",
    "    createUpdateForm.addEventListener('submit', async (e) => {\n",
    "        e.preventDefault();\n",
    "        const country = document.getElementById('country').value;\n",
    "        const dish = document.getElementById('dish').value;\n",
    "        const description = document.getElementById('description').value;\n",
    "\n",
    "        const data = { country, dish, description };\n",
    "        let url = pythonURI + '/api/add';\n",
    "        let method = 'POST';\n",
    "\n",
    "        if (currentDishId) {\n",
    "            url = pythonURI + '/api/countries/update';\n",
    "            method = 'PUT';\n",
    "            data.id = currentDishId;\n",
    "        }\n",
    "\n",
    "        const response = await fetch(url, {\n",
    "            method,\n",
    "            headers: {\n",
    "                'Content-Type': 'application/json',\n",
    "            },\n",
    "            body: JSON.stringify(data),\n",
    "        });\n",
    "\n",
    "        const result = await response.json();\n",
    "        if (response.ok) {\n",
    "            getRandomDish();\n",
    "            getUserPosts();\n",
    "            createUpdateForm.reset();\n",
    "            currentDishId = null;\n",
    "        } else {\n",
    "            alert(result.error || 'An error occurred');\n",
    "        }\n",
    "    });\n",
    "\n",
    "    // Edit a post (populate the form with the post details)\n",
    "    function editPost(id, country, dish, description) {\n",
    "        currentDishId = id;\n",
    "        document.getElementById('country').value = country;\n",
    "        document.getElementById('dish').value = dish;\n",
    "        document.getElementById('description').value = description;\n",
    "    }\n",
    "\n",
    "    // Delete a post\n",
    "    async function deletePost(id) {\n",
    "        const response = await fetch(pythonURI + '/api/countries/delete', {\n",
    "            method: 'DELETE',\n",
    "            headers: {\n",
    "                'Content-Type': 'application/json',\n",
    "            },\n",
    "            body: JSON.stringify({ id }),\n",
    "        });\n",
    "\n",
    "        const result = await response.json();\n",
    "        if (response.ok) {\n",
    "            getRandomDish();\n",
    "            getUserPosts();\n",
    "        } else {\n",
    "            alert(result.error || 'An error occurred');\n",
    "        }\n",
    "    }\n",
    "\n",
    "    // Initialize the page\n",
    "    async function init() {\n",
    "        await getRandomDish();\n",
    "        await getUserPosts();\n",
    "    }\n",
    "\n",
    "    nextDishBtn.addEventListener('click', getRandomDish);\n",
    "\n",
    "    init();\n",
    "</script>"
   ]
  },
  {
   "cell_type": "markdown",
   "metadata": {},
   "source": [
    "## Algorithmic Requests:\n",
    "- The backend API handles GET, POST, PUT, and DELETE requests. \n",
    "- The GET method recieves data from the database without modifiying it. In my case, the countries are populated in the generator, and the random function randomly iterates through each country.\n",
    "- The POST method sends data to the database and creates a new entry. In my case, the user can submit a post, and in the database, a new id will be entered along with the (country, dish, description).\n",
    "- The PUT method updates an existing entry in the database. In my case, the user can update a post for one of the following feilds (country, dish, description).\n",
    "- The DELETE method removes a specified entry from the database. In my case, the user can delete one of their posts, which will update the database, and have the entry be erased."
   ]
  },
  {
   "cell_type": "markdown",
   "metadata": {},
   "source": [
    "## Call to Algorithim Requests:\n",
    "- A GET request is triggered when the user clicks on the \"Next Dish\" button, and then the next dish is displayed (randomly chosen).\n",
    "- A POST request is triggered when the user submits a post on the page. \n",
    "- A PUT request is triggered when the user selects the edit button and submits the changes. \n",
    "- A DELETE request is triggered when the user clicks on the delete button for a post."
   ]
  },
  {
   "cell_type": "markdown",
   "metadata": {},
   "source": [
    "## Overall Summary of Feature:\n",
    "- Frontend: I have designed a dynamic interface for users to discover and add to a country national dish generator.\n",
    "- Backend: I developed a RESTful API with CRUD operations and integrated it with a databse holding information for (country, dish, description)\n",
    "- Testing: I have used POSTMAN to test my API endpoints for each function in my feature. POSTMAN has allowed me to debug my code and figure out where exactly I had problems that resulted in a 404, 405, or 500 error. POSTMAN can assure me if my backend code is accurate or not so I can update the backend or frontend accordingly.\n",
    "- Improvments: This sprint has enabled me to improve my skills for frontend and backend and understand how simple and complex APIs work. I have also learned how to use POSTMAN to test my API endpoints. I do however need to improve my skills in testing and debugging my code. But overall I have learned a lot from this sprint and I am excited to continue working on this project and future sprints. "
   ]
  }
 ],
 "metadata": {
  "language_info": {
   "name": "python"
  }
 },
 "nbformat": 4,
 "nbformat_minor": 2
}
