{
 "cells": [
  {
   "cell_type": "markdown",
   "metadata": {},
   "source": [
    "---\n",
    "layout: post\n",
    "title: 3.10.2 Hacks and Homework\n",
    "description:  3.10.2 Big Idea Hacks and Homework\n",
    "type: issues \n",
    "comments: true\n",
    "---"
   ]
  },
  {
   "cell_type": "markdown",
   "metadata": {},
   "source": [
    "# Popcorn Hack 1"
   ]
  },
  {
   "cell_type": "code",
   "execution_count": 59,
   "metadata": {},
   "outputs": [
    {
     "name": "stdout",
     "output_type": "stream",
     "text": [
      "After inserting 35 at second to last position: [1, 2, 3, 4, 3.2, 5]\n",
      "After inserting 25 at third to last position: [1, 2, 3, 4, 2.9, 3.2, 5]\n",
      "After inserting 45 at last position: [1, 2, 3, 4, 2.9, 3.2, 4.7, 5]\n"
     ]
    }
   ],
   "source": [
    "# Initial List w/ Numbers\n",
    "my_list = [1, 2, 3, 4, 5]\n",
    "\n",
    "# Insert a Value at second-to-last position\n",
    "my_list.insert(-1, 3.2)\n",
    "print(\"After inserting 35 at second to last position:\", my_list)\n",
    "\n",
    "# Insert a value at the third-to-last position\n",
    "my_list.insert(-2, 2.9)\n",
    "print(\"After inserting 25 at third to last position:\", my_list)\n",
    "\n",
    "# Insert a value at the last position\n",
    "my_list.insert(-1, 4.7)\n",
    "print(\"After inserting 45 at last position:\", my_list)"
   ]
  },
  {
   "cell_type": "markdown",
   "metadata": {},
   "source": [
    "# Popcorn Hack 2"
   ]
  },
  {
   "cell_type": "code",
   "execution_count": 60,
   "metadata": {},
   "outputs": [
    {
     "name": "stdout",
     "output_type": "stream",
     "text": [
      "Combined list: [1, 2, 3, 4, 5, 6, 7, 8, 9, 10]\n"
     ]
    }
   ],
   "source": [
    "# First list with numbers\n",
    "list1 = [1, 2, 3, 4, 5]\n",
    "\n",
    "# Second list with numbers\n",
    "list2 = [6, 7, 8, 9, 10]\n",
    "\n",
    "# Add second onto the first with extend() method\n",
    "list1.extend(list2)\n",
    "\n",
    "# Print combined version\n",
    "print(\"Combined list:\", list1)"
   ]
  },
  {
   "cell_type": "markdown",
   "metadata": {},
   "source": [
    "# Popcorn Hack 3"
   ]
  },
  {
   "cell_type": "code",
   "execution_count": 61,
   "metadata": {},
   "outputs": [
    {
     "name": "stdout",
     "output_type": "stream",
     "text": [
      "['nectarine', 'starfruit', 'custard apple', 'berry']\n"
     ]
    }
   ],
   "source": [
    "# defining the fruit list\n",
    "fruits = [\"nectarine\", \"starfruit\", \"plum\", \"fig\", \"custard apple\", \"berry\", \"guava\"]\n",
    "\n",
    "#removing the guava using remove function\n",
    "fruits.remove(\"guava\")\n",
    "#removng the third item\n",
    "fruits.pop(3)\n",
    "#removing the third item (after pop)\n",
    "del fruits[2]\n",
    "\n",
    "#printing the updated list of fruits\n",
    "print(fruits)"
   ]
  },
  {
   "cell_type": "markdown",
   "metadata": {},
   "source": [
    "# Popcorn Hack 4"
   ]
  },
  {
   "cell_type": "code",
   "execution_count": 62,
   "metadata": {
    "vscode": {
     "languageId": "javascript"
    }
   },
   "outputs": [
    {
     "data": {
      "application/javascript": "\nvar array = [1, 2, 3, 4, 5, 6, 7, 8, 9, 10];\narray.reverse();\n\nconsole.log(array);\n",
      "text/plain": [
       "<IPython.core.display.Javascript object>"
      ]
     },
     "metadata": {},
     "output_type": "display_data"
    }
   ],
   "source": [
    "%%js \n",
    "\n",
    "var array = [1, 2, 3, 4, 5, 6, 7, 8, 9, 10];\n",
    "array.reverse();\n",
    "\n",
    "console.log(array);"
   ]
  },
  {
   "cell_type": "markdown",
   "metadata": {},
   "source": [
    "# Popcorn Hack 5"
   ]
  },
  {
   "cell_type": "code",
   "execution_count": 63,
   "metadata": {
    "vscode": {
     "languageId": "javascript"
    }
   },
   "outputs": [
    {
     "data": {
      "application/javascript": "\n// Initial Array\nlet cars = ['ford', 'honda', 'toyota'];\n\n// Add element to beginning using unshift()\nfruits.unshift('tesla', 'rivian');\n\n// Print\nconsole.log(fruits);\n\n// Initial array\nlet companies = ['apple', 'microsoft', 'google'];\n\n// Add elements to the beginning of the array using the spread operator\nlet moreCompanies = ['spacex', 'x', ...companies];\n\n// Print\nconsole.log(moreVegetables);\n",
      "text/plain": [
       "<IPython.core.display.Javascript object>"
      ]
     },
     "metadata": {},
     "output_type": "display_data"
    }
   ],
   "source": [
    "%%js \n",
    "\n",
    "// Initial Array\n",
    "let cars = ['ford', 'honda', 'toyota'];\n",
    "\n",
    "// Add element to beginning using unshift()\n",
    "fruits.unshift('tesla', 'rivian');\n",
    "\n",
    "// Print\n",
    "console.log(fruits);\n",
    "\n",
    "// Initial array\n",
    "let companies = ['apple', 'microsoft', 'google'];\n",
    "\n",
    "// Add elements to the beginning of the array using the spread operator\n",
    "let moreCompanies = ['spacex', 'x', ...companies];\n",
    "\n",
    "// Print\n",
    "console.log(moreVegetables);"
   ]
  },
  {
   "cell_type": "markdown",
   "metadata": {},
   "source": [
    "# Popcorn Hack 6"
   ]
  },
  {
   "cell_type": "code",
   "execution_count": 64,
   "metadata": {
    "vscode": {
     "languageId": "javascript"
    }
   },
   "outputs": [
    {
     "data": {
      "application/javascript": "\nvar bigCompanies = ['Tesla', 'Spacex', 'Apple', 'Nvidia', 'Google', 'Microsoft'];\n\nvar longCompanyCount = bigCompa.finieslter(brand => brand.length > 4).length; \n\nconsole.log(longBrandCount);\n",
      "text/plain": [
       "<IPython.core.display.Javascript object>"
      ]
     },
     "metadata": {},
     "output_type": "display_data"
    }
   ],
   "source": [
    "%%js \n",
    "\n",
    "var bigCompanies = ['Tesla', 'Spacex', 'Apple', 'Nvidia', 'Google', 'Microsoft'];\n",
    "\n",
    "var longCompanyCount = bigCompa.finieslter(brand => brand.length > 4).length; \n",
    "\n",
    "console.log(longBrandCount);"
   ]
  },
  {
   "cell_type": "markdown",
   "metadata": {},
   "source": [
    "# Homework Hack 1"
   ]
  },
  {
   "cell_type": "code",
   "execution_count": 68,
   "metadata": {},
   "outputs": [
    {
     "name": "stdout",
     "output_type": "stream",
     "text": [
      "Current grocery list: ['banana', 'apple', 'apricot']\n",
      "Sorted grocery list ['apple', 'apricot', 'banana']\n",
      "Removed grocery item list: ['apricot', 'banana']\n"
     ]
    }
   ],
   "source": [
    "grocery_list = []\n",
    "\n",
    "grocery_list.append(input(\"First item: \"))\n",
    "grocery_list.append(input(\"Second item: \"))\n",
    "grocery_list.append(input(\"Third item: \"))\n",
    "\n",
    "print(\"Current grocery list:\", grocery_list)\n",
    "\n",
    "grocery_list.sort()\n",
    "\n",
    "print(\"Sorted grocery list\", grocery_list)\n",
    "\n",
    "grocery_list.remove(input(\"Remove item: \"))\n",
    "\n",
    "print(\"Removed grocery item list:\", grocery_list)"
   ]
  },
  {
   "cell_type": "markdown",
   "metadata": {},
   "source": [
    "# Homework Hack 2"
   ]
  },
  {
   "cell_type": "code",
   "execution_count": 66,
   "metadata": {},
   "outputs": [
    {
     "name": "stdout",
     "output_type": "stream",
     "text": [
      "Original list: [1, 2, 3, 4, 5, 6, 7, 8, 9, 10, 11, 12, 13, 14, 15, 16, 17, 18, 19, 20]\n",
      "Even numbers: [2, 4, 6, 8, 10, 12, 14, 16, 18, 20]\n"
     ]
    }
   ],
   "source": [
    "list = []\n",
    "for i in range(20):\n",
    "    list.append(i + 1)\n",
    "\n",
    "print(\"Original list:\", list)\n",
    "\n",
    "even_numbers = [num for num in list if num % 2 == 0]\n",
    "\n",
    "print(\"Even numbers:\", even_numbers)"
   ]
  },
  {
   "cell_type": "markdown",
   "metadata": {},
   "source": [
    "# Homework Hack 3"
   ]
  },
  {
   "cell_type": "code",
   "execution_count": 70,
   "metadata": {},
   "outputs": [
    {
     "name": "stdout",
     "output_type": "stream",
     "text": [
      "Grades: [50, 60, 70]\n",
      "Passing grades: [60, 70]\n",
      "Failing grades: [50]\n"
     ]
    }
   ],
   "source": [
    "grades = []\n",
    "\n",
    "grades.append(int(input(\"Enter first grade: \")))\n",
    "grades.append(int(input(\"Enter second grade: \")))\n",
    "grades.append(int(input(\"Enter third grade: \")))\n",
    "\n",
    "print(\"Grades:\", grades)\n",
    "\n",
    "passing_grades = [grade for grade in grades if grade >= 60]\n",
    "failing_grades = [grade for grade in grades if grade < 60]\n",
    "\n",
    "print(\"Passing grades:\", passing_grades)\n",
    "print(\"Failing grades:\", failing_grades)"
   ]
  },
  {
   "cell_type": "markdown",
   "metadata": {},
   "source": [
    "# Homwork Hack 4"
   ]
  },
  {
   "cell_type": "code",
   "execution_count": null,
   "metadata": {},
   "outputs": [
    {
     "name": "stdout",
     "output_type": "stream",
     "text": [
      "Original List:  [1, 2, 3, 4, 5, 6, 7, 8, 9, 10]\n",
      "Descending order list:  [10, 9, 8, 7, 6, 5, 4, 3, 2, 1]\n",
      "Sliced List: [1, 2, 3, 4, 5]\n",
      "Sorted list: [1, 2, 3, 4, 5, 6, 7, 8, 9, 10]\n"
     ]
    }
   ],
   "source": [
    "numbers = [1,2,3,4,5,6,7,8,9,10]\n",
    "print(\"Original List: \",numbers)\n",
    "\n",
    "descending_numbers = sorted(numbers, reverse=True)\n",
    "print(\"Descending order list: \",descending_numbers)\n",
    "\n",
    "sliced_numbers = numbers[:5]\n",
    "print(\"Sliced List:\", sliced_numbers)\n",
    "\n",
    "numbers = sorted(numbers, reverse=False)\n",
    "print(\"Sorted list:\", numbers)"
   ]
  },
  {
   "cell_type": "markdown",
   "metadata": {},
   "source": [
    "# Homework Hack 5"
   ]
  },
  {
   "cell_type": "code",
   "execution_count": null,
   "metadata": {
    "vscode": {
     "languageId": "javascript"
    }
   },
   "outputs": [
    {
     "data": {
      "application/javascript": "let array = [1, 2, 3, 4, 5];\n\n//print original\nconsole.log(\"Original array\", array)\n\n//reversing the original\narray.reverse()\n\n//print reversed\nconsole.log(\"Reversed array\", array)\n",
      "text/plain": [
       "<IPython.core.display.Javascript object>"
      ]
     },
     "metadata": {},
     "output_type": "display_data"
    }
   ],
   "source": [
    "%%js \n",
    "let array = [1, 2, 3, 4, 5];\n",
    "\n",
    "//print original\n",
    "console.log(\"Original array\", array)\n",
    "\n",
    "//reversing the original\n",
    "array.reverse()\n",
    "\n",
    "//print reversed\n",
    "console.log(\"Reversed array\", array)"
   ]
  },
  {
   "cell_type": "markdown",
   "metadata": {},
   "source": [
    "# Homework Hack 6"
   ]
  },
  {
   "cell_type": "code",
   "execution_count": null,
   "metadata": {
    "vscode": {
     "languageId": "javascript"
    }
   },
   "outputs": [
    {
     "data": {
      "application/javascript": "let sports = [\"soccer\", \"football\", \"basketball\", \"wrestling\", \"swimming\"]\nconsole.log(sports[0])\nconsole.log(sports[3])\n",
      "text/plain": [
       "<IPython.core.display.Javascript object>"
      ]
     },
     "metadata": {},
     "output_type": "display_data"
    }
   ],
   "source": [
    "%%js \n",
    "let sports = [\"soccer\", \"football\", \"basketball\", \"wrestling\", \"swimming\"]\n",
    "console.log(sports[0])\n",
    "console.log(sports[3])"
   ]
  },
  {
   "cell_type": "markdown",
   "metadata": {},
   "source": [
    "# Homework Hack 7"
   ]
  },
  {
   "cell_type": "code",
   "execution_count": null,
   "metadata": {
    "vscode": {
     "languageId": "javascript"
    }
   },
   "outputs": [
    {
     "data": {
      "application/javascript": "// defining chores list\nchoresList = [\"dishes\", \"laundry\", \"clean room\", \"trash\"];\n\n// print the original chores list\nconsole.log(choresList);\n\n// adding a chore using push\nchoresList.push(\"vacuum\");\n\n// printing updated list\nconsole.log(\"Using push to add:\", choresList);\n\n// shift to remove\nchoresList.shift(\"dishes\");\n\n// printing updated list\nconsole.log(\"Using shift to remove:\", choresList);\n\n// pop to remove\nchoresList.pop(\"clean room\");\n\n// printing updated list\nconsole.log(\"Usng pop to remove:\", choresList);\n\n// unshift to add\nchoresList.unshift(\"folding laundry\");\n\n// printing updated list\nconsole.log(\"Using unshift to add:\", choresList);\n\n// bonus, using push() with the spread operator to add multiple items at once\nchoresList.push(...['mop floor', 'gardening']);\n\n// printing updated list\nconsole.log(\"After push() with spread operator:\", choresList);\n",
      "text/plain": [
       "<IPython.core.display.Javascript object>"
      ]
     },
     "metadata": {},
     "output_type": "display_data"
    }
   ],
   "source": [
    "%%js\n",
    "// defining chores list\n",
    "choresList = [\"dishes\", \"laundry\", \"clean room\", \"trash\"];\n",
    "\n",
    "// print the original chores list\n",
    "console.log(choresList);\n",
    "\n",
    "// adding a chore using push\n",
    "choresList.push(\"vacuum\");\n",
    "\n",
    "// printing updated list\n",
    "console.log(\"Using push to add:\", choresList);\n",
    "\n",
    "// shift to remove\n",
    "choresList.shift(\"dishes\");\n",
    "\n",
    "// printing updated list\n",
    "console.log(\"Using shift to remove:\", choresList);\n",
    "\n",
    "// pop to remove\n",
    "choresList.pop(\"clean room\");\n",
    "\n",
    "// printing updated list\n",
    "console.log(\"Usng pop to remove:\", choresList);\n",
    "\n",
    "// unshift to add\n",
    "choresList.unshift(\"folding laundry\");\n",
    "\n",
    "// printing updated list\n",
    "console.log(\"Using unshift to add:\", choresList);\n",
    "\n",
    "// bonus, using push() with the spread operator to add multiple items at once\n",
    "choresList.push(...['mop floor', 'gardening']);\n",
    "\n",
    "// printing updated list\n",
    "console.log(\"After push() with spread operator:\", choresList);"
   ]
  },
  {
   "cell_type": "markdown",
   "metadata": {},
   "source": [
    "# Homework Hack 8"
   ]
  },
  {
   "cell_type": "code",
   "execution_count": null,
   "metadata": {
    "vscode": {
     "languageId": "javascript"
    }
   },
   "outputs": [
    {
     "data": {
      "application/javascript": "let numbers = [1, 4, 9, 16, 21, 26, 33, 40, 47, 51]\n\nconsole.log(\"Original numbers:\", numbers)\n\nfunction countEvenNumbers(arr) {\n    let count = 0;\n    for (let i = 0; i < arr.length; i++) {\n        if (arr[i] % 2 === 0) {\n            count++;\n        }\n    }\n\ncountEvenNumbers(numbers)\n\n\n\n}\n",
      "text/plain": [
       "<IPython.core.display.Javascript object>"
      ]
     },
     "metadata": {},
     "output_type": "display_data"
    }
   ],
   "source": [
    "%%js \n",
    "let numbers = [1, 4, 9, 16, 21, 26, 33, 40, 47, 51]\n",
    "\n",
    "console.log(\"Original numbers:\", numbers)\n",
    "\n",
    "function countEvenNumbers(arr) {\n",
    "    let count = 0;\n",
    "    for (let i = 0; i < arr.length; i++) {\n",
    "        if (arr[i] % 2 === 0) {\n",
    "            count++;\n",
    "        }\n",
    "    }\n",
    "    console.log(count)\n",
    "}\n",
    "\n",
    "countEvenNumbers(numbers)\n"
   ]
  }
 ],
 "metadata": {
  "kernelspec": {
   "display_name": "venv",
   "language": "python",
   "name": "python3"
  },
  "language_info": {
   "codemirror_mode": {
    "name": "ipython",
    "version": 3
   },
   "file_extension": ".py",
   "mimetype": "text/x-python",
   "name": "python",
   "nbconvert_exporter": "python",
   "pygments_lexer": "ipython3",
   "version": "3.12.4"
  }
 },
 "nbformat": 4,
 "nbformat_minor": 2
}
