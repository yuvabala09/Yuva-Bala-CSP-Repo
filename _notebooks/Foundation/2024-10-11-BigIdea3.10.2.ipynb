{
 "cells": [
  {
   "cell_type": "markdown",
   "metadata": {},
   "source": [
    "---\n",
    "layout: post\n",
    "title: 3.2 Hacks and Homework\n",
    "description:  3.2 Big Idea Hacks and Homework\n",
    "type: issues \n",
    "comments: true\n",
    "---"
   ]
  },
  {
   "cell_type": "markdown",
   "metadata": {},
   "source": [
    "# Popcorn Hack 1"
   ]
  },
  {
   "cell_type": "code",
   "execution_count": 2,
   "metadata": {},
   "outputs": [
    {
     "name": "stdout",
     "output_type": "stream",
     "text": [
      "After inserting 35 at second to last position: [1, 2, 3, 4, 3.2, 5]\n",
      "After inserting 25 at third to last position: [1, 2, 3, 4, 2.9, 3.2, 5]\n",
      "After inserting 45 at last position: [1, 2, 3, 4, 2.9, 3.2, 4.7, 5]\n"
     ]
    }
   ],
   "source": [
    "# Initial List w/ Numbers\n",
    "my_list = [1, 2, 3, 4, 5]\n",
    "\n",
    "# Insert a Value at second-to-last position\n",
    "my_list.insert(-1, 3.2)\n",
    "print(\"After inserting 35 at second to last position:\", my_list)\n",
    "\n",
    "# Insert a value at the third-to-last position\n",
    "my_list.insert(-2, 2.9)\n",
    "print(\"After inserting 25 at third to last position:\", my_list)\n",
    "\n",
    "# Insert a value at the last position\n",
    "my_list.insert(-1, 4.7)\n",
    "print(\"After inserting 45 at last position:\", my_list)"
   ]
  },
  {
   "cell_type": "markdown",
   "metadata": {},
   "source": [
    "# Popcorn Hack 2"
   ]
  },
  {
   "cell_type": "code",
   "execution_count": 3,
   "metadata": {},
   "outputs": [
    {
     "name": "stdout",
     "output_type": "stream",
     "text": [
      "Combined list: [1, 2, 3, 4, 5, 6, 7, 8, 9, 10]\n"
     ]
    }
   ],
   "source": [
    "# First list with numbers\n",
    "list1 = [1, 2, 3, 4, 5]\n",
    "\n",
    "# Second list with numbers\n",
    "list2 = [6, 7, 8, 9, 10]\n",
    "\n",
    "# Add second onto the first with extend() method\n",
    "list1.extend(list2)\n",
    "\n",
    "# Print combined version\n",
    "print(\"Combined list:\", list1)"
   ]
  },
  {
   "cell_type": "markdown",
   "metadata": {},
   "source": [
    "# Popcorn Hack 3"
   ]
  },
  {
   "cell_type": "code",
   "execution_count": 10,
   "metadata": {},
   "outputs": [
    {
     "name": "stdout",
     "output_type": "stream",
     "text": [
      "['nectarine', 'starfruit', 'custard apple', 'berry']\n"
     ]
    }
   ],
   "source": [
    "fruits = [\"nectarine\", \"starfruit\", \"plum\", \"fig\", \"custard apple\", \"berry\", \"guava\"]\n",
    "\n",
    "fruits.remove(\"guava\")\n",
    "fruits.pop(3)\n",
    "del fruits[2]\n",
    "\n",
    "print(fruits)"
   ]
  },
  {
   "cell_type": "markdown",
   "metadata": {},
   "source": [
    "# Popcorn Hack 4"
   ]
  },
  {
   "cell_type": "code",
   "execution_count": 11,
   "metadata": {
    "vscode": {
     "languageId": "javascript"
    }
   },
   "outputs": [
    {
     "data": {
      "application/javascript": "\nvar array = [1, 2, 3, 4, 5, 6, 7, 8, 9, 10];\narray.reverse();\n\nconsole.log(array);\n",
      "text/plain": [
       "<IPython.core.display.Javascript object>"
      ]
     },
     "metadata": {},
     "output_type": "display_data"
    }
   ],
   "source": [
    "%%js \n",
    "\n",
    "var array = [1, 2, 3, 4, 5, 6, 7, 8, 9, 10];\n",
    "array.reverse();\n",
    "\n",
    "console.log(array);"
   ]
  },
  {
   "cell_type": "markdown",
   "metadata": {},
   "source": [
    "# Popcorn Hack 5"
   ]
  },
  {
   "cell_type": "code",
   "execution_count": 12,
   "metadata": {
    "vscode": {
     "languageId": "javascript"
    }
   },
   "outputs": [
    {
     "data": {
      "application/javascript": "\n// Initial Array\nlet cars = ['ford', 'honda', 'toyota'];\n\n// Add element to beginning using unshift()\nfruits.unshift('tesla', 'rivian');\n\n// Print\nconsole.log(fruits);\n\n// Initial array\nlet companies = ['apple', 'microsoft', 'google'];\n\n// Add elements to the beginning of the array using the spread operator\nlet moreCompanies = ['spacex', 'x', ...companies];\n\n// Print\nconsole.log(moreVegetables);\n",
      "text/plain": [
       "<IPython.core.display.Javascript object>"
      ]
     },
     "metadata": {},
     "output_type": "display_data"
    }
   ],
   "source": [
    "%%js \n",
    "\n",
    "// Initial Array\n",
    "let cars = ['ford', 'honda', 'toyota'];\n",
    "\n",
    "// Add element to beginning using unshift()\n",
    "fruits.unshift('tesla', 'rivian');\n",
    "\n",
    "// Print\n",
    "console.log(fruits);\n",
    "\n",
    "// Initial array\n",
    "let companies = ['apple', 'microsoft', 'google'];\n",
    "\n",
    "// Add elements to the beginning of the array using the spread operator\n",
    "let moreCompanies = ['spacex', 'x', ...companies];\n",
    "\n",
    "// Print\n",
    "console.log(moreVegetables);"
   ]
  },
  {
   "cell_type": "markdown",
   "metadata": {},
   "source": [
    "# Popcorn Hack 6"
   ]
  },
  {
   "cell_type": "code",
   "execution_count": null,
   "metadata": {
    "vscode": {
     "languageId": "javascript"
    }
   },
   "outputs": [],
   "source": [
    "%%js \n",
    "\n",
    "var bigCompanies = ['Tesla', 'Spacex', 'Apple', 'Nvidia', 'Google', 'Microsoft'];\n",
    "\n",
    "var longCompanyCount = bigCompa.finieslter(brand => brand.length > 4).length; \n",
    "\n",
    "console.log(longBrandCount);"
   ]
  }
 ],
 "metadata": {
  "kernelspec": {
   "display_name": "venv",
   "language": "python",
   "name": "python3"
  },
  "language_info": {
   "codemirror_mode": {
    "name": "ipython",
    "version": 3
   },
   "file_extension": ".py",
   "mimetype": "text/x-python",
   "name": "python",
   "nbconvert_exporter": "python",
   "pygments_lexer": "ipython3",
   "version": "3.12.4"
  }
 },
 "nbformat": 4,
 "nbformat_minor": 2
}
