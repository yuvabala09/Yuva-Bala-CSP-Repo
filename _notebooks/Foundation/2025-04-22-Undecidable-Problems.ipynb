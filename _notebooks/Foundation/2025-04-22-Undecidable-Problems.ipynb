{
 "cells": [
  {
   "cell_type": "markdown",
   "metadata": {},
   "source": [
    "---\n",
    "layout: post\n",
    "title: Undeciable Problems, Hueristics, and Graphs\n",
    "type: issues\n",
    "comments: True\n",
    "---"
   ]
  },
  {
   "cell_type": "markdown",
   "metadata": {},
   "source": [
    "# Popcorn Hack 1:\n",
    "\n",
    "The second code block is an undecidable problem becuase the num starts at 1 and the program repeats a function in which num <- num + 1 until num = 0, so since num will never reach zero, then it is an undecidable problem.\n",
    "\n",
    "# Popcorn Hack 2:\n",
    "- ALgorithims cannot be used to solve undecidable problems (false is the answer to the original question)\n",
    "- If a programmer encounters an undecidable problem, they cannot use an algorithm that sometimes works to solve the problem (answer is flase to the original question)\n",
    "\n",
    "# Homework Hack Part 1:\n"
   ]
  },
  {
   "cell_type": "markdown",
   "metadata": {},
   "source": [
    "# Warm Up Activity for Graphs:\n",
    "- I would choose the location closest to my original location\n",
    "- Real life delivery companies solve this problem by using apps or websites like google maps to plan out the route that gives them the shortest time\n",
    "- It would not be practical to travel every route as that is a waste of time, instead use a simulation or program to give you the most optimal route\n",
    "\n",
    "# Popcorn Hack:\n"
   ]
  }
 ],
 "metadata": {
  "language_info": {
   "name": "python"
  }
 },
 "nbformat": 4,
 "nbformat_minor": 2
}
