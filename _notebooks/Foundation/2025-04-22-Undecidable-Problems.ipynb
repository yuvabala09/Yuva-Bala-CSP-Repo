{
 "cells": [
  {
   "cell_type": "markdown",
   "metadata": {},
   "source": [
    "---\n",
    "layout: post\n",
    "title: Undeciable Problems, Hueristics, and Graphs\n",
    "type: issues\n",
    "comments: True\n",
    "---"
   ]
  },
  {
   "cell_type": "markdown",
   "metadata": {},
   "source": [
    "# Popcorn Hack 1:\n",
    "\n",
    "The second code block is an undecidable problem becuase the num starts at 1 and the program repeats a function in which num <- num + 1 until num = 0, so since num will never reach zero, then it is an undecidable problem.\n",
    "\n",
    "# Popcorn Hack 2:\n",
    "- Algorithims cannot be used to solve undecidable problems (false is the answer to the original question)\n",
    "- If a programmer encounters an undecidable problem, they cannot use an algorithm that sometimes works to solve the problem (answer is flase to the original question)\n",
    "\n",
    "# 5 City Graph\n",
    "\n",
    "# Homework:\n",
    "Q1: In which of the configurations is it possible to have redundant routing between devices Q and V?\n",
    "\n",
    "A Configuration I only\n",
    "B `Configuration II only`\n",
    "C Both configuration I and configuration II\n",
    "D Neither configuration I nor configuration II\n",
    "\n",
    "Q2: In configuration I, what is the minimum number of connections that must be broken or removed before device T can no longer communicate with device U?\n",
    "\n",
    "A One\n",
    "B `Two`\n",
    "C Three\n",
    "D Four"
   ]
  },
  {
   "cell_type": "markdown",
   "metadata": {},
   "source": [
    "# Warm Up Activity for Graphs:\n",
    "- I would choose the location closest to my original location\n",
    "- Real life delivery companies solve this problem by using apps or websites like google maps to plan out the route that gives them the shortest time\n",
    "- It would not be practical to travel every route as that is a waste of time, instead use a simulation or program to give you the most optimal route\n",
    "\n",
    "# Popcorn Hack:"
   ]
  },
  {
   "cell_type": "code",
   "execution_count": 1,
   "metadata": {},
   "outputs": [
    {
     "name": "stdout",
     "output_type": "stream",
     "text": [
      "Change for 63¢: [1, 1, 1, 1, 1, 1, 1, 1, 1, 1, 1, 1, 1, 1, 1, 1, 1, 1, 1, 1, 1, 1, 1, 1, 1, 1, 1, 1, 1, 1, 1, 1, 1, 1, 1, 1, 1, 1, 1, 1, 1, 1, 1, 1, 1, 1, 1, 1, 1, 1, 1, 1, 1, 1, 1, 1, 1, 1, 1, 1, 1, 1, 1]\n",
      "Total coins used: 63\n"
     ]
    }
   ],
   "source": [
    "def greedy_coin_change(amount, coins=[1, 5, 10, 25]):\n",
    "    change = []\n",
    "    for coin in coins:\n",
    "        while amount >= coin:\n",
    "            amount -= coin\n",
    "            change.append(coin)\n",
    "    return change\n",
    "\n",
    "# Example usage:\n",
    "amount = 63\n",
    "result = greedy_coin_change(amount)\n",
    "print(f\"Change for {amount}¢: {result}\")\n",
    "print(f\"Total coins used: {len(result)}\")"
   ]
  },
  {
   "cell_type": "markdown",
   "metadata": {},
   "source": [
    "Algorithm picks the largest coin first until it reduces to 0.\n",
    "\n",
    "## Default coin order:"
   ]
  },
  {
   "cell_type": "code",
   "execution_count": null,
   "metadata": {},
   "outputs": [],
   "source": [
    "coins = [25, 10, 5, 1]  # largest to smallest"
   ]
  },
  {
   "cell_type": "markdown",
   "metadata": {},
   "source": [
    "user small coin firsts, and then there is more total coins, and it is slower to reach the goal."
   ]
  },
  {
   "cell_type": "markdown",
   "metadata": {},
   "source": [
    "Comparison: amount = 63\n",
    "With [25, 10, 5, 1]:\n",
    "\n",
    "- Greedy picks: 25, 25, 10, 1, 1, 1\n",
    "Total coins = 6\n",
    "\n",
    "With [1, 5, 10, 25]:\n",
    "- Picks: sixty-three 1¢ coins\n",
    "\n",
    "## Reflection:\n",
    "The greedy algorithm works well for certain coin systems, such as U.S. coins, where it often gives the optimal solution quickly. However, it doesn't always work if the coin values are unusual—for example, in a system like [9, 6, 1], the greedy method might miss the best combination. In those cases, more advanced strategies like dynamic programming or checking all possibilities are needed to find the perfect answer."
   ]
  },
  {
   "cell_type": "markdown",
   "metadata": {},
   "source": [
    "## Homework:\n",
    "\n",
    "### Part 1: Identify the Problem Type\n",
    "1. “Is this number divisible by 2?”\n",
    "➤ Decidable\n",
    "\n",
    "2. “Will this program stop or run forever?”\n",
    "➤ Undecidable\n",
    "\n",
    "3. “Does this sentence contain the word ‘banana’?”\n",
    "➤ Decidable\n",
    "\n",
    "4. “Will this AI ever become sentient?”\n",
    "➤ Undecidable\n",
    "\n",
    "### Part 2: Algorithm Detective\n",
    "Algorithm A:\n",
    "Step 1: Take a number as input\n",
    "Step 2: If it's even, output “Yes”; otherwise, output “No”\n",
    "➤ Decidable:\n",
    "This algorithm always ends with a clear yes or no answer. It uses a straightforward check (like modulus) to determine evenness.\n",
    "\n",
    "Algorithm B:\n",
    "Step 1: Input any computer program\n",
    "Step 2: Try to determine if the program will eventually stop\n",
    "Step 3: Say “Yes” if it stops, “No” if it runs forever\n",
    "➤ Undecidable:\n",
    "This tackles the Halting Problem, which means you can’t reliably decide the answer for every possible program and input.\n",
    "\n",
    "### Part 3: Real-Life Connection:\n",
    "Imagine trying to figure out whether someone will ever finish writing a book. You can’t look into the future, and the author might keep revising it forever or stop unexpectedly. There's no guaranteed way to predict the outcome without waiting indefinitely. Just like in undecidable problems, there's no universal method that always gives you a final answer.\n",
    "\n",
    "## Heuristics:\n",
    "\n",
    "How did changing the order of coins affect the result?\n",
    "- Switching the coin order from largest-to-smallest to smallest-to-largest made the algorithm much less effective. Instead of choosing the largest possible coin, it kept selecting smaller ones, which increased the total number of coins used and slowed the process down.\n",
    "\n",
    "Which algorithm used fewer coins?\n",
    "- The greedy algorithm that used coins in descending order resulted in fewer coins. By always picking the highest value first, it minimized the number of coins needed to reach the target amount.\n",
    "\n",
    "Where might greedy algorithms work well? Where might they fail?\n",
    "- Greedy algorithms are effective when local choices lead to the best overall result—like with U.S. coin denominations. However, they can fail in systems where choosing the largest option early leads to worse results later, such as with custom coin sets or certain optimization problems like pathfinding.\n",
    "\n",
    "What is one thing you changed, and what did it show you?\n",
    "- I reversed the coin order from [25, 10, 5, 1] to [1, 5, 10, 25], which completely changed how the algorithm performed. This demonstrated that the efficiency of a greedy strategy depends heavily on how the input is arranged and that such algorithms don’t always guarantee the best outcome.\n"
   ]
  }
 ],
 "metadata": {
  "kernelspec": {
   "display_name": "venv",
   "language": "python",
   "name": "python3"
  },
  "language_info": {
   "codemirror_mode": {
    "name": "ipython",
    "version": 3
   },
   "file_extension": ".py",
   "mimetype": "text/x-python",
   "name": "python",
   "nbconvert_exporter": "python",
   "pygments_lexer": "ipython3",
   "version": "3.12.4"
  }
 },
 "nbformat": 4,
 "nbformat_minor": 2
}
