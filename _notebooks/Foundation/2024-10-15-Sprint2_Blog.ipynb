{
 "cells": [
  {
   "cell_type": "markdown",
   "metadata": {},
   "source": [
    "---\n",
    "layout: post\n",
    "title: Sprint 2 Personal Blog\n",
    "description:  Personal Blog for Big Idea 3.1-8, 10\n",
    "type: issues \n",
    "comments: true\n",
    "---"
   ]
  },
  {
   "cell_type": "markdown",
   "metadata": {},
   "source": [
    "# Lesson Taught\n",
    "-----------------------------------------"
   ]
  },
  {
   "cell_type": "markdown",
   "metadata": {},
   "source": [
    "## 3.5 Booleans"
   ]
  },
  {
   "cell_type": "markdown",
   "metadata": {},
   "source": [
    "The two main topics me and my group taught in 3.5 Booleans were relational operators and logical operators. They were very simple commands that I was able to research and learn about to succesfully teach to my classmates. The topic that was assigned to me was Logical Operators which were three boolean functions named NOT, AND, and OR. These three boolean functions were very easy to understand so I tried to personalize it as much as I could to make it more memorable and create real world examples people could connect to. I also created examples in both python and javascript where I used the three boolean functions that were based off of the real world examples."
   ]
  },
  {
   "cell_type": "markdown",
   "metadata": {},
   "source": [
    "-----------------------------------------------\n",
    "# Big Ideas Summaries\n",
    "------------------------------------------------"
   ]
  },
  {
   "cell_type": "markdown",
   "metadata": {},
   "source": [
    "Variables: A variable serves as a container for storing data, allowing programmers to reference and manipulate the data by using the variable's name instead of its actual content.\n",
    "\n",
    "Data Abstraction: Data abstraction simplifies complex data structures by highlighting only the essential details and hiding others. This enables programmers to handle data more efficiently without needing to worry about the underlying processes.\n",
    "\n",
    "Mathematical Expressions: Mathematical expressions consist of numbers, variables, and operators (such as +, -, *, or /) that are evaluated to produce a result. In programming, these expressions are essential for performing calculations and manipulating numerical values.\n",
    "\n",
    "Strings: A string is a series of characters that represent text in programming. It can include letters, numbers, and symbols, and is typically used to handle text-based data, such as words, sentences, or entire paragraphs.\n",
    "\n",
    "Booleans: Booleans are data types that can hold one of two values: true or false. In programming, boolean values help control the flow of a program by determining the outcome of conditions or expressions.\n",
    "\n",
    "Conditionals: Conditionals are programming constructs that make decisions based on whether a specific condition is true or false. If true, a particular block of code runs; if false, an alternative block may execute or be skipped altogether.\n",
    "\n",
    "Nested Conditionals: Nested conditionals involve placing one conditional statement within another, enabling more complex decision-making. The program first evaluates the outer condition, and if it holds true, proceeds to assess the inner condition.\n",
    "\n",
    "Iteration: Iteration refers to the repeated execution of a block of code, usually through loops. Loops allow a program to repeat a set of instructions a certain number of times or until a specific condition is met.\n",
    "\n",
    "Lists: A list is a data structure that stores multiple items in one variable. Lists can hold various types of data, such as numbers, strings, or even other lists, enabling programmers to organize and work with collections of data more easily."
   ]
  },
  {
   "cell_type": "markdown",
   "metadata": {},
   "source": [
    "------------------------------------\n",
    "# Table with my Hacks to each Lesson\n",
    "------------------------------------"
   ]
  },
  {
   "cell_type": "markdown",
   "metadata": {},
   "source": [
    "Lesson 3.1 Hacks: https://yuvabala09.github.io/yuvabalacsprepo/2024/10/07/BigIdea3.1_IPYNB_2_.html\n",
    "\n",
    "Lesson 3.2 Hacks: https://yuvabala09.github.io/yuvabalacsprepo/2024/10/11/BigIdea3.2_IPYNB_2_.html\n",
    "\n",
    "Lesson 3.4 Hacks: https://yuvabala09.github.io/yuvabalacsprepo/2024/10/07/BigIdea3.4_IPYNB_2_.html\n",
    "\n",
    "Lesson 3.6 Hacks: https://yuvabala09.github.io/yuvabalacsprepo/2024/10/09/BigIdea3.6_IPYNB_2_.html\n",
    "\n",
    "Lesson 3.7 Hacks: https://yuvabala09.github.io/yuvabalacsprepo/2024/10/09/BigIdea3.7_IPYNB_2_.html\n",
    "\n",
    "Lesson 3.8 Hacks: https://yuvabala09.github.io/yuvabalacsprepo/2024/10/09/BigIdea3.8_IPYNB_2_.html\n",
    "\n",
    "Lesson 3.10.1 Hacks: https://yuvabala09.github.io/yuvabalacsprepo/2024/10/10/BigIdea3.10.1_IPYNB_2_.html\n",
    "\n",
    "Lesson 3.10.2 Hacks: https://yuvabala09.github.io/yuvabalacsprepo/2024/10/11/BigIdea3.10.2_IPYNB_2_.html"
   ]
  },
  {
   "cell_type": "markdown",
   "metadata": {},
   "source": [
    "--------------------------------------------------\n",
    "# Most Meaningful Lesson\n",
    "--------------------------------------------------"
   ]
  },
  {
   "cell_type": "markdown",
   "metadata": {},
   "source": [
    "The most meaningful lesson for me was 3.10.2 (Noah's group). Their lesson had many different functions defined and it was not too hard to understand as they presented. Their group covered topics like initializing a list, accessing list values, updating a list, appending list items, removing an item, and more. While their group had many different topics and hacks to cover and complete, it was a good experience learning and putting the functions into play with their popcorn hacks and homeworks."
   ]
  },
  {
   "cell_type": "markdown",
   "metadata": {},
   "source": [
    "----------------------------------------\n",
    "# Personal Growth\n",
    "-------------------------------------------------"
   ]
  },
  {
   "cell_type": "markdown",
   "metadata": {},
   "source": [
    "Before this Sprint, I only knew very little about the basics of python and javascript and the bare minimum of HTML. I felt like I did not understand what we were doing in class and did not think this class was the right option. But then after we covered the group lessons, we covered many different main ideas about python and javascript which allowed me to grow my knowledge for CS and actually enjoy the class."
   ]
  },
  {
   "cell_type": "markdown",
   "metadata": {},
   "source": [
    "-------------------------------\n",
    "# Preparation for CB CSP AP Exam\n",
    "-------------------------------"
   ]
  },
  {
   "cell_type": "markdown",
   "metadata": {},
   "source": [
    "This sprint was a huge boost in my confidence for the college board exam. Since we covered many different topics, I feel like I can refer back to this Sprint whenever I feel like I need to prepare more and remember. The college board exam will have many topics that we will have to remember as well as many problems to evaluate which is why I did choose group 3.10.2 as my most memorable lesson. But overall, all the lessons including my own lesson have many different aspects that I feel comfortable going over throughout the course of this class."
   ]
  }
 ],
 "metadata": {
  "language_info": {
   "name": "python"
  }
 },
 "nbformat": 4,
 "nbformat_minor": 2
}
