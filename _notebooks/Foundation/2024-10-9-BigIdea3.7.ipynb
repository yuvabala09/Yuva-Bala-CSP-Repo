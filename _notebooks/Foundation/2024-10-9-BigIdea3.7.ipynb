{
 "cells": [
  {
   "cell_type": "markdown",
   "metadata": {},
   "source": [
    "---\n",
    "layout: post\n",
    "title: 3.7 Hacks and Homework\n",
    "description:  3.7 Big Idea Hacks and Homework\n",
    "type: issues \n",
    "comments: true\n",
    "---"
   ]
  },
  {
   "cell_type": "markdown",
   "metadata": {},
   "source": [
    "# Popcorn Hack 1 Python"
   ]
  },
  {
   "cell_type": "code",
   "execution_count": 2,
   "metadata": {},
   "outputs": [
    {
     "name": "stdout",
     "output_type": "stream",
     "text": [
      "The weather is sunny\n",
      "Your transportation is available\n",
      "Your boots are not present\n",
      "Location determined: True\n",
      "Miles in the hike: 5\n",
      "You need to find your boots first.\n"
     ]
    }
   ],
   "source": [
    "weather = \"sunny\"\n",
    "transportation = \"available\"\n",
    "boots = \"not present\"\n",
    "location_determined = True  \n",
    "miles_in_the_hike = 5  \n",
    "\n",
    "print(\"The weather is \" + str(weather))\n",
    "print(\"Your transportation is \" + str(transportation))\n",
    "print(\"Your boots are \" + str(boots))\n",
    "print(\"Location determined: \" + str(location_determined))\n",
    "print(\"Miles in the hike: \" + str(miles_in_the_hike))\n",
    "\n",
    "if weather == \"sunny\":\n",
    "    if transportation == \"available\":\n",
    "        if boots == \"present\":\n",
    "            if location_determined:\n",
    "                if miles_in_the_hike <= 10:\n",
    "                    print(\"You are ready to go hiking!\")\n",
    "                else:\n",
    "                    print(\"This is a long hike! Prepare more if you want to go.\")\n",
    "            else:\n",
    "                print(\"You need to decide where you're going hiking.\")\n",
    "        else:\n",
    "            print(\"You need to find your boots first.\")\n",
    "    else:\n",
    "        print(\"You need to arrange for transportation.\")\n",
    "else:\n",
    "    print(\"It's not good weather for hiking.\")"
   ]
  },
  {
   "cell_type": "markdown",
   "metadata": {},
   "source": [
    "# Popcorn Hack 2 Javascript"
   ]
  },
  {
   "cell_type": "code",
   "execution_count": 3,
   "metadata": {
    "vscode": {
     "languageId": "javascript"
    }
   },
   "outputs": [
    {
     "data": {
      "application/javascript": "let weather = \"sunny\";\nlet transportation = \"available\";\nlet boots = \"not present\";\nlet location_determined = true;  // Change this to false if the location is not determined\nlet miles_in_the_hike = 5;        // Set the number of miles for the hike\n\nconsole.log(\"The weather is \" + weather);\nconsole.log(\"Your transportation is \" + transportation);\nconsole.log(\"Your boots are \" + boots);\nconsole.log(\"Location determined: \" + location_determined);\nconsole.log(\"Miles in the hike: \" + miles_in_the_hike);\n\nif (weather === \"sunny\") {\n    if (transportation === \"available\") {\n        if (boots === \"present\") {\n            if (location_determined) {\n                if (miles_in_the_hike <= 10) {\n                    console.log(\"You are ready to go hiking!\");\n                } else {\n                    console.log(\"This is a long hike! Make sure you're prepared.\");\n                }\n            } else {\n                console.log(\"You need to decide where you're going hiking.\");\n            }\n        } else {\n            console.log(\"You need to find your boots first.\");\n        }\n    } else {\n        console.log(\"You need to arrange transportation.\");\n    }\n} else {\n    console.log(\"It's not good weather for hiking.\");\n}\n",
      "text/plain": [
       "<IPython.core.display.Javascript object>"
      ]
     },
     "metadata": {},
     "output_type": "display_data"
    }
   ],
   "source": [
    "%%js \n",
    "let weather = \"sunny\";\n",
    "let transportation = \"available\";\n",
    "let boots = \"not present\";\n",
    "let location_determined = true;  \n",
    "let miles_in_the_hike = 5;       \n",
    "\n",
    "console.log(\"The weather is \" + weather);\n",
    "console.log(\"Your transportation is \" + transportation);\n",
    "console.log(\"Your boots are \" + boots);\n",
    "console.log(\"Location determined: \" + location_determined);\n",
    "console.log(\"Miles in the hike: \" + miles_in_the_hike);\n",
    "\n",
    "if (weather === \"sunny\") {\n",
    "    if (transportation === \"available\") {\n",
    "        if (boots === \"present\") {\n",
    "            if (location_determined) {\n",
    "                if (miles_in_the_hike <= 10) {\n",
    "                    console.log(\"You are ready to go hiking!\");\n",
    "                } else {\n",
    "                    console.log(\"This is a long hike! Make sure you're prepared.\");\n",
    "                }\n",
    "            } else {\n",
    "                console.log(\"You need to decide where you're going hiking.\");\n",
    "            }\n",
    "        } else {\n",
    "            console.log(\"You need to find your boots first.\");\n",
    "        }\n",
    "    } else {\n",
    "        console.log(\"You need to arrange transportation.\");\n",
    "    }\n",
    "} else {\n",
    "    console.log(\"It's not good weather for hiking.\");\n",
    "}"
   ]
  },
  {
   "cell_type": "markdown",
   "metadata": {},
   "source": [
    "# Homework Hack 1 Python"
   ]
  },
  {
   "cell_type": "code",
   "execution_count": 6,
   "metadata": {},
   "outputs": [
    {
     "name": "stdout",
     "output_type": "stream",
     "text": [
      "The weather is sunny\n",
      "The suncreen is available\n",
      "The snacks are in possesion\n",
      "You are ready to go to the beach!\n"
     ]
    }
   ],
   "source": [
    "weather = \"sunny\"\n",
    "sunscreen = \"available\"\n",
    "snacks = \"in possesion\"\n",
    "\n",
    "print(\"The weather is \" + str(weather))\n",
    "print(\"The suncreen is \" +str(sunscreen))\n",
    "print(\"The snacks are \" +str(snacks))\n",
    "\n",
    "if weather == \"sunny\":\n",
    "    if sunscreen == \"available\":\n",
    "        if snacks == \"in possesion\":\n",
    "            print(\"You are ready to go to the beach!\")\n",
    "        else:\n",
    "            print(\"You need to get some snacks first.\")\n",
    "    else:\n",
    "        print(\"You need to bring some sunscreen.\")\n",
    "else:\n",
    "    print(\"The weather is not good for the beach today.\")"
   ]
  },
  {
   "cell_type": "markdown",
   "metadata": {},
   "source": [
    "# Homework Hack 2 Python"
   ]
  },
  {
   "cell_type": "code",
   "execution_count": 9,
   "metadata": {},
   "outputs": [
    {
     "name": "stdout",
     "output_type": "stream",
     "text": [
      "Age of adopter 15\n",
      "Square footage of living space is 600\n",
      "Person is True\n",
      "Person is not of the legal age to adopt.\n"
     ]
    }
   ],
   "source": [
    "age = \"15\"\n",
    "sqft = \"600\"\n",
    "available = True\n",
    "\n",
    "print(\"Age of adopter \" + str(age))\n",
    "print(\"Square footage of living space is \" + str(sqft))\n",
    "print(\"Person is \" + str(available))\n",
    "\n",
    "if age >= \"18\":\n",
    "    if sqft >= \"50\":\n",
    "        if available == True:\n",
    "            print(\"Person is qualified to adopt a pet!\")\n",
    "        else:\n",
    "            print(\"Person is not available to adopt a pet.\")\n",
    "    else:\n",
    "        print(\"Square footage not big enough to accomadate pet.\")\n",
    "else:\n",
    "    print(\"Person is not of the legal age to adopt.\")\n"
   ]
  },
  {
   "cell_type": "markdown",
   "metadata": {},
   "source": [
    "# Homework Hack 3 Python"
   ]
  },
  {
   "cell_type": "code",
   "execution_count": 10,
   "metadata": {},
   "outputs": [
    {
     "name": "stdout",
     "output_type": "stream",
     "text": [
      "The weather is clear\n",
      "The running shoes are present\n",
      "The amount of days practiced is 26\n",
      "You are ready for the marathon!\n"
     ]
    }
   ],
   "source": [
    "weather = \"clear\"\n",
    "running_shoes = \"present\"\n",
    "practiced_days = \"26\"\n",
    "\n",
    "print(\"The weather is \" + str(weather))\n",
    "print(\"The running shoes are \" + str(running_shoes))\n",
    "print(\"The amount of days practiced is \" + str(practiced_days))\n",
    "\n",
    "if weather == \"clear\":\n",
    "    if running_shoes == \"present\":\n",
    "        if practiced_days == \"26\":\n",
    "            print(\"You are ready for the marathon!\")\n",
    "        else:\n",
    "            print(\"You need to practice more.\")\n",
    "    else:\n",
    "        print(\"You need to get your running shoes.\")\n",
    "else:\n",
    "    print(\"The weather is not good for the marathon.\")\n"
   ]
  },
  {
   "cell_type": "markdown",
   "metadata": {},
   "source": [
    "# Homework Hack 4 Javascript"
   ]
  },
  {
   "cell_type": "code",
   "execution_count": 12,
   "metadata": {
    "vscode": {
     "languageId": "javascript"
    }
   },
   "outputs": [
    {
     "data": {
      "application/javascript": "let studyMaterials = \"present\";  \nlet quietPlace = \"available\";     \nlet feelingTired = false;          \n\nconsole.log(\"Study Materials status:\", studyMaterials);\nconsole.log(\"Quiet place status:\", quietPlace);\nconsole.log(\"Feeling tired:\", feelingTired);\n\nif (studyMaterials == \"present\") {\n    if (quietPlace == \"available\") {\n        if (feelingTired == false) {\n            console.log(\"You are ready to study.\");\n        } else {\n            console.log(\"Study when you are not tired.\");\n        }\n    } else {\n        console.log(\"Find a quiet place to study.\");\n    }\n} else {\n    console.log(\"You need to gather materials.\");\n}\n",
      "text/plain": [
       "<IPython.core.display.Javascript object>"
      ]
     },
     "metadata": {},
     "output_type": "display_data"
    }
   ],
   "source": [
    "%%js\n",
    "let studyMaterials = \"present\";  \n",
    "let quietPlace = \"available\";     \n",
    "let feelingTired = false;          \n",
    "\n",
    "console.log(\"Study Materials status:\", studyMaterials);\n",
    "console.log(\"Quiet place status:\", quietPlace);\n",
    "console.log(\"Feeling tired:\", feelingTired);\n",
    "\n",
    "if (studyMaterials == \"present\") {\n",
    "    if (quietPlace == \"available\") {\n",
    "        if (feelingTired == false) {\n",
    "            console.log(\"You are ready to study.\");\n",
    "        } else {\n",
    "            console.log(\"Study when you are not tired.\");\n",
    "        }\n",
    "    } else {\n",
    "        console.log(\"Find a quiet place to study.\");\n",
    "    }\n",
    "} else {\n",
    "    console.log(\"You need to gather materials.\");\n",
    "}"
   ]
  },
  {
   "cell_type": "markdown",
   "metadata": {},
   "source": [
    "# Homework Hack 5 Javascript"
   ]
  },
  {
   "cell_type": "code",
   "execution_count": 13,
   "metadata": {
    "vscode": {
     "languageId": "javascript"
    }
   },
   "outputs": [
    {
     "data": {
      "application/javascript": "let ingredients_flour_eggs_present = \"present\";\nlet oven = \"working\";\nlet time_2hrs = \"available\"\n\nconsole.log(\"Ingredients are:\", ingredients_flour_eggs_present)\nconsole.log(\"The oven is:\", oven)\nconsole.log(\"There is time:\", time_2hrs)\n\nif (ingredients_flour_eggs_present == \"present\") {\n    if (oven == \"working\") {\n        if (time_2hrs == \"available\") {\n            console.log(\"You can start baking a cake.\");\n        } else {\n            console.log(\"You need to find another time to accomadate the baking session.\");\n        }\n    } else {\n        console.log(\"You need to fix the oven in order to start baking.\");\n    }\n} else {\n    console.log(\"You need to gather ingredients.\");\n}\n",
      "text/plain": [
       "<IPython.core.display.Javascript object>"
      ]
     },
     "metadata": {},
     "output_type": "display_data"
    }
   ],
   "source": [
    "%%js\n",
    "let ingredients_flour_eggs_present = \"present\";\n",
    "let oven = \"working\";\n",
    "let time_2hrs = \"available\"\n",
    "\n",
    "console.log(\"Ingredients are:\", ingredients_flour_eggs_present)\n",
    "console.log(\"The oven is:\", oven)\n",
    "console.log(\"There is time:\", time_2hrs)\n",
    "\n",
    "if (ingredients_flour_eggs_present == \"present\") {\n",
    "    if (oven == \"working\") {\n",
    "        if (time_2hrs == \"available\") {\n",
    "            console.log(\"You can start baking a cake.\");\n",
    "        } else {\n",
    "            console.log(\"You need to find another time to accomadate the baking session.\");\n",
    "        }\n",
    "    } else {\n",
    "        console.log(\"You need to fix the oven in order to start baking.\");\n",
    "    }\n",
    "} else {\n",
    "    console.log(\"You need to gather ingredients.\");\n",
    "}"
   ]
  },
  {
   "cell_type": "markdown",
   "metadata": {},
   "source": [
    "# Homework Hack 6 Javascript"
   ]
  },
  {
   "cell_type": "code",
   "execution_count": 14,
   "metadata": {
    "vscode": {
     "languageId": "javascript"
    }
   },
   "outputs": [
    {
     "data": {
      "application/javascript": "let weather = \"clear\";\nlet tent = \"available\";\nlet food_water = \"present\"\n\nconsole.log(\"The weather is:\", weather)\nconsole.log(\"The tent is:\", tent)\nconsole.log(\"The food and water is:\", food_water)\n\nif (weather == \"clear\") {\n    if (tent == \"available\") {\n        if (food_water == \"present\") {\n            console.log(\"You are ready to go camping.\");\n        } else {\n            console.log(\"You need to pack more food and water.\");\n        }\n    } else {\n        console.log(\"You need to buy or borrow a tent.\");\n    }\n} else {\n    console.log(\"The weather is not good for camping right now.\");\n}\n",
      "text/plain": [
       "<IPython.core.display.Javascript object>"
      ]
     },
     "metadata": {},
     "output_type": "display_data"
    }
   ],
   "source": [
    "%%js \n",
    "let weather = \"clear\";\n",
    "let tent = \"available\";\n",
    "let food_water = \"present\"\n",
    "\n",
    "console.log(\"The weather is:\", weather)\n",
    "console.log(\"The tent is:\", tent)\n",
    "console.log(\"The food and water is:\", food_water)\n",
    "\n",
    "if (weather == \"clear\") {\n",
    "    if (tent == \"available\") {\n",
    "        if (food_water == \"present\") {\n",
    "            console.log(\"You are ready to go camping.\");\n",
    "        } else {\n",
    "            console.log(\"You need to pack more food and water.\");\n",
    "        }\n",
    "    } else {\n",
    "        console.log(\"You need to buy or borrow a tent.\");\n",
    "    }\n",
    "} else {\n",
    "    console.log(\"The weather is not good for camping right now.\");\n",
    "}\n"
   ]
  }
 ],
 "metadata": {
  "kernelspec": {
   "display_name": "venv",
   "language": "python",
   "name": "python3"
  },
  "language_info": {
   "codemirror_mode": {
    "name": "ipython",
    "version": 3
   },
   "file_extension": ".py",
   "mimetype": "text/x-python",
   "name": "python",
   "nbconvert_exporter": "python",
   "pygments_lexer": "ipython3",
   "version": "3.12.4"
  }
 },
 "nbformat": 4,
 "nbformat_minor": 2
}
