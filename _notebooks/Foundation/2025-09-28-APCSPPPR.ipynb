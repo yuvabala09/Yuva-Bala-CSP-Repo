{
 "cells": [
  {
   "cell_type": "markdown",
   "metadata": {},
   "source": [
    "---\n",
    "layout: post\n",
    "title: Ap Test Project\n",
    "type: issues\n",
    "comments: True\n",
    "---"
   ]
  },
  {
   "cell_type": "code",
   "execution_count": null,
   "metadata": {},
   "outputs": [],
   "source": []
  },
  {
   "cell_type": "code",
   "execution_count": 2,
   "metadata": {},
   "outputs": [
    {
     "name": "stdout",
     "output_type": "stream",
     "text": [
      "Welcome to Hangman! Let's start the game.\n",
      "\n",
      "Word: _ _ _ _ _ _ _\n",
      "Lives remaining: 7\n",
      "Good job! 'h' is in the word.\n",
      "\n",
      "Word: h _ _ _ _ _ _\n",
      "Lives remaining: 7\n",
      "Sorry, 'z' is not in the word.\n",
      "\n",
      "Word: h _ _ _ _ _ _\n",
      "Lives remaining: 6\n",
      "Sorry, 'i' is not in the word.\n",
      "\n",
      "Word: h _ _ _ _ _ _\n",
      "Lives remaining: 5\n",
      "Good job! 'a' is in the word.\n",
      "\n",
      "Word: h a _ _ _ a _\n",
      "Lives remaining: 5\n",
      "Good job! 'n' is in the word.\n",
      "\n",
      "Word: h a n _ _ a n\n",
      "Lives remaining: 5\n",
      "Good job! 'g' is in the word.\n",
      "\n",
      "Word: h a n g _ a n\n",
      "Lives remaining: 5\n",
      "Good job! 'm' is in the word.\n",
      "\n",
      "Congratulations! You guessed the word: hangman\n"
     ]
    }
   ],
   "source": [
    "import random\n",
    "\n",
    "# List: Where the words are stored (requirement for list storage)\n",
    "word_list = [\"python\", \"hangman\", \"challenge\", \"student\", \"programming\", \"function\"]\n",
    "\n",
    "# Procedure: Student-developed procedure that includes sequencing, selection, iteration, and uses a parameter\n",
    "def process_guess(word, display, guess):\n",
    "    \"\"\"\n",
    "    This function updates the display list with the guessed letter if it's in the word.\n",
    "    Parameters:\n",
    "    - word: the secret word\n",
    "    - display: the current state of guessed letters and blanks\n",
    "    - guess: the letter guessed by the user\n",
    "    \"\"\"\n",
    "    correct = False\n",
    "    for index in range(len(word)):\n",
    "        if word[index] == guess:\n",
    "            display[index] = guess\n",
    "            correct = True\n",
    "    return correct  # Return True if the guess was correct, otherwise False\n",
    "\n",
    "# Start of the program\n",
    "def hangman_game():\n",
    "    print(\"Welcome to Hangman! Let's start the game.\")\n",
    "\n",
    "    # 2. Randomly choosing a word from the list (using list for managing complexity)\n",
    "    secret_word = random.choice(word_list)\n",
    "    display_word = [\"_\"] * len(secret_word)  # blank spots\n",
    "\n",
    "    lives = 7\n",
    "    guessed_letters = []  # list to store guessed letters\n",
    "\n",
    "    while lives > 0 and \"_\" in display_word:\n",
    "        print(\"\\nWord: \" + \" \".join(display_word))\n",
    "        print(f\"Lives remaining: {lives}\")\n",
    "        guess = input(\"Guess a letter: \").lower()\n",
    "\n",
    "        if guess in guessed_letters:\n",
    "            print(\"You already guessed that letter.\")\n",
    "            continue\n",
    "        guessed_letters.append(guess)\n",
    "\n",
    "        # 3. Calling the student-developed procedure\n",
    "        if process_guess(secret_word, display_word, guess):\n",
    "            print(f\"Good job! '{guess}' is in the word.\")\n",
    "        else:\n",
    "            print(f\"Sorry, '{guess}' is not in the word.\")\n",
    "            lives -= 1\n",
    "\n",
    "    # Final outcome\n",
    "    if \"_\" not in display_word:\n",
    "        print(\"\\nCongratulations! You guessed the word:\", secret_word)\n",
    "    else:\n",
    "        print(\"\\nGame Over. The word was:\", secret_word)\n",
    "\n",
    "# 4. Calling the main function to start the game\n",
    "hangman_game()"
   ]
  }
 ],
 "metadata": {
  "kernelspec": {
   "display_name": "venv",
   "language": "python",
   "name": "python3"
  },
  "language_info": {
   "codemirror_mode": {
    "name": "ipython",
    "version": 3
   },
   "file_extension": ".py",
   "mimetype": "text/x-python",
   "name": "python",
   "nbconvert_exporter": "python",
   "pygments_lexer": "ipython3",
   "version": "3.12.4"
  }
 },
 "nbformat": 4,
 "nbformat_minor": 2
}
