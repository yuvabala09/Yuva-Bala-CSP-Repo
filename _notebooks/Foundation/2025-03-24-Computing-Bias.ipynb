{
 "cells": [
  {
   "cell_type": "markdown",
   "metadata": {},
   "source": [
    "---\n",
    "layout: post\n",
    "title: Computing Bias Period 2\n",
    "type: issues\n",
    "comments: True\n",
    "---"
   ]
  },
  {
   "cell_type": "markdown",
   "metadata": {},
   "source": [
    "# Popcorn Hack 1\n",
    "What is an example of Explicit Data?\n",
    "\n",
    "A Netflix recommends shows based on your viewing history.\n",
    "B You provide your name, age, and preferences when creating a Netflix account.\n",
    "C Netflix tracks the time you spend watching certain genres.\n",
    "\n",
    "My Answer: B, when you provide your name, age, preferences, etc when creating a Netflix account is an example of explicit data because it is directly provided by the Netflix user and is a primary source."
   ]
  },
  {
   "cell_type": "markdown",
   "metadata": {},
   "source": [
    "# Popcorn Hack 2\n",
    "What is an example of Data Bias?\n",
    "\n",
    "A A hiring algorithm favors male candidates because the training data contains a disproportionate number of male resumes.\n",
    "B A system is trained on a dataset where certain groups, such as people with darker skin tones, are underrepresented.\n",
    "C A researcher intentionally selects data that supports their own beliefs about the impact of screen time on grades.\n",
    "\n",
    "My Answer: B, the system that is trained on a dataset where certain groups are underrepresented as the system is trained to not give an equal chance to these groups. This is an example of Data Bias."
   ]
  },
  {
   "cell_type": "markdown",
   "metadata": {},
   "source": [
    "# Popcorn Hack 3\n",
    "An example of unintentional bias is a hiring manager subconsciously favoring candidates who attended the same university as them. Even though they believe they are selecting the most qualified person, their familiarity with the school creates an affinity bias, leading them to prefer applicants with a similar background without realizing it. "
   ]
  },
  {
   "cell_type": "markdown",
   "metadata": {},
   "source": [
    "# Homework Hack\n",
    "\n",
    "## MCQ Score: 6/6\n",
    "[Computing Bias](/yuvabalacsprepo/images/computingbiasmcq.png)\n",
    "\n",
    "## FRQ Response: \n",
    "Implicit data refers to information that is collected indirectly, often through user actions or behaviors, without the user explicitly providing it. This type of data is usually gathered passively, such as through browsing history, clicks, or purchase patterns. For example, a music streaming app might track the songs a user listens to frequently and use that information to recommend new music, without the user actively stating their preferences. On the other hand, explicit data is information that users actively provide, typically through direct input. This data is intentionally shared by the user, such as when they fill out a profile on a website, providing details like their name, age, location, or interests. While implicit data is based on inferences from behavior, explicit data is provided directly by the user."
   ]
  }
 ],
 "metadata": {
  "language_info": {
   "name": "python"
  }
 },
 "nbformat": 4,
 "nbformat_minor": 2
}
