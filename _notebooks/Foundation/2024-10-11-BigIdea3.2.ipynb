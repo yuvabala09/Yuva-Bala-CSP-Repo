{
 "cells": [
  {
   "cell_type": "markdown",
   "metadata": {},
   "source": [
    "---\n",
    "layout: post\n",
    "title: 3.2 Hacks and Homework\n",
    "description:  3.2 Big Idea Hacks and Homework\n",
    "type: issues \n",
    "comments: true\n",
    "---"
   ]
  },
  {
   "cell_type": "markdown",
   "metadata": {},
   "source": [
    "# Popcorn Hack 1 Python"
   ]
  },
  {
   "cell_type": "code",
   "execution_count": 1,
   "metadata": {},
   "outputs": [
    {
     "name": "stdout",
     "output_type": "stream",
     "text": [
      "Initial set: {1, 2, 3, 4, 5}\n",
      "After adding 6: {1, 2, 3, 4, 5, 6}\n",
      "After removing 2: {1, 3, 4, 5, 6}\n",
      "Union with {7, 8, 9}: {1, 3, 4, 5, 6, 7, 8, 9}\n",
      "After clearing the set: set()\n",
      "Set with duplicates removed: {1, 2, 3, 4}\n",
      "Length of the set: 4\n"
     ]
    }
   ],
   "source": [
    "# Step 1: Create a Set\n",
    "my_set = {1, 2, 3, 4, 5}\n",
    "print(\"Initial set:\", my_set)\n",
    "\n",
    "# Step 2: Add an Element\n",
    "my_set.add(6)  # Add 6 to the set\n",
    "print(\"After adding 6:\", my_set)\n",
    "\n",
    "# Step 3: Remove an Element\n",
    "my_set.remove(2)  # Remove 2 from the set\n",
    "print(\"After removing 2:\", my_set)\n",
    "\n",
    "# Step 4: Union of Sets\n",
    "union_set = my_set.union({7, 8, 9})  # Union with {7, 8, 9}\n",
    "print(\"Union with {7, 8, 9}:\", union_set)\n",
    "\n",
    "# Step 5: Clear the Set\n",
    "my_set.clear()  # Clear the set\n",
    "print(\"After clearing the set:\", my_set)\n",
    "\n",
    "# Bonus: Create a set with duplicates (duplicates are automatically removed)\n",
    "duplicate_set = {1, 2, 2, 3, 3, 4}\n",
    "print(\"Set with duplicates removed:\", duplicate_set)\n",
    "\n",
    "# Find the length of the set\n",
    "length = len(duplicate_set)\n",
    "print(\"Length of the set:\", length)"
   ]
  },
  {
   "cell_type": "markdown",
   "metadata": {},
   "source": [
    "# Popcorn Hack 2 Python"
   ]
  },
  {
   "cell_type": "code",
   "execution_count": 4,
   "metadata": {},
   "outputs": [
    {
     "name": "stdout",
     "output_type": "stream",
     "text": [
      "Original string: I dont like AP CSP class\n",
      "Length of the string: 24\n",
      "Extracted word: ke AP \n",
      "String in uppercase: I DONT LIKE AP CSP CLASS\n",
      "String after replacement: I dont like AP CSP class\n",
      "Reversed string: ssalc PSC PA ekil tnod I\n"
     ]
    }
   ],
   "source": [
    "# Step 1: Create a String\n",
    "my_string = \"I dont like AP CSP class\"\n",
    "print(\"Original string:\", my_string)\n",
    "\n",
    "# Step 2: String Length\n",
    "string_length = len(my_string)  \n",
    "print(\"Length of the string:\", string_length)\n",
    "\n",
    "# Step 3: String Slicing\n",
    "python_substring = my_string[9:15]  # Extract \"Python\" from the string (characters 9 to 14)\n",
    "print(\"Extracted word:\", python_substring)\n",
    "\n",
    "# Step 4: String Uppercase\n",
    "uppercase_string = my_string.upper()  \n",
    "print(\"String in uppercase:\", uppercase_string)\n",
    "\n",
    "# Step 5: String Replace\n",
    "replaced_string = my_string.replace(\"fun\", \"good\")  \n",
    "print(\"String after replacement:\", replaced_string)\n",
    "\n",
    "# Bonus: Reverse the string using slicing\n",
    "reversed_string = my_string[::-1]  \n",
    "print(\"Reversed string:\", reversed_string)"
   ]
  },
  {
   "cell_type": "markdown",
   "metadata": {},
   "source": [
    "# Popcorn Hack 3 Python"
   ]
  },
  {
   "cell_type": "code",
   "execution_count": 5,
   "metadata": {},
   "outputs": [
    {
     "name": "stdout",
     "output_type": "stream",
     "text": [
      "Original list: [3, 5, 7, 9, 11]\n",
      "Third element: 7\n",
      "After modifying the second element: [3, 6, 7, 9, 11]\n",
      "After appending 13: [3, 6, 7, 9, 11, 13]\n",
      "After removing 9: [3, 6, 7, 11, 13]\n",
      "List sorted in descending order: [13, 11, 7, 6, 3]\n"
     ]
    }
   ],
   "source": [
    "# Step 1: Create a List\n",
    "my_list = [3, 5, 7, 9, 11]\n",
    "print(\"Original list:\", my_list)\n",
    "\n",
    "# Step 2: Access an Element\n",
    "third_element = my_list[2] \n",
    "print(\"Third element:\", third_element)\n",
    "\n",
    "# Step 3: Modify an Element\n",
    "my_list[1] = 6 \n",
    "print(\"After modifying the second element:\", my_list)\n",
    "\n",
    "# Step 4: Add an Element\n",
    "my_list.append(13) \n",
    "print(\"After appending 13:\", my_list)\n",
    "\n",
    "# Step 5: Remove an Element\n",
    "my_list.remove(9)  \n",
    "print(\"After removing 9:\", my_list)\n",
    "\n",
    "# Bonus: Sort the list in descending order\n",
    "my_list.sort(reverse=True)  \n",
    "print(\"List sorted in descending order:\", my_list)"
   ]
  },
  {
   "cell_type": "markdown",
   "metadata": {},
   "source": [
    "# Popcorn Hack 4 Python"
   ]
  },
  {
   "cell_type": "code",
   "execution_count": 7,
   "metadata": {},
   "outputs": [
    {
     "name": "stdout",
     "output_type": "stream",
     "text": [
      "Dictionary created.\n",
      "Entire dictionary: {'name': 'Yuva Bala', 'email': 'yuvabala@gmail.com', 'phone number': '123-456-7890'}\n",
      "My Name is: Yuva Bala\n",
      "Length of the dictionary: 3\n",
      "Type of the dictionary: <class 'dict'>\n"
     ]
    }
   ],
   "source": [
    "# Step 1: Create a Dictionary\n",
    "personal_info = {\n",
    "    \"name\": \"Yuva Bala\",\n",
    "    \"email\": \"yuvabala@gmail.com\",\n",
    "    \"phone number\": \"123-456-7890\"\n",
    "}\n",
    "print(\"Dictionary created.\")\n",
    "\n",
    "# Step 2: Print out the Dictionary\n",
    "print(\"Entire dictionary:\", personal_info)\n",
    "\n",
    "# Step 3: Print out the name from your dictionary\n",
    "print(\"My Name is:\", personal_info[\"name\"])\n",
    "\n",
    "# Step 4: Print the Length\n",
    "dict_length = len(personal_info)  # Find the length of the dictionary\n",
    "print(\"Length of the dictionary:\", dict_length)\n",
    "\n",
    "# Step 5: Print the Type\n",
    "dict_type = type(personal_info)  # Find the type of the dictionary\n",
    "print(\"Type of the dictionary:\", dict_type)"
   ]
  },
  {
   "cell_type": "markdown",
   "metadata": {},
   "source": [
    "# Homework Hack 1 Python"
   ]
  },
  {
   "cell_type": "code",
   "execution_count": 10,
   "metadata": {},
   "outputs": [
    {
     "name": "stdout",
     "output_type": "stream",
     "text": [
      "['Running', 'Swimming', 'Learning', 'Playing Tennis']\n",
      "{'full_name': 'Yuva Bala', 'years': 15, 'location': 'San Diego', 'favorite_food': 'Steak', 'activities': ['Running', 'Swimming', 'Learning', 'Playing Tennis']}\n",
      "I have 4 activities.\n",
      "('Learning', 'Playing Tennis')\n",
      "{'Business', 'Writing', 'Coding'}\n",
      "No new skills\n",
      "Total cost: $69.0\n"
     ]
    }
   ],
   "source": [
    "personal_info = { \"full_name\": \"Yuva Bala\", \"years\": 15, \"location\": \"San Diego\", \"favorite_food\": \"Steak\" }\n",
    "\n",
    "activities = [\"Running\", \"Swimming\", \"Learning\", \"Playing Tennis\"] \n",
    "print(activities)\n",
    "\n",
    "personal_info[\"activities\"] = activities\n",
    "print(personal_info)\n",
    "\n",
    "activity_available = True \n",
    "total_activities = len(activities) \n",
    "print(f\"I have {total_activities} activities.\")\n",
    "\n",
    "favorite_activities = (\"Learning\", \"Playing Tennis\") \n",
    "print(favorite_activities)\n",
    "\n",
    "skills = {\"Coding\", \"Business\", \"Writing\"} \n",
    "print(skills)\n",
    "\n",
    "new_skill = \"No new skills\" \n",
    "print(new_skill)\n",
    "\n",
    "total_cost = (len(activities) * 7.5) + (len(skills) * 13) \n",
    "print(f\"Total cost: ${total_cost}\")"
   ]
  },
  {
   "cell_type": "markdown",
   "metadata": {},
   "source": [
    "# Popcorn Hack 1 JS"
   ]
  },
  {
   "cell_type": "code",
   "execution_count": 11,
   "metadata": {
    "vscode": {
     "languageId": "javascript"
    }
   },
   "outputs": [
    {
     "data": {
      "application/javascript": "let Set1 = new Set([1, 2, 3]);\nconsole.log(\"Set1:\", Set1);\n\nlet Set2 = new Set([4, 5, 6]);\nconsole.log(\"Set2:\", Set2);\n\nSet1.add(7);\nconsole.log(\"Set1 after adding 7:\", Set1);\n\nSet1.delete(1);\nconsole.log(\"Set1 after removing 1:\", Set1);\n\nlet unionSet = new Set([...Set1, ...Set2]);\nconsole.log(\"Union of Set1 and Set2:\", unionSet);\n",
      "text/plain": [
       "<IPython.core.display.Javascript object>"
      ]
     },
     "metadata": {},
     "output_type": "display_data"
    }
   ],
   "source": [
    "%%js \n",
    "let Set1 = new Set([1, 2, 3]);\n",
    "console.log(\"Set1:\", Set1);\n",
    "\n",
    "let Set2 = new Set([4, 5, 6]);\n",
    "console.log(\"Set2:\", Set2);\n",
    "\n",
    "Set1.add(7);\n",
    "console.log(\"Set1 after adding 7:\", Set1);\n",
    "\n",
    "Set1.delete(1);\n",
    "console.log(\"Set1 after removing 1:\", Set1);\n",
    "\n",
    "let unionSet = new Set([...Set1, ...Set2]);\n",
    "console.log(\"Union of Set1 and Set2:\", unionSet);"
   ]
  },
  {
   "cell_type": "markdown",
   "metadata": {},
   "source": [
    "# Popcorn Hack 2 JS"
   ]
  },
  {
   "cell_type": "code",
   "execution_count": 12,
   "metadata": {
    "vscode": {
     "languageId": "javascript"
    }
   },
   "outputs": [
    {
     "data": {
      "application/javascript": "let application = {\n    name: \"Yuva Bala\",\n    age: 15,\n    experiences: [\"Backend Developer\", \"Businessman\"],\n    money: 70000\n};\n\nconsole.log(\"Application Dictionary:\", application);\n\nconsole.log(\"Money:\", application.money);\n",
      "text/plain": [
       "<IPython.core.display.Javascript object>"
      ]
     },
     "metadata": {},
     "output_type": "display_data"
    }
   ],
   "source": [
    "%%js \n",
    "let application = {\n",
    "    name: \"Yuva Bala\",\n",
    "    age: 15,\n",
    "    experiences: [\"Backend Developer\", \"Businessman\"],\n",
    "    money: 70000\n",
    "};\n",
    "\n",
    "console.log(\"Application Dictionary:\", application);\n",
    "\n",
    "console.log(\"Money:\", application.money);"
   ]
  },
  {
   "cell_type": "markdown",
   "metadata": {},
   "source": [
    "# Homework Hack 1 JS"
   ]
  },
  {
   "cell_type": "code",
   "execution_count": 14,
   "metadata": {
    "vscode": {
     "languageId": "javascript"
    }
   },
   "outputs": [
    {
     "data": {
      "application/javascript": "let application = {};\n\napplication.name = prompt(\"What is your name?\");\n\napplication.age = prompt(\"What is your age?\");\n\napplication.experiences = prompt(\"List your experiences.\");\n\nconsole.log(\"Applicant Information:\", application);\nconsole.log(\"Name:\", application.name);\nconsole.log(\"Age:\", application.age);\nconsole.log(\"Experiences:\", application.experiences);\n",
      "text/plain": [
       "<IPython.core.display.Javascript object>"
      ]
     },
     "metadata": {},
     "output_type": "display_data"
    }
   ],
   "source": [
    "%%js\n",
    "let application = {};\n",
    "\n",
    "application.name = prompt(\"What is your name?\");\n",
    "\n",
    "application.age = prompt(\"What is your age?\");\n",
    "\n",
    "application.experiences = prompt(\"List your experiences.\");\n",
    "\n",
    "console.log(\"Applicant Information:\", application);\n",
    "console.log(\"Name:\", application.name);\n",
    "console.log(\"Age:\", application.age);\n",
    "console.log(\"Experiences:\", application.experiences);"
   ]
  }
 ],
 "metadata": {
  "kernelspec": {
   "display_name": "venv",
   "language": "python",
   "name": "python3"
  },
  "language_info": {
   "codemirror_mode": {
    "name": "ipython",
    "version": 3
   },
   "file_extension": ".py",
   "mimetype": "text/x-python",
   "name": "python",
   "nbconvert_exporter": "python",
   "pygments_lexer": "ipython3",
   "version": "3.12.4"
  }
 },
 "nbformat": 4,
 "nbformat_minor": 2
}
