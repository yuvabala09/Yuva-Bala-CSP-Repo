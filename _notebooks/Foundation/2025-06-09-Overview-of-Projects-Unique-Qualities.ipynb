{
 "cells": [
  {
   "cell_type": "markdown",
   "metadata": {},
   "source": [
    "---\n",
    "layout: post\n",
    "title: Overview on Projects this Year & Unique Qualities\n",
    "type: issues\n",
    "comments: True\n",
    "---"
   ]
  },
  {
   "cell_type": "markdown",
   "metadata": {},
   "source": [
    "## Year Long Student Led Lessons:\n",
    "\n",
    "### Variables\n",
    "- Think of a variable as a labeled box that holds information. Instead of hard‑coding the value everywhere, you just refer to the box’s name and read or update whatever’s inside.\n",
    "Variables are essential for storing dynamic data that can change during the execution of a program.\n",
    "\n",
    "### Data Abstraction\n",
    "- This is the art of hiding messy details and exposing only what you need. You treat a complicated data structure through a simple, high‑level interface, so you can use it without worrying about its inner workings.\n",
    "It helps programmers manage complexity and build scalable systems more easily.\n",
    "\n",
    "### Mathematical Expressions\n",
    "- An arithmetic recipe made of numbers, variable names, and operators (+, –, *, / …). When the program evaluates the recipe, it returns a single numeric answer you can use for further work.\n",
    "These expressions are commonly used in everything from calculating totals to controlling loops.\n",
    "\n",
    "### Strings\n",
    "- A string is text—any sequence of characters such as letters, digits, or punctuation—stored as one value. Programs use strings to keep and manipulate words, sentences, or whole blocks of text.\n",
    "Strings are often used for user input, displaying messages, or processing textual data.\n",
    "\n",
    "### Booleans\n",
    "- A boolean is a two‑state value: true or false. Programs rely on these yes/no flags to decide what path to follow or which action to take. They're critical for conditionals and loops that require decision-making logic."
   ]
  },
  {
   "cell_type": "markdown",
   "metadata": {},
   "source": [
    "## N@tM Experience:\n",
    "\n",
    "Night at the Museum was a great chance to exhibit our trimester long projects to classmates and family members and gave us a chance to get a return on our investment as many people were able to be excited by our projects. It was a completely new experience for me as I never had done such a thing like exhbitioning a website built from scratch. Key moments and findings:\n",
    "\n",
    "- Presented the trimester projects to other classmates and family members\n",
    "    - Debate forum\n",
    "    - Takeabyte\n",
    "    - CrossWise\n",
    "- Learned how to translate and explain code in simple terms for the common man to understand\n",
    "- Demo'd my features and groups features to an audience\n",
    "    - National Food Generator that fetches dishes from a database and displays it for the viewers as they press \"next dish\"\n",
    "        - Showed how users can add and delete their own unique posts (CRUD) and keep track of it (SQL database)\n",
    "    - Border Time Report feature will take users feedback on actual vs approx wait time (from CrossWise) and responses update the model\n",
    "- Went to a DECA conference and demoed my project to many competitors at the competition\n",
    "    - Showed them how a full stack website works\n",
    "    - Presented my groups features as well\n",
    "    - Allowed audience to try out the website for themselves\n",
    "    - Collected feedback using one of our user experiences feedback page\n",
    "\n",
    "Overall, Night at the Museum was very fun and was a great chance to collect feedback from peers and audience and develop next steps regarding the project. "
   ]
  },
  {
   "cell_type": "markdown",
   "metadata": {},
   "source": [
    "## Soft Skills:\n",
    "\n",
    "---\n",
    "\n",
    "- Communication – Clearly expressing ideas, actively listening, and adjusting messaging based on audience.\n",
    "\n",
    "- Teamwork – Collaborating effectively with others, showing empathy, and working toward common goals.\n",
    "\n",
    "- Problem-Solving – Identifying challenges, analyzing options, and finding effective solutions.\n",
    "\n",
    "- Adaptability – Adjusting to new environments, tasks, or technologies with a positive attitude.\n",
    "\n",
    "- Time Management – Prioritizing tasks, meeting deadlines, and staying organized.\n",
    "\n",
    "- Leadership – Inspiring and guiding others, taking initiative, and making decisions.\n",
    "\n",
    "- Conflict Resolution – Navigating disagreements constructively and finding win-win solutions.\n",
    "\n",
    "- Creativity – Thinking outside the box and generating original ideas or approaches.\n",
    "\n",
    "---\n",
    "\n",
    "## Hard Skills:\n",
    "\n",
    "---\n",
    "\n",
    "- Python Programming – Writing efficient, readable, and modular Python code.\n",
    "\n",
    "- Flask Framework – Building RESTful APIs and lightweight web apps using Flask.\n",
    "\n",
    "- Database Management – Using SQL or ORMs like SQLAlchemy to store and retrieve data.\n",
    "\n",
    "- API Design – Creating and managing routes, endpoints, and handling HTTP methods (GET, POST, PUT, DELETE).\n",
    "\n",
    "- Server Deployment – Using services like AWS or Railway to deploy and run Flask apps.\n",
    "\n",
    "- HTML/CSS – Structuring web pages and styling them responsively.\n",
    "\n",
    "- JavaScript – Adding interactivity and handling user input on the client side.\n",
    "\n",
    "- Frontend Frameworks – Using libraries like React, Vue.js, or vanilla JS with Flask APIs.\n",
    "\n",
    "- Bootstrap/Tailwind CSS – Rapidly styling and designing responsive layouts.\n",
    "\n",
    "- Form Handling – Building forms that interact with the back-end securely and efficiently.\n",
    "\n",
    "---"
   ]
  },
  {
   "cell_type": "markdown",
   "metadata": {},
   "source": []
  }
 ],
 "metadata": {
  "language_info": {
   "name": "python"
  }
 },
 "nbformat": 4,
 "nbformat_minor": 2
}
