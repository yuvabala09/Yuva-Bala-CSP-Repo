{
 "cells": [
  {
   "cell_type": "markdown",
   "metadata": {},
   "source": [
    "---\n",
    "layout: post\n",
    "title: 2018 MCQ Corrections / Reflection\n",
    "description:  2018 MCQ Corrections / Reflection\n",
    "type: issues \n",
    "comments: true\n",
    "---"
   ]
  },
  {
   "cell_type": "markdown",
   "metadata": {},
   "source": [
    "# 2018 MCQ Corrections/Reflection"
   ]
  },
  {
   "cell_type": "markdown",
   "metadata": {
    "vscode": {
     "languageId": "html"
    }
   },
   "source": [
    "<img src=\"{{site.baseurl}}/images/2018MCQanalytics.png\" width=\"600\" height=\"400\">"
   ]
  },
  {
   "cell_type": "markdown",
   "metadata": {},
   "source": [
    "#### Analytics Reflection\n",
    "I was able to get 55/66 on the 2018 MCQ by trying to use common sence and logic when answering each question. Some of the questions were very confusing and some were similar to types of code I have encountered. In general half of my ability to answer the questions correct were due to common sense and logic and the other half was from the Sprint 2 Lessons and Homeworks. The test took me around two hours to complete (the other 2.5 hours were from the tab being open). I realized after the test that I can really improve my test taking abilities for future CSP tests. Throughout the test, I had difficulty reading the code correctly, and would find myself re-reading the same line multiple times. I also had difficulty understanding the context of the code, which is why I misinterpreted multiple questions and got it wrong. I plan to do this by taking practice tests and reviewing the material before the test. I also plan to practice reading code more efficiently throughout the rest of this course to not only enhance test taking abilities but my overall effeciency when analyzing teamates codes and being able to troubleshoot faster and faster. "
   ]
  },
  {
   "cell_type": "markdown",
   "metadata": {},
   "source": [
    "<img src=\"{{site.baseurl}}/images/wrongquestions2018mcqexam.png\" width=\"600\" height=\"400\">"
   ]
  },
  {
   "cell_type": "markdown",
   "metadata": {},
   "source": [
    "#### Specific Areas\n",
    "After finishing the test, I was able to check the analytics pag and saw that there were a lot of sections I had trouble with. \n",
    "\n",
    "1.4: Identifying and Correcting Errors (2 wrong)\n",
    "\n",
    "2.3: Extracting Information from Data (1 wrong)\n",
    "\n",
    "3.5: Boolean Expressions (1 wrong)\n",
    "\n",
    "3.6: Conditionals (1 wrong)\n",
    "\n",
    "3.9: Developing Algorithms (1  wrong)\n",
    "\n",
    "3.13: Developing Procedures (1 wrong)\n",
    "\n",
    "3.17: Algorithmic Efficiency (1 wrong)\n",
    "\n",
    "5.6: Safe Computing (3 wrong)"
   ]
  },
  {
   "cell_type": "markdown",
   "metadata": {},
   "source": [
    "#### Defining Each Section\n",
    "\n",
    "1.4: Identifying and Correcting Errors\n",
    "The process of finding and fixing mistakes in a program's code or logic to ensure it runs as intended. This often involves debugging tools, testing, and logical reasoning.\n",
    "\n",
    "2.3: Extracting Information from Data\n",
    "The practice of analyzing, processing, and interpreting data to find meaningful patterns, insights, or conclusions. It often involves using algorithms and tools to transform raw data into usable information.\n",
    "\n",
    "3.5: Boolean Expressions\n",
    "Logical statements that evaluate to either true or false. They are used in programming to control decision-making and are built using logical operators like AND, OR, and NOT.\n",
    "\n",
    "3.6: Conditionals\n",
    "Statements in programming that execute different actions based on whether a condition (usually a Boolean expression) is true or false. They enable decision-making in algorithms.\n",
    "\n",
    "3.9: Developing Algorithms\n",
    "The process of creating a step-by-step set of instructions to solve a specific problem or perform a task. Good algorithms are clear, efficient, and can be implemented in code.\n",
    "\n",
    "3.13: Developing Procedures\n",
    "The act of designing reusable blocks of code (functions or methods) that perform specific tasks within a program. Procedures simplify code, improve readability, and promote modular design.\n",
    "\n",
    "3.17: Algorithmic Efficiency\n",
    "A measure of how effectively an algorithm uses resources like time and memory to complete a task. Efficient algorithms perform well even as the size of the input grows.\n",
    "\n",
    "5.6: Safe Computing\n",
    "Practices and habits that protect personal and organizational data from cyber threats. This includes using secure passwords, avoiding malicious links, and being aware of online privacy.\n"
   ]
  },
  {
   "cell_type": "markdown",
   "metadata": {
    "vscode": {
     "languageId": "html"
    }
   },
   "source": [
    "<img src=\"{{site.baseurl}}/images/2018MCQCSPwrong1.png\" width=\"600\" height=\"400\">"
   ]
  },
  {
   "cell_type": "markdown",
   "metadata": {},
   "source": [
    "### Question 2: Bank Phishing Attempt\n",
    "#### What I put: \n",
    "\n",
    "    Answer A\n",
    "    This option is incorrect. Contacting the bank at its official phone number would help verify whether or not the e-mail was legitimate.\n",
    "\n",
    "#### Correct Answer: \n",
    "\n",
    "    Answer B\n",
    "    This option is correct. Providing personal information to a person using an unverified phone number is a privacy risk.\n",
    "\n",
    "#### Analysis:\n",
    "\n",
    "    For this question, I misread the situation they posed, and though that they were asking for the choice that carried the least risk. However, they were actually asking the opposite, so for this one, I just misread the question."
   ]
  },
  {
   "cell_type": "markdown",
   "metadata": {
    "vscode": {
     "languageId": "html"
    }
   },
   "source": [
    "<img src=\"{{site.baseurl}}/images/2018MCQCSPwrong2.png\" width=\"600\" height=\"400\">"
   ]
  },
  {
   "cell_type": "markdown",
   "metadata": {},
   "source": [
    "### Question 26: Completing robot code by adding if statement\n",
    "#### What I put: \n",
    "\n",
    "    Answer C\n",
    "    This option is incorrect. This code segment moves the robot up and down between its initial location and the square above its initial location.\n",
    "\n",
    "#### Correct Answer: \n",
    "\n",
    "    Answer A\n",
    "    This option is correct. This code segment rotates right whenever there is an open square to the right. The robot will move forward from its initial location to the upper-left corner of the grid, then rotate right, then move forward to the upper-right corner of the grid, then rotate right, then move down two squares, then rotate right, then move forward to the gray square.\n",
    "\n",
    "#### Analysis: \n",
    "\n",
    "    For this question I mistenterprted the code and did not realize the robot would jus keep on moving back and forth, instead the robot should follow code that instructs it to determine whether it has the capability to move right, if not continue moving forward. This follows a pattern that would result in the robot reaching the gray square."
   ]
  },
  {
   "cell_type": "markdown",
   "metadata": {
    "vscode": {
     "languageId": "html"
    }
   },
   "source": [
    "<img src=\"{{site.baseurl}}/images/2018MCQCSPwrong3.png\" width=\"600\" height=\"400\">"
   ]
  },
  {
   "cell_type": "markdown",
   "metadata": {},
   "source": [
    "### Question 31: Comparing loop algorithms with robots\n",
    "#### What I put: \n",
    "\n",
    "    Answer B\n",
    "    This option is incorrect. Program I also correctly moves the robot to the gray square by repeatedly moving the robot forward, rotating left, moving forward, and rotating right.\n",
    "\n",
    "#### Correct Answer: \n",
    "\n",
    "    Answer C\n",
    "    This option is correct. Program I correctly moves the robot to the gray square by repeatedly moving the robot forward, rotating left, moving forward, and rotating right. Program II correctly moves the robot to the gray square by moving the robot forward to the upper-right corner of the grid, rotating left, and moving forward to the upper-left corner of the grid.\n",
    "\n",
    "#### Analysis: \n",
    "\n",
    "    For this problem, I thought that since the first code example repeats unessacary steps, the code would result in some sort of error, but it is not the case and instead rotates and moves within the square, staying on the gray square in the end. However, my analysis of the second example of code to get to the gray square was correct since I followed the steps and got to the gray square."
   ]
  },
  {
   "cell_type": "markdown",
   "metadata": {
    "vscode": {
     "languageId": "html"
    }
   },
   "source": [
    "<img src=\"{{site.baseurl}}/images/2018MCQCSPwrong4.png\" width=\"600\" height=\"400\">"
   ]
  },
  {
   "cell_type": "markdown",
   "metadata": {},
   "source": [
    "### Question 33: Apartment rental Web site flowchart\n",
    "#### What I put: \n",
    "\n",
    "    Answer C\n",
    "    This option is incorrect. This expression would be used for a flowchart to set include to true whenever floor is less than or equal to 1 0 or bedrooms equals  3.\n",
    "\n",
    "#### Correct Answer: \n",
    "\n",
    "    Answer A\n",
    "    This option is correct. The flowchart sets include to true whenever floor is greater than 1 0 or bedrooms equal 3, and sets include to false otherwise. Therefore, the algorithm is equivalent to. Include, left arrow, open parenthesis, floor greater than 10, close parenthesis, OR, open parenthesis, bedrooms equal 3, close parenthesis.\n",
    "\n",
    "#### Analysis: \n",
    "\n",
    "    When I answered this question, I did notice that it the boolean function OR would be used in the answer. But I did not pay attention to the floor value and instead I put when the floor was equal to or less than 10 instead of just greater than. This would result in false so the correct option is when the floor is greater than 10 or the bedrooms are equal to 3. This would result in a truth table portraying that the include is true when the floor is greater than 10 or the bedrooms are equal to 3, or both the floor is greater than 10 and the bedrooms are equal to 3."
   ]
  },
  {
   "cell_type": "markdown",
   "metadata": {
    "vscode": {
     "languageId": "html"
    }
   },
   "source": [
    "<img src=\"{{site.baseurl}}/images/2018MCQCSPwrong5.png\" width=\"600\" height=\"400\">"
   ]
  },
  {
   "cell_type": "markdown",
   "metadata": {},
   "source": [
    "### Question 43: Runtime of algorithm for online retailer\n",
    "#### What I put: \n",
    "\n",
    "    Answer B\n",
    "    This option is incorrect. The number of steps of the algorithm is a polynomial, so the algorithm runs in reasonable time.\n",
    "\n",
    "#### Correct Answer: \n",
    "\n",
    "    Answer A\n",
    "    This option is correct. The pattern in the table appears to indicate that there are n squared steps for a list containing n items. This number of steps is a polynomial and therefore the algorithm runs in reasonable time. \n",
    "\n",
    "#### Analysis:\n",
    "\n",
    "    For this question, I thought that since the number of steps is squared by 2 each time, it would take a much longer amount of time. But it seems that is not the case though, because it will in fact take a reasonable amount of time to run the algorithm when the number of steps is a polynomial. Instead, if there are increasing amount of steps but there is no pattern to each step, it would take a much longer amount of time since the server cannot handle the increasing amount of steps without a pattern in place."
   ]
  },
  {
   "cell_type": "markdown",
   "metadata": {
    "vscode": {
     "languageId": "html"
    }
   },
   "source": [
    "<img src=\"{{site.baseurl}}/images/2018MCQCSPwrong6.png\" width=\"600\" height=\"400\">"
   ]
  },
  {
   "cell_type": "markdown",
   "metadata": {},
   "source": [
    "### Question 47: Encrypting and decrypting using public key cryptography\n",
    "What I put: \n",
    "\n",
    "    Answer B\n",
    "    This option is incorrect. The sender’s private key cannot be used to decrypt the message.\n",
    "\n",
    "#### Correct Answer: \n",
    "\n",
    "    Answer D\n",
    "    This option is correct. In public cryptography, a message is encrypted with a recipient’s public key and decrypted with the recipient’s private key.\n",
    "\n",
    "#### Analysis: \n",
    "\n",
    "    For this problem, I did not have any knowledge of encryption and private/public keys. I now realize that in public cyrptography, a message that is encrypted with a recipient's public key will/and can only be decrypted with the recipient's private key."
   ]
  },
  {
   "cell_type": "markdown",
   "metadata": {
    "vscode": {
     "languageId": "html"
    }
   },
   "source": [
    "<img src=\"{{site.baseurl}}/images/2018MCQCSPwrong7.png\" width=\"600\" height=\"400\">"
   ]
  },
  {
   "cell_type": "markdown",
   "metadata": {},
   "source": [
    "### Question 51: Examples of symmetric encryption\n",
    "#### What I put: \n",
    "\n",
    "    Answer A\n",
    "    This option is incorrect. This is an example of an asymmetric system because different codes are used to send and receive messages.\n",
    "\n",
    "#### Correct Answer: \n",
    "    \n",
    "    Answer B\n",
    "    This option is correct. This is an example of symmetric encryption because the secret key is used for both encryption and decryption of messages.\n",
    "\n",
    "#### Analysis:\n",
    "\n",
    "    I did not know anything about symmetric encryption going into the problem and could not use logic to arrive at the correct answer. I do now takeaway that symmetric encryption uses the same key for both encryption and decryption, and that asymmetric encryption uses different keys for encryption and decryption. I also found out that symmetric encryption is faster and more efficient than asymmetric encryption which doing some reasearching due to the use of the same keys."
   ]
  },
  {
   "cell_type": "markdown",
   "metadata": {
    "vscode": {
     "languageId": "html"
    }
   },
   "source": [
    "<img src=\"{{site.baseurl}}/images/2018MCQCSPwrong8.png\" width=\"600\" height=\"400\">"
   ]
  },
  {
   "cell_type": "markdown",
   "metadata": {},
   "source": [
    "### Question 60: Managing complexity with abstraction\n",
    "#### What I put:\n",
    "    \n",
    "    Answer A\n",
    "    This option is correct. Placing repeated code with procedure calls is an example of a procedural abstraction that may make it easier for a programmer to manage the complexity of a program.\n",
    "    \n",
    "    Answer B\n",
    "    This option is incorrect. Using shorter variable names would not help a programmer to manage the complexity of a program. In general,\n",
    "    meaningful variable names help programmers better understand programs.\n",
    "    \n",
    "#### Correct Answers:\n",
    "\n",
    "    Answer A\n",
    "    This option is correct. Placing repeated code with procedure calls is an example of a procedural abstraction that may make it easier for a programmer to manage the complexity of a program.\n",
    "\n",
    "    Answer D\n",
    "    This option is correct. Creating a list of names is an example of a data abstraction that may make it easier for a programmer to manage the complexity of a program.\n",
    "\n",
    "#### Analysis:\n",
    "\n",
    "    For this question, I purely did not know that NOT shortening the variable names was a rule of thumb in programming. Instead creating a list of names for certain variables is a better example of data abstraction and WILL make it easier for a programmer to manage the complexity of a program. "
   ]
  },
  {
   "cell_type": "markdown",
   "metadata": {},
   "source": [
    "<img src=\"{{site.baseurl}}/images/2018MCQCSPwrong9.png\" width=\"600\" height=\"400\">"
   ]
  },
  {
   "cell_type": "markdown",
   "metadata": {},
   "source": [
    "### Question 61: Data about students at East and West High schools\n",
    "#### What I put:\n",
    "    \n",
    "    Answer A\n",
    "    This option is correct. It is possible to create a single list of student names, sorted by last name. Both data formats provide the first and last names of each student.\n",
    "    \n",
    "    Answer C\n",
    "    This option is incorrect. East High School provides the ZIP code of each student, but West High School does not.\n",
    "    \n",
    "#### Correct Answers:\n",
    "    \n",
    "    Answer A\n",
    "    This option is correct. It is possible to create a single list of student names, sorted by last name. Both data formats provide the first and last names of each student.\n",
    "\n",
    "    Answer B\n",
    "    This option is correct. It is possible to determine the average number of days students are absent. Both data formats provide the number of absences for each student.\n",
    "\n",
    "#### Analysis:\n",
    "\n",
    "    For this question I purely did not pay enough attention to the data provided in the question and did not notice that the zip code was not provided for each highschool. Otherwise, option B is completely logical as both highschools provide the number of absences for each student. Therefore, it is possible to determine the average number of days students are absent."
   ]
  },
  {
   "cell_type": "markdown",
   "metadata": {
    "vscode": {
     "languageId": "html"
    }
   },
   "source": [
    "<img src=\"{{site.baseurl}}/images/2018MCQCSPwrong10.png\" width=\"600\" height=\"400\">"
   ]
  },
  {
   "cell_type": "markdown",
   "metadata": {},
   "source": [
    "### Question 65: Correcting errors in procedure Multiply\n",
    "#### What I put:\n",
    "\n",
    "    Answer D\n",
    "    This option is correct. If y is negative, then the condition count equals y will never be met since count begins at 0 and repeatedly increases.\n",
    "\n",
    "#### Correct Answers:\n",
    "\n",
    "    Answer B\n",
    "    This option is correct. If y is negative, then the condition count equals y will never be met since count begins at 0 and repeatedly increases.\n",
    "    \n",
    "    Answer D\n",
    "    This option is correct. If y is negative, then the condition count equals y will never be met since count begins at 0 and repeatedly increases.\n",
    "\n",
    "#### Analysis:\n",
    "\n",
    "    I forgot to choose the second answer for this question, but the reason Answer B is correct is for the same reason as Answer D. This is because the count begins at 0 and end at y. If y is negative, then the condition count equals y will never be met since count begins at 0 and repeatedly increases."
   ]
  },
  {
   "cell_type": "markdown",
   "metadata": {
    "vscode": {
     "languageId": "html"
    }
   },
   "source": [
    "<img src=\"{{site.baseurl}}/images/2018MCQCSPwrong11.png\" width=\"600\" height=\"400\">"
   ]
  },
  {
   "cell_type": "markdown",
   "metadata": {},
   "source": [
    "### Question 66: Test cases for procedure Smallest\n",
    "#### What I put:\n",
    "    \n",
    "    Answer B\n",
    "    This option is incorrect. For the list open bracket, 20, 10, 30, 40, close bracket, 1 0 is the first value smaller than the first number in the list, so the procedure returns the correct value 1 0.\n",
    "    \n",
    "    Answer D\n",
    "    This option is correct. The procedure returns the first number it encounters that is less than the first number in the list. For the list open bracket, 40, 30, 20, 10, close bracket, the procedure returns 3 0, which is not the least value in the list.\n",
    "\n",
    "#### Correct Answers:\n",
    "    \n",
    "    Answer C\n",
    "    his option is correct. The procedure returns the first number it encounters that is less than the first number in the list. For the list open bracket, 30, 40, 20, 10, close bracket, the procedure returns 2 0, which is not the least value in the list.\n",
    "    \n",
    "    Answer D\n",
    "    This option is correct. The procedure returns the first number it encounters that is less than the first number in the list. For the list open bracket, 40, 30, 20, 10, close bracket, the procedure returns 3 0, which is not the least value in the list.\n",
    "\n",
    "#### Analysis:\n",
    "\n",
    "    For this question"
   ]
  },
  {
   "cell_type": "markdown",
   "metadata": {},
   "source": [
    "<html lang=\"en\">\n",
    "<head>\n",
    "    <meta charset=\"UTF-8\">\n",
    "    <meta name=\"viewport\" content=\"width=device-width, initial-scale=1.0\">\n",
    "    <title>Coding Jargon Game</title>\n",
    "    <style>\n",
    "        /* General Styles */\n",
    "        @import url('https://fonts.googleapis.com/css2?family=Poppins:wght@300;400;600&display=swap');\n",
    "        body {\n",
    "            font-family: 'Poppins', sans-serif;\n",
    "            line-height: 1.8;\n",
    "            margin: 0;\n",
    "            padding: 0;\n",
    "            background: linear-gradient(to right, #6a11cb, #2575fc);\n",
    "            color: #333;\n",
    "        }\n",
    "\n",
    "        h1 {\n",
    "            text-align: center;\n",
    "            color: #fff;\n",
    "            margin: 20px 0;\n",
    "            text-shadow: 2px 2px 5px rgba(0, 0, 0, 0.3);\n",
    "        }\n",
    "\n",
    "        p {\n",
    "            text-align: center;\n",
    "            font-size: 1.1em;\n",
    "            color: #fff;\n",
    "            margin: 10px 0 20px;\n",
    "        }\n",
    "\n",
    "        .container {\n",
    "            max-width: 800px;\n",
    "            margin: 0 auto;\n",
    "            padding: 20px;\n",
    "        }\n",
    "\n",
    "        .book {\n",
    "            padding: 20px;\n",
    "            background: #fff;\n",
    "            border-radius: 12px;\n",
    "            box-shadow: 0 8px 20px rgba(0, 0, 0, 0.2);\n",
    "            font-size: 1.2em;\n",
    "            text-align: justify;\n",
    "        }\n",
    "\n",
    "        .word {\n",
    "            color: #007bff;\n",
    "            font-weight: 600;\n",
    "            cursor: pointer;\n",
    "            border: none;\n",
    "            background: none;\n",
    "            padding: 2px 4px;\n",
    "            transition: all 0.3s ease;\n",
    "        }\n",
    "\n",
    "        .word:hover {\n",
    "            color: #0056b3;\n",
    "            text-shadow: 0 2px 4px rgba(0, 0, 0, 0.2);\n",
    "        }\n",
    "\n",
    "        .definition {\n",
    "            margin-top: 20px;\n",
    "            padding: 15px;\n",
    "            background: linear-gradient(135deg, #ff9a9e, #fad0c4);\n",
    "            border-radius: 8px;\n",
    "            color: #fff;\n",
    "            font-size: 1em;\n",
    "            text-align: center;\n",
    "            display: none;\n",
    "            animation: fadeIn 0.5s ease-in-out;\n",
    "        }\n",
    "\n",
    "        @keyframes fadeIn {\n",
    "            from {\n",
    "                opacity: 0;\n",
    "                transform: translateY(10px);\n",
    "            }\n",
    "            to {\n",
    "                opacity: 1;\n",
    "                transform: translateY(0);\n",
    "            }\n",
    "        }\n",
    "    </style>\n",
    "</head>\n",
    "<body>\n",
    "    <h1>Coding Jargon Dictionary</h1>\n",
    "    <p>Click on the highlighted terms to learn their definitions!</p>\n",
    "\n",
    "    <div class=\"container\">\n",
    "        <div class=\"book\">\n",
    "            <p>\n",
    "                Topics such as <button class=\"word\" data-definition=\"The practice of public participation and collaboration in scientific research to increase knowledge.\">Citizen science</button>, \n",
    "                <button class=\"word\" data-definition=\"A step-by-step procedure for solving a problem or accomplishing some end.\">Algorithm</button>, and \n",
    "                <button class=\"word\" data-definition=\"Internet Engineering Task Force, responsible for developing and promoting voluntary Internet standards and protocols.\">IETF</button> \n",
    "                are integral to understanding technology. Concepts like \n",
    "                <button class=\"word\" data-definition=\"Application Programming Interface, a set of functions that allow different software components to communicate.\">API</button> \n",
    "                and <button class=\"word\" data-definition=\"A unique string of numbers separated by periods that identifies a device on a network.\">IP Address</button> \n",
    "                help define communication in computing, while the <button class=\"word\" data-definition=\"A U.S. copyright law that criminalizes production and dissemination of technology that circumvents copyright protections.\">DMCA (Digital Millennium Copyright Act)</button> \n",
    "                plays a role in copyright protection.\n",
    "            </p>\n",
    "            <p>\n",
    "                Advanced topics like <button class=\"word\" data-definition=\"A data compression algorithm that replaces pairs of bytes with shorter codes.\">Byte Pair Encoding</button>, \n",
    "                <button class=\"word\" data-definition=\"The basic unit of information in computing and digital communications, represented as 0 or 1.\">Bits</button>, and \n",
    "                <button class=\"word\" data-definition=\"The practice and study of techniques for secure communication in the presence of adversaries.\">Cryptography</button> \n",
    "                explore the foundation of security. Encryption techniques like \n",
    "                <button class=\"word\" data-definition=\"The process of encoding data to prevent unauthorized access.\">Encryption</button> and \n",
    "                <button class=\"word\" data-definition=\"A symmetric encryption algorithm that uses the same key for encryption and decryption.\">Symmetric Encryption</button> \n",
    "                play critical roles in data safety.\n",
    "            </p>\n",
    "            <p>\n",
    "                Searching algorithms, including <button class=\"word\" data-definition=\"A search algorithm that divides a sorted array in half to locate an element.\">Binary search</button> and \n",
    "                <button class=\"word\" data-definition=\"A search algorithm that checks each element of a list one by one to find the desired element.\">Linear search</button>, \n",
    "                and fields like <button class=\"word\" data-definition=\"A branch of artificial intelligence focused on building systems that learn from data.\">Machine Learning</button> \n",
    "                and <button class=\"word\" data-definition=\"A way of hiding complex implementation details to make a system easier to use or understand.\">Abstraction</button> \n",
    "                round out the journey into modern technology.\n",
    "            </p>\n",
    "        </div>\n",
    "\n",
    "        <div id=\"definition-box\" class=\"definition\"></div>\n",
    "    </div>\n",
    "\n",
    "    <script>\n",
    "        // Select all the jargon words\n",
    "        const words = document.querySelectorAll(\".word\");\n",
    "        const definitionBox = document.getElementById(\"definition-box\");\n",
    "\n",
    "        // Add click event listeners to each word\n",
    "        words.forEach(word => {\n",
    "            word.addEventListener(\"click\", () => {\n",
    "                // Display the definition of the clicked word\n",
    "                const definition = word.getAttribute(\"data-definition\");\n",
    "                definitionBox.textContent = definition;\n",
    "                definitionBox.style.display = \"block\";\n",
    "            });\n",
    "        });\n",
    "    </script>\n",
    "</body>\n",
    "</html>\n"
   ]
  }
 ],
 "metadata": {
  "language_info": {
   "name": "python"
  }
 },
 "nbformat": 4,
 "nbformat_minor": 2
}
