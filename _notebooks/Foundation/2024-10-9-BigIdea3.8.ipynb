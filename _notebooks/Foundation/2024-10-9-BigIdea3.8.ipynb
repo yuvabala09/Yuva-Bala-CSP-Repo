{
 "cells": [
  {
   "cell_type": "markdown",
   "metadata": {},
   "source": [
    "---\n",
    "layout: post\n",
    "title: 3.8 Hacks and Homework\n",
    "description:  3.8 Big Idea Hacks and Homework\n",
    "type: issues \n",
    "comments: true\n",
    "---"
   ]
  },
  {
   "cell_type": "markdown",
   "metadata": {},
   "source": [
    "# Popcorn Hack 1"
   ]
  },
  {
   "cell_type": "code",
   "execution_count": 19,
   "metadata": {},
   "outputs": [
    {
     "name": "stdout",
     "output_type": "stream",
     "text": [
      "Hello\n",
      "Hello\n",
      "Hello\n",
      "Hello\n",
      "Hello\n"
     ]
    }
   ],
   "source": [
    "#Variable counter is set to the value of 5\n",
    "counter = 5\n",
    "#Condition for the while loop to take place, takes place when counter is above 5\n",
    "while counter > 0:\n",
    "    #Will print Hello five times in the output\n",
    "    print(\"Hello\")\n",
    "    #Decreases the counter by 1 every iteration that happens \n",
    "    counter -= 1\n",
    "    #Expected output will be 5 hello's in the terminal "
   ]
  },
  {
   "cell_type": "markdown",
   "metadata": {},
   "source": [
    "# Popcorn Hack 2"
   ]
  },
  {
   "cell_type": "code",
   "execution_count": 18,
   "metadata": {},
   "outputs": [
    {
     "name": "stdout",
     "output_type": "stream",
     "text": [
      "Yuva\n",
      "KumarKumar\n",
      "BalaBalaBala\n",
      "Yuva\n",
      "KumarKumar\n",
      "BalaBalaBala\n",
      "Yuva\n",
      "KumarKumar\n",
      "BalaBalaBala\n",
      "Yuva\n",
      "KumarKumar\n",
      "BalaBalaBala\n"
     ]
    }
   ],
   "source": [
    "first_name = \"Yuva\"  # First Name\n",
    "middle_name = \"Kumar\"  # Middle Name\n",
    "last_name = \"Bala\"  # Last Name\n",
    "\n",
    "repeat_count = 0\n",
    "\n",
    "while repeat_count < 4:\n",
    "    print(first_name)          # prints first once\n",
    "    print(middle_name * 2)     # print middle twice\n",
    "    print(last_name * 3)       # print last thrice\n",
    "    \n",
    "    repeat_count += 1 "
   ]
  },
  {
   "cell_type": "code",
   "execution_count": 22,
   "metadata": {},
   "outputs": [
    {
     "ename": "IndentationError",
     "evalue": "expected an indented block after 'while' statement on line 7 (3111286326.py, line 10)",
     "output_type": "error",
     "traceback": [
      "\u001b[0;36m  Cell \u001b[0;32mIn[22], line 10\u001b[0;36m\u001b[0m\n\u001b[0;31m    while outer_counter < 4:\u001b[0m\n\u001b[0m    ^\u001b[0m\n\u001b[0;31mIndentationError\u001b[0m\u001b[0;31m:\u001b[0m expected an indented block after 'while' statement on line 7\n"
     ]
    }
   ],
   "source": [
    "outer_counter = 0\n",
    "middle_counter = 0\n",
    "inner_counter = 0\n",
    "\n",
    "repeat_count = 0\n",
    "\n",
    "while repeat_count < 4:\n",
    "\n",
    "\n",
    "while outer_counter < 4:\n",
    "    print(\"Yuva\")\n",
    "    \n",
    "    middle_counter = 0\n",
    "    while middle_counter < 8:\n",
    "        print(\"Kumar\")\n",
    "        inner_counter = 0\n",
    "        while inner_counter < 12:\n",
    "            print(\"Bala\")\n",
    "            inner_counter += 1\n",
    "    middle_counter +=1\n",
    "outer_counter += 1"
   ]
  },
  {
   "cell_type": "markdown",
   "metadata": {},
   "source": [
    "# Popcorn Hack 3"
   ]
  },
  {
   "cell_type": "code",
   "execution_count": 24,
   "metadata": {},
   "outputs": [
    {
     "name": "stdout",
     "output_type": "stream",
     "text": [
      "Y\n",
      "u\n",
      "v\n",
      "a\n",
      " \n",
      "B\n",
      "a\n",
      "l\n",
      "a\n"
     ]
    }
   ],
   "source": [
    "name = \"Yuva Bala\"\n",
    "\n",
    "for letter in name:\n",
    "    print(letter)"
   ]
  },
  {
   "cell_type": "markdown",
   "metadata": {},
   "source": [
    "# Homework Hack 1"
   ]
  },
  {
   "cell_type": "code",
   "execution_count": null,
   "metadata": {},
   "outputs": [],
   "source": []
  }
 ],
 "metadata": {
  "kernelspec": {
   "display_name": "venv",
   "language": "python",
   "name": "python3"
  },
  "language_info": {
   "codemirror_mode": {
    "name": "ipython",
    "version": 3
   },
   "file_extension": ".py",
   "mimetype": "text/x-python",
   "name": "python",
   "nbconvert_exporter": "python",
   "pygments_lexer": "ipython3",
   "version": "3.12.4"
  }
 },
 "nbformat": 4,
 "nbformat_minor": 2
}
