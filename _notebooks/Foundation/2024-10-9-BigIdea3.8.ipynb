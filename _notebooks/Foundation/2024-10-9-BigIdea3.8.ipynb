{
 "cells": [
  {
   "cell_type": "markdown",
   "metadata": {},
   "source": [
    "---\n",
    "layout: post\n",
    "title: 3.8 Hacks and Homework\n",
    "description:  3.8 Big Idea Hacks and Homework\n",
    "type: issues \n",
    "comments: true\n",
    "---"
   ]
  },
  {
   "cell_type": "markdown",
   "metadata": {},
   "source": [
    "# Popcorn Hack 1"
   ]
  },
  {
   "cell_type": "code",
   "execution_count": 19,
   "metadata": {},
   "outputs": [
    {
     "name": "stdout",
     "output_type": "stream",
     "text": [
      "Hello\n",
      "Hello\n",
      "Hello\n",
      "Hello\n",
      "Hello\n"
     ]
    }
   ],
   "source": [
    "#Variable counter is set to the value of 5\n",
    "counter = 5\n",
    "#Condition for the while loop to take place, takes place when counter is above 5\n",
    "while counter > 0:\n",
    "    #Will print Hello five times in the output\n",
    "    print(\"Hello\")\n",
    "    #Decreases the counter by 1 every iteration that happens \n",
    "    counter -= 1\n",
    "    #Expected output will be 5 hello's in the terminal "
   ]
  },
  {
   "cell_type": "markdown",
   "metadata": {},
   "source": [
    "# Popcorn Hack 2"
   ]
  },
  {
   "cell_type": "code",
   "execution_count": 18,
   "metadata": {},
   "outputs": [
    {
     "name": "stdout",
     "output_type": "stream",
     "text": [
      "Yuva\n",
      "KumarKumar\n",
      "BalaBalaBala\n",
      "Yuva\n",
      "KumarKumar\n",
      "BalaBalaBala\n",
      "Yuva\n",
      "KumarKumar\n",
      "BalaBalaBala\n",
      "Yuva\n",
      "KumarKumar\n",
      "BalaBalaBala\n"
     ]
    }
   ],
   "source": [
    "first_name = \"Yuva\"  # First Name\n",
    "middle_name = \"Kumar\"  # Middle Name\n",
    "last_name = \"Bala\"  # Last Name\n",
    "\n",
    "repeat_count = 0\n",
    "\n",
    "while repeat_count < 4:\n",
    "    print(first_name)          # prints first once\n",
    "    print(middle_name * 2)     # print middle twice\n",
    "    print(last_name * 3)       # print last thrice\n",
    "    \n",
    "    repeat_count += 1 "
   ]
  },
  {
   "cell_type": "markdown",
   "metadata": {},
   "source": [
    "# Popcorn Hack 3"
   ]
  },
  {
   "cell_type": "code",
   "execution_count": 24,
   "metadata": {},
   "outputs": [
    {
     "name": "stdout",
     "output_type": "stream",
     "text": [
      "Y\n",
      "u\n",
      "v\n",
      "a\n",
      " \n",
      "B\n",
      "a\n",
      "l\n",
      "a\n"
     ]
    }
   ],
   "source": [
    "#Name is the variable, and Yuva Bala is the value\n",
    "name = \"Yuva Bala\"\n",
    "#For the letters in the name varable (In this case Yuva Bala)\n",
    "for letter in name:\n",
    "    print(letter) #print the letters of the name Yuva Bala"
   ]
  },
  {
   "cell_type": "markdown",
   "metadata": {},
   "source": [
    "# Popcorn Hack 4"
   ]
  },
  {
   "cell_type": "code",
   "execution_count": 28,
   "metadata": {},
   "outputs": [
    {
     "name": "stdout",
     "output_type": "stream",
     "text": [
      "dict_items([('Yuva', 15), ('Aryan', 14), ('Shar', 16), ('Mihir', 15)])\n",
      "Yuva is 15\n",
      "Aryan is 14\n",
      "Shar is 16\n",
      "Mihir is 15\n"
     ]
    }
   ],
   "source": [
    "#Dict of the student info\n",
    "student_info = {\n",
    "    \"Yuva\": 15,\n",
    "    \"Aryan\": 14,\n",
    "    \"Shar\": 16,\n",
    "    \"Mihir\": 15\n",
    "}\n",
    "\n",
    "#Will print the student info\n",
    "print(student_info.items())\n",
    "\n",
    "#\n",
    "for name, age in student_info.items():\n",
    "    print(f\"{name} is {age}\")"
   ]
  },
  {
   "cell_type": "markdown",
   "metadata": {},
   "source": [
    "# Homework Hack 1"
   ]
  },
  {
   "cell_type": "code",
   "execution_count": 30,
   "metadata": {},
   "outputs": [
    {
     "name": "stdout",
     "output_type": "stream",
     "text": [
      "Incorrect password, please try again.\n",
      "Incorrect password, please try again.\n",
      "Password is correct!\n"
     ]
    }
   ],
   "source": [
    "# Define the correct password\n",
    "correct_password = \"yuvabaladnhscsp\"\n",
    "\n",
    "# Initialize a variable to store the user input\n",
    "user_password = \"\"\n",
    "\n",
    "# Use a while loop to keep asking until the correct password is entered\n",
    "while user_password != correct_password:\n",
    "    # Ask for the password\n",
    "    user_password = input(\"Please enter the password: \")\n",
    "    \n",
    "    # Check if the password is correct\n",
    "    if user_password == correct_password:\n",
    "        print(\"Password is correct!\")\n",
    "    else:\n",
    "        print(\"Incorrect password, please try again.\")"
   ]
  },
  {
   "cell_type": "markdown",
   "metadata": {},
   "source": [
    "# Homework Hack 2"
   ]
  },
  {
   "cell_type": "code",
   "execution_count": 31,
   "metadata": {},
   "outputs": [
    {
     "name": "stdout",
     "output_type": "stream",
     "text": [
      "Y\n",
      "u\n",
      "v\n",
      "a\n"
     ]
    }
   ],
   "source": [
    "# Ask for the user's name\n",
    "user_name = input(\"Please enter your name: \")\n",
    "\n",
    "# Iterate through the name and print each letter\n",
    "for letter in user_name:\n",
    "    print(letter)"
   ]
  },
  {
   "cell_type": "markdown",
   "metadata": {},
   "source": [
    "# Homework Hack 3"
   ]
  },
  {
   "cell_type": "code",
   "execution_count": 32,
   "metadata": {},
   "outputs": [
    {
     "name": "stdout",
     "output_type": "stream",
     "text": [
      "Apple\n",
      "Banana\n",
      "Orange\n",
      "Mango\n",
      "Pineapple\n",
      "Strawberry\n",
      "Grapes\n"
     ]
    }
   ],
   "source": [
    "# List of fruits\n",
    "fruits = [\"Apple\", \"Banana\", \"Orange\", \"Mango\", \"Pineapple\", \"Strawberry\", \"Grapes\"]\n",
    "\n",
    "# Iterate through the list and print each fruit\n",
    "for fruit in fruits:\n",
    "    print(fruit)"
   ]
  }
 ],
 "metadata": {
  "kernelspec": {
   "display_name": "venv",
   "language": "python",
   "name": "python3"
  },
  "language_info": {
   "codemirror_mode": {
    "name": "ipython",
    "version": 3
   },
   "file_extension": ".py",
   "mimetype": "text/x-python",
   "name": "python",
   "nbconvert_exporter": "python",
   "pygments_lexer": "ipython3",
   "version": "3.12.4"
  }
 },
 "nbformat": 4,
 "nbformat_minor": 2
}
