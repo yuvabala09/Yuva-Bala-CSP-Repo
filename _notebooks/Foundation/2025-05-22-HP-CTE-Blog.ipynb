{
 "cells": [
  {
   "cell_type": "markdown",
   "metadata": {},
   "source": [
    "---\n",
    "layout: post\n",
    "title: HP CTE Expo Blog (5/22)\n",
    "type: issues\n",
    "comments: True\n",
    "---"
   ]
  },
  {
   "cell_type": "markdown",
   "metadata": {},
   "source": [
    "![CSP Extra Credit]({{ site.baseurl }}/images/cspextracredit.png)\n",
    "![CSP Extra Credit 2]({{ site.baseurl }}/images/cspextracredit2.png)"
   ]
  }
 ],
 "metadata": {
  "language_info": {
   "name": "python"
  }
 },
 "nbformat": 4,
 "nbformat_minor": 2
}
