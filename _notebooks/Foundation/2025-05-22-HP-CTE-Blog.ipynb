{
 "cells": [
  {
   "cell_type": "markdown",
   "metadata": {},
   "source": [
    "---\n",
    "layout: post\n",
    "title: HP CTE Expo Blog (5/22)\n",
    "type: issues\n",
    "comments: True\n",
    "---"
   ]
  },
  {
   "cell_type": "markdown",
   "metadata": {},
   "source": [
    "<div style=\"display: flex; gap: 10px;\">\n",
    " <img src=\"{{ site.baseurl }}/images/cspextracredit.png\" alt=\"CSP Extra Credit\" style=\"width: 450px; height: auto;\">\n",
    " <img src=\"{{ site.baseurl }}/images/cspextracredit2.png\" alt=\"CSP Extra Credit 2\" style=\"width: 300px; height: auto;\">\n",
    "</div>"
   ]
  }
 ],
 "metadata": {
  "language_info": {
   "name": "python"
  }
 },
 "nbformat": 4,
 "nbformat_minor": 2
}
