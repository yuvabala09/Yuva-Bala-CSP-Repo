{
 "cells": [
  {
   "cell_type": "markdown",
   "metadata": {},
   "source": [
    "---\n",
    "layout: post\n",
    "title: HP CTE Expo Blog (5/22)\n",
    "type: issues\n",
    "comments: True\n",
    "---"
   ]
  },
  {
   "cell_type": "markdown",
   "metadata": {},
   "source": [
    "## HP CTE Expo Extra Credit Blog"
   ]
  },
  {
   "cell_type": "markdown",
   "metadata": {},
   "source": [
    "<div style=\"display: flex; gap: 10px;\">\n",
    " <img src=\"{{ site.baseurl }}/images/cspextracredit.png\" alt=\"CSP Extra Credit\" style=\"width: 450px; height: auto;\">\n",
    " <img src=\"{{ site.baseurl }}/images/cspextracredit2.png\" alt=\"CSP Extra Credit 2\" style=\"width: 300px; height: auto;\">\n",
    "</div>"
   ]
  },
  {
   "cell_type": "markdown",
   "metadata": {},
   "source": [
    "I came at the start of the event and started with the CSP section. I then walked around and looked at many booths including, but not limited to, the 3d animation, inventors club, and stock market game booth. I came at around 515pm and stayed for around a half hour. My conclusion from this event was firstly to join the stock market game as that process was very inspiring and I also hopefully want to do a computer science or robotics project next year that I can display among everyone else."
   ]
  }
 ],
 "metadata": {
  "language_info": {
   "name": "python"
  }
 },
 "nbformat": 4,
 "nbformat_minor": 2
}
