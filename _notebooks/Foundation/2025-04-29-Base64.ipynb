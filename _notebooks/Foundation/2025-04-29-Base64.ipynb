{
 "cells": [
  {
   "cell_type": "markdown",
   "metadata": {},
   "source": [
    "---\n",
    "layout: post\n",
    "title: Base64\n",
    "type: issues\n",
    "comments: True\n",
    "---"
   ]
  },
  {
   "cell_type": "markdown",
   "metadata": {},
   "source": [
    "# Popcorn Hacks\n",
    "\n",
    "Which image format is best for logos and transparency?\n",
    "- PNG is the best format for logos and transparency because it uses lossless compression (which keeps image quality high) and supports full transparency. This allows logos to be placed on any background without a visible box or edges.\n",
    "\n",
    "Which format loses quality to make the file size smaller?\n",
    "- JPEG uses lossy compression, which means it permanently removes some image data to shrink the file size. This results in smaller files but can reduce image quality, especially after repeated saves.\n",
    "\n",
    "Which format is used for simple animations, like memes?\n",
    "- GIF is often used for simple animations such as memes. It supports looping sequences of images but is limited to 256 colors, making it most suitable for short, low-resolution animations.\n",
    "\n",
    "What does this Base64 string decode to? U1Q=\n",
    "- U1Q= → ST\n",
    "- U = 20 → 010100\n",
    "- 1 = 53 → 110101\n",
    "- Q = 16 → 010000 Together = 01010011 01010100 = ASCII for “ST”"
   ]
  },
  {
   "cell_type": "markdown",
   "metadata": {},
   "source": [
    "## Mood Board"
   ]
  },
  {
   "cell_type": "code",
   "execution_count": null,
   "metadata": {
    "vscode": {
     "languageId": "html"
    }
   },
   "outputs": [],
   "source": [
    "<html>\n",
    "<head>\n",
    "    <title>Inline Base64 Image</title>\n",
    "</head>\n",
    "<body>\n",
    "    <h1>My Embedded Image</h1>\n",
    "    <img src=\"data:image/png;logo,{b64here}\" alt=\"Embedded Image\" width=\"200\">\n",
    "</body>\n",
    "</html>"
   ]
  }
 ],
 "metadata": {
  "kernelspec": {
   "display_name": "venv",
   "language": "python",
   "name": "python3"
  },
  "language_info": {
   "codemirror_mode": {
    "name": "ipython",
    "version": 3
   },
   "file_extension": ".py",
   "mimetype": "text/x-python",
   "name": "python",
   "nbconvert_exporter": "python",
   "pygments_lexer": "ipython3",
   "version": "3.12.4"
  }
 },
 "nbformat": 4,
 "nbformat_minor": 2
}
