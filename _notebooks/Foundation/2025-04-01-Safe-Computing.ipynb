{
 "cells": [
  {
   "cell_type": "markdown",
   "metadata": {},
   "source": [
    "---\n",
    "layout: post\n",
    "title: Safe Computing\n",
    "type: issues\n",
    "comments: True\n",
    "---"
   ]
  },
  {
   "cell_type": "markdown",
   "metadata": {},
   "source": [
    "### Popcorn Hack 1\n",
    "Understanding the SSID Cookie\n",
    "\n",
    "- A cookie is a small piece of data stored on your device by a website you visit. Cookies allow websites to remember useful information about you, such as your login status, language settings, or items in your cart—making your browsing experience more personalized and efficient.\n",
    "\n",
    "- The SSID cookie, in particular, is used by websites like Google to help identify and authenticate users. It plays a key role in confirming that you're signed into your Google account and ensures that you're shown personalized content, such as tailored search results or your YouTube homepage. This cookie may contain encrypted details like your Google account ID and the time you logged in. While it doesn’t store your password, it’s crucial for maintaining secure, continuous access to your account.\n",
    "\n",
    "### Popcorn Hack 2\n",
    "- The answer to this CAPTCHA is the middle two squares of the second row and the third square of the first row.\n",
    "\n",
    "- CAPTCHA (Completely Automated Public Turing test to tell Computers and Humans Apart) is a challenge-response test used to determine if a user is a human or a bot, primarily used to prevent automated spam and malicious activities on websites.\n",
    "\n"
   ]
  },
  {
   "cell_type": "markdown",
   "metadata": {},
   "source": [
    "### Homework Hack 1: MCQ\n",
    "- Score: 10/10\n",
    "[Safe Computing](/yuvabalacsprepo/images/safecomputingmcqscore.png)"
   ]
  },
  {
   "cell_type": "markdown",
   "metadata": {},
   "source": [
    "### Homework Hack 2"
   ]
  },
  {
   "cell_type": "code",
   "execution_count": 5,
   "metadata": {},
   "outputs": [
    {
     "name": "stdout",
     "output_type": "stream",
     "text": [
      "Result: oklqrqbq\n",
      "Goodbye!\n"
     ]
    }
   ],
   "source": [
    "import random\n",
    "\n",
    "def caesar_cipher(text, shift, mode):\n",
    "    result = \"\"\n",
    "    for char in text:\n",
    "        if char.isalpha():  # Only encrypt letters\n",
    "            shift_amount = shift if mode == \"encrypt\" else -shift\n",
    "            new_char = chr(((ord(char.lower()) - 97 + shift_amount) % 26) + 97)\n",
    "            result += new_char.upper() if char.isupper() else new_char\n",
    "        else:\n",
    "            result += char  # Keep spaces and punctuation unchanged\n",
    "    return result\n",
    "\n",
    "while True:\n",
    "    mode = input(\"\\nDo you want to encrypt, decrypt, or exit? \").strip().lower()\n",
    "    if mode == \"exit\":\n",
    "        print(\"Goodbye!\")\n",
    "        break\n",
    "    if mode not in [\"encrypt\", \"decrypt\"]:\n",
    "        print(\"Invalid mode. Please enter 'encrypt', 'decrypt', or 'exit'.\")\n",
    "        continue\n",
    "\n",
    "    message = input(\"Enter your message: \")\n",
    "    shift_input = input(\"Enter shift value (number or type 'r' for a random shift): \").strip().lower()\n",
    "\n",
    "    if shift_input == \"r\":\n",
    "        shift = random.randint(1, 25)\n",
    "        print(f\"Random shift value chosen: {shift}\")\n",
    "    else:\n",
    "        try:\n",
    "            shift = int(shift_input)\n",
    "        except ValueError:\n",
    "            print(\"Invalid shift value. Please enter a number or 'r'.\")\n",
    "            continue\n",
    "\n",
    "    output = caesar_cipher(message, shift, mode)\n",
    "    print(f\"Result: {output}\")"
   ]
  }
 ],
 "metadata": {
  "kernelspec": {
   "display_name": "venv",
   "language": "python",
   "name": "python3"
  },
  "language_info": {
   "codemirror_mode": {
    "name": "ipython",
    "version": 3
   },
   "file_extension": ".py",
   "mimetype": "text/x-python",
   "name": "python",
   "nbconvert_exporter": "python",
   "pygments_lexer": "ipython3",
   "version": "3.12.4"
  }
 },
 "nbformat": 4,
 "nbformat_minor": 2
}
