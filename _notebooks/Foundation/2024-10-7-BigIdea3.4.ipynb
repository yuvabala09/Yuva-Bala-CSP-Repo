{
 "cells": [
  {
   "cell_type": "markdown",
   "metadata": {},
   "source": [
    "---\n",
    "layout: post\n",
    "title: 3.4 Hacks and Homework\n",
    "description:  3.4 Big Idea Hacks and Homework\n",
    "type: issues \n",
    "comments: true\n",
    "---"
   ]
  },
  {
   "cell_type": "markdown",
   "metadata": {},
   "source": [
    "# Popcorn Hack 1"
   ]
  },
  {
   "cell_type": "code",
   "execution_count": 2,
   "metadata": {},
   "outputs": [
    {
     "name": "stdout",
     "output_type": "stream",
     "text": [
      "The title 'Clarity' shows up 6 times in the song lyrics.\n",
      "219\n",
      "If our love is tragedy, why are you my remedy?, If our love's insanity, why are you my clarity?\n"
     ]
    }
   ],
   "source": [
    "#Sample song lyrics: Clarity by Zedd\n",
    "lyrics = \"\"\"\n",
    "High dive into frozen waves where the past comes back to life\n",
    "Fight fear for the selfish pain, it was worth it every time\n",
    "Hold still right before we crash 'cause we both know how this ends\n",
    "A clock ticks 'til it breaks your glass and I drown in you again\n",
    "\n",
    "'Cause you are the piece of me I wish I didn't need\n",
    "Chasing relentlessly, still fight and I don't know why\n",
    "\n",
    "If our love is tragedy, why are you my remedy?\n",
    "If our love's insanity, why are you my clarity?\n",
    "\n",
    "(Hey-ay, hey-ay-ay. Hey-ay, hey-ay-ay. Hey-ay, hey-ay-ay. Hey-ay, hey)\n",
    "\n",
    "If our love is tragedy, why are you my remedy?\n",
    "If our love's insanity, why are you my clarity?\n",
    "\n",
    "Walk on through a red parade and refuse to make amends\n",
    "It cuts deep through our ground and makes us forget all common sense\n",
    "Don't speak as I try to leave 'cause we both know what we'll choose\n",
    "If you pull then I'll push too deep and I'll fall right back to you\n",
    "\n",
    "'Cause you are the piece of me I wish I didn't need\n",
    "Chasing relentlessly, still fight and I don't know why\n",
    "\n",
    "If our love is tragedy, why are you my remedy?\n",
    "If our love's insanity, why are you my clarity?\n",
    "\n",
    "(Hey-ay, hey-ay-ay. Hey-ay, hey-ay-ay. Hey-ay, hey-ay-ay. Hey-ay, hey)\n",
    "\n",
    "Why are you my clarity?\n",
    "Why are you my remedy?\n",
    "Why are you my clarity?\n",
    "Why are you my remedy?\n",
    "\n",
    "If our love is tragedy, why are you my remedy?\n",
    "If our love's insanity, why are you my clarity?\n",
    "\"\"\"\n",
    "\n",
    "#Define song title\n",
    "songTitle = \"Clarity\"\n",
    "\n",
    "#Count title appearences\n",
    "titleCount = lyrics.lower().count(songTitle.lower())\n",
    "print(f\"The title '{songTitle}' shows up {titleCount} times in the song lyrics.\")\n",
    "\n",
    "#Index of 50th word\n",
    "words = lyrics.split()\n",
    "print(lyrics.find(words[49]))\n",
    "\n",
    "#Replace first line with last line\n",
    "lyrics = lyrics.replace(\"High dive into frozen waves where the past comes back to life\", \"If our love's insanity, why are you my clarity?\")\n",
    "\n",
    "#Concatnate two lines to make new song version\n",
    "line1 = \"If our love is tragedy, why are you my remedy?\"\n",
    "line2 = \"If our love's insanity, why are you my clarity?\"\n",
    "new_song_lyrics = line1 + ', ' + line2\n",
    "print(new_song_lyrics)"
   ]
  },
  {
   "cell_type": "markdown",
   "metadata": {},
   "source": [
    "# Popcorn Hack 2"
   ]
  },
  {
   "cell_type": "code",
   "execution_count": 3,
   "metadata": {
    "vscode": {
     "languageId": "javascript"
    }
   },
   "outputs": [
    {
     "data": {
      "application/javascript": "\n//Define flower & animal\nlet flower = \"Lavender\";\nlet animal = \"Cheetah\";\n\n//Define new creature with concatenation\nlet newCreature = flower + animal;\nlet newCreatureTemlateLiteral = `${flower}${animal}`; //Template literals \n\n//Short Story Script\nlet shortStory = `sho\nIn a far away land, there was a hybrid creature called ${newCreatureTemplate}.\nThe ${newCreatureTemplate} had the qualities and personalities of a ${flower} and the physical features of a ${animal}.\nWhile the ${newCreatureTemplate} was trying to drink water in a pond, he saw another ${newCreatureTemplate}.\n\n\"State your name and status,\" the ${newCreatureTemplate} asked the new ${newCreatureTemplate}.\n\"Hello sir, I am ${newCreatureTemplate} 2.0, I have been sent to replace you!\"\n\nThe ${newCreatureTemplate} started to worry as he has never faced a situation like this, and with all the knowledge he had learned in his life, he rain away.\n`;\n\nconsole.log(shortStory);\n",
      "text/plain": [
       "<IPython.core.display.Javascript object>"
      ]
     },
     "metadata": {},
     "output_type": "display_data"
    }
   ],
   "source": [
    "%%js \n",
    "\n",
    "//Define flower & animal\n",
    "let flower = \"Lavender\";\n",
    "let animal = \"Cheetah\";\n",
    "\n",
    "//Define new creature with concatenation\n",
    "let newCreature = flower + animal;\n",
    "let newCreatureTemlateLiteral = `${flower}${animal}`; //Template literals \n",
    "\n",
    "//Short Story Script\n",
    "let shortStory = `sho\n",
    "In a far away land, there was a hybrid creature called ${newCreatureTemplateLiteral}.\n",
    "The ${newCreatureTemplateLiteral} had the qualities and personalities of a ${flower} and the physical features of a ${animal}.\n",
    "While the ${newCreatureTemplateLiteral} was trying to drink water in a pond, he saw another ${newCreatureTemplateLiteral}.\n",
    "\n",
    "\"State your name and status,\" the ${newCreatureTemplateLiteral} asked the new ${newCreatureTemplateLiteral}.\n",
    "\"Hello sir, I am ${newCreatureTemplateLiteral} 2.0, I have been sent to replace you!\"\n",
    "\n",
    "The ${newCreatureTemplateLiteral} started to worry as he has never faced a situation like this, and with all the knowledge he had learned in his life, he rain away.\n",
    "`;\n",
    "\n",
    "console.log(shortStory);"
   ]
  },
  {
   "cell_type": "markdown",
   "metadata": {},
   "source": [
    "# Homework Hack"
   ]
  },
  {
   "cell_type": "code",
   "execution_count": 6,
   "metadata": {},
   "outputs": [
    {
     "name": "stdout",
     "output_type": "stream",
     "text": [
      "Original String:\n",
      "AP Computer Science Princples is a very fun class that Yuva Bala is in!\n",
      "\n",
      "Longest Word: 'Princples' with 9 characters\n",
      "\n",
      "Reversed String:\n",
      "!ni si alaB avuY taht ssalc nuf yrev a si selpcnirP ecneicS retupmoC PA\n",
      "\n",
      "Middle Word: 'fun'\n",
      "\n",
      "Number of vowels in the text: 21\n"
     ]
    }
   ],
   "source": [
    "def analyze_text(input_text):\n",
    "    # Original String\n",
    "    print(f\"Original String:\\n{input_text}\")\n",
    "    \n",
    "    # Total Characters (including spaces)\n",
    "    num_chars = len(input_text)\n",
    "    \n",
    "    # Split text into words\n",
    "    words = input_text.split()\n",
    "    \n",
    "    # Longest Word and its length\n",
    "    longest_word = max(words, key=len)\n",
    "    longest_word_length = len(longest_word)\n",
    "    print(f\"\\nLongest Word: '{longest_word}' with {longest_word_length} characters\")\n",
    "    \n",
    "    # Reversed String\n",
    "    reversed_text = input_text[::-1]\n",
    "    print(f\"\\nReversed String:\\n{reversed_text}\")\n",
    "    \n",
    "    # Find middle word (excluding spaces or special characters)\n",
    "    middle_word = words[len(words) // 2]\n",
    "    print(f\"\\nMiddle Word: '{middle_word}'\")\n",
    "    \n",
    "    # Unique Function: Count vowels\n",
    "    vowels = 'aeiouAEIOU'\n",
    "    vowel_count = sum(1 for char in input_text if char in vowels)\n",
    "    print(f\"\\nNumber of vowels in the text: {vowel_count}\")\n",
    "    \n",
    "    # Replace words function\n",
    "    def replace_word(original_text, to_replace, replace_with):\n",
    "        return original_text.replace(to_replace, replace_with)\n",
    "    \n",
    "# Example usage\n",
    "input_text = input(\"Enter text to analyze: \")\n",
    "analyze_text(input_text)"
   ]
  }
 ],
 "metadata": {
  "kernelspec": {
   "display_name": "venv",
   "language": "python",
   "name": "python3"
  },
  "language_info": {
   "codemirror_mode": {
    "name": "ipython",
    "version": 3
   },
   "file_extension": ".py",
   "mimetype": "text/x-python",
   "name": "python",
   "nbconvert_exporter": "python",
   "pygments_lexer": "ipython3",
   "version": "3.12.4"
  }
 },
 "nbformat": 4,
 "nbformat_minor": 2
}
