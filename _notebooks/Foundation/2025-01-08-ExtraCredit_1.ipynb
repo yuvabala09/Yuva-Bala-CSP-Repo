{
 "cells": [
  {
   "cell_type": "markdown",
   "metadata": {},
   "source": [
    "---\n",
    "layout: post\n",
    "title: Extra Credit Student Panel 1\n",
    "description:  Blog for Extra Credit\n",
    "type: issues \n",
    "comments: true\n",
    "---"
   ]
  },
  {
   "cell_type": "markdown",
   "metadata": {},
   "source": [
    "# Extra Credit Pictures"
   ]
  },
  {
   "cell_type": "markdown",
   "metadata": {
    "vscode": {
     "languageId": "html"
    }
   },
   "source": [
    "<img src=\"{{site.baseurl}}/images/extracreditstudentpanel1.png\" width=\"600\" height=\"500\">"
   ]
  },
  {
   "cell_type": "markdown",
   "metadata": {},
   "source": [
    "<img src=\"{{site.baseurl}}/images/extracreditstudentpanel2.png\" width=\"600\" height=\"500\">"
   ]
  },
  {
   "cell_type": "markdown",
   "metadata": {},
   "source": [
    "# Notes Taken During Student Panel\n",
    "-----------------------------------------------------\n",
    "-  Learn how to use flowcharts UML as it is generally the first step in organizing how a project will look like and planning out the project fast. Flowcharts are very direct and can communicate clearly your projects first draft to your teacher and teammates.\n",
    "-  Live reviews can help you practice skills for interviewing in the future. In Mortensen you need to be very direct which prepares you in the future when talking to professors who have even less time and more people to work with. \n",
    "-  Project based projects are very big in the CS field as projects are very good ways to show your achievements in CS.\n",
    "-  Agile Methodology used sometimes in college when people are in groups for CS classes. Can help you be a good leader or help you work with your teammates. \n",
    "-  STEM is a very good field to be apart of and being part of the CSP class in Del Norte helps you dive into STEM.\n",
    "-  Learning how to use GitHub and VSCode early can help you in college when in CS classes as they are commonly used.\n",
    "-  Make lots of comments to your code so that when you go back, you can easily understand what you wrote. Also shows proof of consistent understanding with the project.\n",
    "-  Frontend Backend connection important for coding in general.\n",
    "-  CPT project can be a good achievement to put on your college admissions. \n",
    "-  Don’t procrastinate on any projects to produce the best quality work in which you aren’t rushed or forced. \n",
    "-  Used LinkedIn early so that you can list your achievements on it and network with individuals that can help you in your career or field.\n",
    "-  Take community college classes to get credits for college so that you are ahead and can get rid of a lot of useless classes that would be a nuisance to your time.\n",
    "-  Make sure to do your college apps early so that it isn’t rushed (don’t procrastinate)\n",
    "-  Use LeetCode to practice coding\n",
    "-  Have a portfolio that marks your progress, similar to LinkedIn, good for resumes.\n",
    "-----------------------------------------------------"
   ]
  }
 ],
 "metadata": {
  "language_info": {
   "name": "python"
  }
 },
 "nbformat": 4,
 "nbformat_minor": 2
}
