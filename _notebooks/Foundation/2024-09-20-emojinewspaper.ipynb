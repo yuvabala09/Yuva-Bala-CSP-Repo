{
 "cells": [
  {
   "cell_type": "code",
   "execution_count": 13,
   "metadata": {},
   "outputs": [
    {
     "name": "stdout",
     "output_type": "stream",
     "text": [
      "🚌 I like big school buses, look what i found :apple:\n"
     ]
    }
   ],
   "source": [
    "from emoji import emojize\n",
    "print(emojize(\":bus: I like big school buses, look what i found :apple:\"))"
   ]
  },
  {
   "cell_type": "code",
   "execution_count": 14,
   "metadata": {},
   "outputs": [
    {
     "data": {
      "text/markdown": [
       "Zimbabwe to cull 200 elephants to feed citizens left hungry by drought"
      ],
      "text/plain": [
       "<IPython.core.display.Markdown object>"
      ]
     },
     "metadata": {},
     "output_type": "display_data"
    },
    {
     "data": {
      "text/markdown": [
       "CNN —\n",
       "\n",
       "Zimbabwe has authorized a mass slaughter of elephants to feed citizens left hungry by its worst drought in decades.\n",
       "\n",
       "With nearly half of the country’s population facing the risk of acute hunger, “we are targeting to cull 200 elephants,” Tinashe Farawo, a spokesperson for the Zimbabwe Parks and Wildlife Authority, told CNN on Monday.\n",
       "\n",
       "The move follows a decision in Namibia to cull elephants and other wild animals to relieve food insecurity fueled by a prolonged drought. The culls have drawn criticism from animal rights activists and conservationists.\n",
       "\n",
       "Zimbabwe is home to more than 84,000 elephants, Farawo said, around double its “capacity of 45,000,” he added.\n",
       "\n",
       "Zimbabwe’s elephant population is the second-largest in the world, exceeded only by Botswana’s.\n",
       "\n",
       "Environment Minister Sithembiso Nyoni told parliamentarians last week that “Zimbabwe has more elephants than we need and more elephants than our forests can accommodate.”\n",
       "\n",
       "She added that overpopulation by elephants “causes lack of resources” for their sustenance, which fuels human-wildlife conflict in the country.\n",
       "\n",
       "“We are discussing with Zim Parks (Zimbabwe Parks and Wildlife Authority) and some communities to do like what Namibia has done so that we can count the elephants, mobilize the women to maybe dry the meat and package it to ensure that it gets to some communities that need the protein,” Nyoni said.\n",
       "\n",
       "“When there is an overpopulation of wildlife in a specific park, they will then seek to go outside the park to look for other resources such as water or greenery. When that happens, they will then come into contact with the humans and conflicts begin.”\n",
       "\n",
       "In Namibia, 700 wild animals, including elephants, were approved for slaughter last month and for their meat to be distributed to people facing food insecurity.\n",
       "\n",
       "More than 150 animals have already been killed, Namibia’s Ministry of Environment, Forestry and Tourism said, with more than 125,000 pounds of meat shared out.\n",
       "\n",
       "Zimbabwe and Namibia are just two of the many countries across southern Africa suffering a severe drought caused by El Niño — a natural climate pattern that has resulted in very little rainfall in the region since the start of the year. The countries are also vulnerable to droughts worsened by climate change.\n",
       "\n",
       "Farawo, the parks spokesperson, told CNN that the culling will begin once the authority completes the necessary paperwork.\n",
       "\n",
       "“We are doing the paperwork … so that we can start as soon as possible,” he said, adding that the planned slaughter would target areas with a large elephant population.\n",
       "\n",
       "The proposed elephant culls in Zimbabwe and Namibia have been strongly criticized.\n",
       "\n",
       "“Culling of elephants must be stopped,” Farai Maguwu, who leads the Zimbabwe-based advocacy group the Center for Natural Resource Governance, said in a post on X.\n",
       "\n",
       "“Elephants have a right to exist,” he wrote, adding that “future generations have a right to see elephants in their natural habitat.”\n",
       "\n",
       "Conservation biologist and natural resources consultant Keith Lindsay also expressed his discomfort at using wildlife to alleviate food insecurity, telling CNN that it is “very likely to lead to a more regular, ongoing demand for bushmeat that would be unsustainable.”\n",
       "\n",
       "Farawo, however, said Zimbabwe’s decision to slaughter elephants — its first cull since 1988 — was part of wider measures to reduce conflict between elephants and humans, following a series of elephant attacks on humans.\n",
       "\n",
       "“The animals are causing a lot of havoc in communities, killing people. Last week, we lost a woman in the northern part of the country who was killed by an elephant. The previous week, the same thing happened. So it (the culling) is also a way of controlling,” he said.\n",
       "\n",
       "At least 31 people have died in Zimbabwe this year as a result of conflict between humans and wildlife, local media reported.\n",
       "\n",
       "CNN’s Laura Paddison contributed to this report."
      ],
      "text/plain": [
       "<IPython.core.display.Markdown object>"
      ]
     },
     "metadata": {},
     "output_type": "display_data"
    },
    {
     "name": "stdout",
     "output_type": "stream",
     "text": [
      "\n",
      "\n"
     ]
    }
   ],
   "source": [
    "from newspaper import Article\n",
    "from IPython.display import display, Markdown\n",
    "\n",
    "\n",
    "urls = [\"https://www.cnn.com/2024/09/16/climate/zimbabwe-cull-elephants-intl-scli/index.html\"]\n",
    "\n",
    "for url in urls:\n",
    "    article = Article(url)\n",
    "    article.download()\n",
    "    article.parse()\n",
    "    # Jupyter Notebook Display\n",
    "    # print(article.title)\n",
    "    display(Markdown(article.title)) # Jupyter display only\n",
    "    display(Markdown(article.text)) # Jupyter display only\n",
    "    print(\"\\n\")\n"
   ]
  }
 ],
 "metadata": {
  "kernelspec": {
   "display_name": "venv",
   "language": "python",
   "name": "python3"
  },
  "language_info": {
   "codemirror_mode": {
    "name": "ipython",
    "version": 3
   },
   "file_extension": ".py",
   "mimetype": "text/x-python",
   "name": "python",
   "nbconvert_exporter": "python",
   "pygments_lexer": "ipython3",
   "version": "3.12.4"
  }
 },
 "nbformat": 4,
 "nbformat_minor": 2
}
