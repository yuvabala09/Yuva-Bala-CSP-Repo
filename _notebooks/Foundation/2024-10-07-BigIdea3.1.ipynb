{
 "cells": [
  {
   "cell_type": "markdown",
   "metadata": {},
   "source": [
    "# Popcorn Hack 1"
   ]
  },
  {
   "cell_type": "code",
   "execution_count": 1,
   "metadata": {},
   "outputs": [],
   "source": [
    "teammate_one = \"Yuva\"\n",
    "teammate_two = \"Kiruthic\"\n",
    "teammate_three = \"Pranav\"\n",
    "teammate_four = \"Anvay\"\n",
    "teammate_five = \"Rayhaan\""
   ]
  },
  {
   "cell_type": "markdown",
   "metadata": {},
   "source": [
    "# Popcorn Hack 2"
   ]
  },
  {
   "cell_type": "code",
   "execution_count": 5,
   "metadata": {},
   "outputs": [
    {
     "name": "stdout",
     "output_type": "stream",
     "text": [
      "strawberry\n",
      "lemon\n",
      "nectarine\n",
      "cranberries\n"
     ]
    }
   ],
   "source": [
    "fruit_dict = {\n",
    "    \"berry\": \"strawberry\",\n",
    "    \"sour\": \"lemon\",\n",
    "    \"sweet\": \"nectarine\",\n",
    "    \"bitter\": \"cranberries\"\n",
    "}\n",
    "\n",
    "print(fruit_dict[\"berry\"])\n",
    "print(fruit_dict[\"sour\"])\n",
    "print(fruit_dict[\"sweet\"])\n",
    "print(fruit_dict[\"bitter\"])"
   ]
  },
  {
   "cell_type": "markdown",
   "metadata": {},
   "source": [
    "# Popcorn Hack 3"
   ]
  },
  {
   "cell_type": "code",
   "execution_count": 4,
   "metadata": {
    "vscode": {
     "languageId": "javascript"
    }
   },
   "outputs": [
    {
     "data": {
      "application/javascript": "\nconst teslaCybertruck = {\n    carColor: \"metallic\",\n    glassDurability: \"bulletproof\",\n    basePrice: 79000,\n    carRange: 340,\n}\n\nteslaCybertruck.carColor = \"matte black\"\n",
      "text/plain": [
       "<IPython.core.display.Javascript object>"
      ]
     },
     "metadata": {},
     "output_type": "display_data"
    }
   ],
   "source": [
    "%%javascript\n",
    "\n",
    "const teslaCybertruck = {\n",
    "    carColor: \"metallic\",\n",
    "    glassDurability: \"bulletproof\",\n",
    "    basePrice: 79000,\n",
    "    carRange: 340,\n",
    "}\n",
    "\n",
    "teslaCybertruck.carColor = \"matte black\""
   ]
  },
  {
   "cell_type": "markdown",
   "metadata": {},
   "source": [
    "# Popcorn Hack 4"
   ]
  },
  {
   "cell_type": "code",
   "execution_count": null,
   "metadata": {
    "vscode": {
     "languageId": "javascript"
    }
   },
   "outputs": [],
   "source": [
    "%%js \n",
    "\n",
    "let grades = [40, \"worst grade\", 60, \"bad grade\", 80, \"okay grade\", 90, \"good grade\", 100, \"best grade\"]\n"
   ]
  }
 ],
 "metadata": {
  "kernelspec": {
   "display_name": "venv",
   "language": "python",
   "name": "python3"
  },
  "language_info": {
   "codemirror_mode": {
    "name": "ipython",
    "version": 3
   },
   "file_extension": ".py",
   "mimetype": "text/x-python",
   "name": "python",
   "nbconvert_exporter": "python",
   "pygments_lexer": "ipython3",
   "version": "3.12.4"
  }
 },
 "nbformat": 4,
 "nbformat_minor": 2
}
