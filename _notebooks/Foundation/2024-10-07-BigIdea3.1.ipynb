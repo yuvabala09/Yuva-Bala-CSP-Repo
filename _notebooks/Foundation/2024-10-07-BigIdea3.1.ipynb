{
 "cells": [
  {
   "cell_type": "markdown",
   "metadata": {},
   "source": [
    "---\n",
    "layout: post\n",
    "title: 3.1 Hacks and Homework\n",
    "description:  3.1 Big Idea Hacks and Homework\n",
    "type: issues \n",
    "comments: true\n",
    "---"
   ]
  },
  {
   "cell_type": "markdown",
   "metadata": {},
   "source": [
    "# Popcorn Hack 1"
   ]
  },
  {
   "cell_type": "code",
   "execution_count": 1,
   "metadata": {},
   "outputs": [
    {
     "name": "stdout",
     "output_type": "stream",
     "text": [
      "Yuva Anvay Kiruthic Pranav Rayhaan\n"
     ]
    }
   ],
   "source": [
    "#team member variables\n",
    "team_member_one = \"Yuva\"\n",
    "team_member_two = \"Anvay\"\n",
    "team_member_three = \"Kiruthic\"\n",
    "team_member_four = \"Pranav\"\n",
    "team_member_five = \"Rayhaan\"\n",
    "\n",
    "#prints all the team members name\n",
    "print(team_member_one, team_member_two, team_member_three, team_member_four, team_member_five)"
   ]
  },
  {
   "cell_type": "markdown",
   "metadata": {},
   "source": [
    "# Popcorn Hack 2"
   ]
  },
  {
   "cell_type": "code",
   "execution_count": 5,
   "metadata": {},
   "outputs": [
    {
     "name": "stdout",
     "output_type": "stream",
     "text": [
      "strawberry\n",
      "lemon\n",
      "nectarine\n",
      "cranberries\n"
     ]
    }
   ],
   "source": [
    "fruit_dict = {\n",
    "    \"berry\": \"strawberry\",\n",
    "    \"sour\": \"lemon\",\n",
    "    \"sweet\": \"nectarine\",\n",
    "    \"bitter\": \"cranberries\"\n",
    "}\n",
    "\n",
    "print(fruit_dict[\"berry\"])\n",
    "print(fruit_dict[\"sour\"])\n",
    "print(fruit_dict[\"sweet\"])\n",
    "print(fruit_dict[\"bitter\"])"
   ]
  },
  {
   "cell_type": "markdown",
   "metadata": {},
   "source": [
    "# Popcorn Hack 3"
   ]
  },
  {
   "cell_type": "code",
   "execution_count": 4,
   "metadata": {
    "vscode": {
     "languageId": "javascript"
    }
   },
   "outputs": [
    {
     "data": {
      "application/javascript": "\nconst teslaCybertruck = {\n    carColor: \"metallic\",\n    glassDurability: \"bulletproof\",\n    basePrice: 79000,\n    carRange: 340,\n}\n\nteslaCybertruck.carColor = \"matte black\"\n",
      "text/plain": [
       "<IPython.core.display.Javascript object>"
      ]
     },
     "metadata": {},
     "output_type": "display_data"
    }
   ],
   "source": [
    "%%javascript\n",
    "\n",
    "const teslaCybertruck = {\n",
    "    carColor: \"metallic\",\n",
    "    glassDurability: \"bulletproof\",\n",
    "    basePrice: 79000,\n",
    "    carRange: 340,\n",
    "}\n",
    "\n",
    "teslaCybertruck.carColor = \"matte black\""
   ]
  },
  {
   "cell_type": "markdown",
   "metadata": {},
   "source": [
    "# Popcorn Hack 4"
   ]
  },
  {
   "cell_type": "code",
   "execution_count": null,
   "metadata": {
    "vscode": {
     "languageId": "javascript"
    }
   },
   "outputs": [],
   "source": [
    "%%js \n",
    "\n",
    "let grades = [40, \"worst grade\", 60, \"bad grade\", 80, \"okay grade\", 90, \"good grade\", 100, \"best grade\"]\n"
   ]
  },
  {
   "cell_type": "markdown",
   "metadata": {},
   "source": [
    "# Homework Hack 1"
   ]
  },
  {
   "cell_type": "code",
   "execution_count": 2,
   "metadata": {
    "vscode": {
     "languageId": "javascript"
    }
   },
   "outputs": [
    {
     "data": {
      "application/javascript": "const firstName = \"Yuva\";  \nconst lastName = \"Bala\";    \n\nlet age = 15;             \nlet city = \"San Diego\";     \nlet occupation = \"student\";\n\nfunction introducePerson() {\n    let introduction = `Hello, my name is ${firstName} ${lastName}. I am ${age} years old and work as a ${occupation} in ${city}.`;\n    \n    console.log(introduction);\n}\n\nintroducePerson();\n",
      "text/plain": [
       "<IPython.core.display.Javascript object>"
      ]
     },
     "metadata": {},
     "output_type": "display_data"
    }
   ],
   "source": [
    "%%js\n",
    "const firstName = \"Yuva\";  \n",
    "const lastName = \"Bala\";    \n",
    "\n",
    "let age = 15;             \n",
    "let city = \"San Diego\";     \n",
    "let occupation = \"student\";\n",
    "\n",
    "function introducePerson() {\n",
    "    let introduction = `Hello, my name is ${firstName} ${lastName}. I am ${age} years old and work as a ${occupation} in ${city}.`;\n",
    "    \n",
    "    console.log(introduction);\n",
    "}\n",
    "\n",
    "introducePerson();"
   ]
  },
  {
   "cell_type": "markdown",
   "metadata": {},
   "source": [
    "# Homework Hack 2"
   ]
  },
  {
   "cell_type": "code",
   "execution_count": 5,
   "metadata": {},
   "outputs": [
    {
     "name": "stdout",
     "output_type": "stream",
     "text": [
      "Total of all grades: 345\n",
      "Average Grade: 86.25\n",
      "Student Info: [{'name': 'Alice', 'age': 18, 'grades': [85, 90, 78, 92], 'avgGrade': 86.25}]\n"
     ]
    }
   ],
   "source": [
    "# Variables for student grade\n",
    "math_grade = 85       \n",
    "science_grade = 90    \n",
    "history_grade = 78   \n",
    "english_grade = 92 \n",
    "\n",
    "# Calculate the average grade equation\n",
    "total_grades = math_grade + science_grade + history_grade + english_grade  # sum of grades\n",
    "average_grade = total_grades / 4  # divides by the number of grades(variables)\n",
    "\n",
    "# Print result\n",
    "print(\"Total of all grades:\", total_grades)\n",
    "print(\"Average Grade:\", average_grade)\n",
    "\n",
    "# DICTIONARY TO STORE STUDENT INFO\n",
    "students = [\n",
    "    {\n",
    "        \"name\": \"Alice\",  # string (student name)\n",
    "        \"age\": 18,        # integer (student age)\n",
    "        \"grades\": [85, 90, 78, 92],  # grades for the student\n",
    "        \"avgGrade\": average_grade  # average grade\n",
    "    }\n",
    "]\n",
    "\n",
    "# Print student info\n",
    "print(\"Student Info:\", students)"
   ]
  }
 ],
 "metadata": {
  "kernelspec": {
   "display_name": "venv",
   "language": "python",
   "name": "python3"
  },
  "language_info": {
   "codemirror_mode": {
    "name": "ipython",
    "version": 3
   },
   "file_extension": ".py",
   "mimetype": "text/x-python",
   "name": "python",
   "nbconvert_exporter": "python",
   "pygments_lexer": "ipython3",
   "version": "3.12.4"
  }
 },
 "nbformat": 4,
 "nbformat_minor": 2
}
