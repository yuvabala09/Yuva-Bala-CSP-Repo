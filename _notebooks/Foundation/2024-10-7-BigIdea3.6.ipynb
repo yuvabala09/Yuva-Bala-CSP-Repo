{
 "cells": [
  {
   "cell_type": "markdown",
   "metadata": {},
   "source": [
    "---\n",
    "layout: post\n",
    "title: 3.6 Hacks and Homework\n",
    "description:  3.6 Big Idea Hacks and Homework\n",
    "type: issues \n",
    "comments: true\n",
    "---"
   ]
  },
  {
   "cell_type": "markdown",
   "metadata": {},
   "source": [
    "# Popcorn Hack 1 Python"
   ]
  },
  {
   "cell_type": "code",
   "execution_count": 9,
   "metadata": {},
   "outputs": [
    {
     "name": "stdout",
     "output_type": "stream",
     "text": [
      "Its an ok day\n"
     ]
    }
   ],
   "source": [
    "temperature = 70\n",
    "\n",
    "if temperature >= 80:\n",
    "    print(\"Its a warm day\")\n",
    "elif 60 <= temperature < 80:\n",
    "    print(\"Its an ok day\")\n",
    "else:\n",
    "    print(\"Its a cold day\")"
   ]
  },
  {
   "cell_type": "markdown",
   "metadata": {},
   "source": [
    "# Popcorn Hack 2 Javascript"
   ]
  },
  {
   "cell_type": "code",
   "execution_count": 10,
   "metadata": {},
   "outputs": [
    {
     "data": {
      "application/javascript": "let score = 85;\n\nif (score >= 60) {\n    console.log(\"You passed!\");\n}\nelse {\n    console.log(\"You failed\");\n}\n",
      "text/plain": [
       "<IPython.core.display.Javascript object>"
      ]
     },
     "metadata": {},
     "output_type": "display_data"
    }
   ],
   "source": [
    "%%js\n",
    "let score = 85;\n",
    "\n",
    "if (score >= 60) {\n",
    "    console.log(\"You passed!\");\n",
    "}\n",
    "else {\n",
    "    console.log(\"You failed\");\n",
    "}"
   ]
  },
  {
   "cell_type": "markdown",
   "metadata": {},
   "source": [
    "# Homework Hack 1 Python"
   ]
  },
  {
   "cell_type": "code",
   "execution_count": 13,
   "metadata": {},
   "outputs": [
    {
     "name": "stdout",
     "output_type": "stream",
     "text": [
      "Odd\n",
      "Even\n",
      "Even\n",
      "Odd\n",
      "Odd\n"
     ]
    }
   ],
   "source": [
    "def check_odd_even(number):\n",
    "    if number % 2:\n",
    "        print(\"Even\")\n",
    "    else:\n",
    "        print(\"Odd\")\n",
    "check_odd_even(4)\n",
    "check_odd_even(9)\n",
    "check_odd_even(-1)\n",
    "check_odd_even(8)\n",
    "check_odd_even(-8)    "
   ]
  },
  {
   "cell_type": "markdown",
   "metadata": {},
   "source": [
    "# Homework Hack 2 Python"
   ]
  },
  {
   "cell_type": "code",
   "execution_count": 17,
   "metadata": {},
   "outputs": [
    {
     "name": "stdout",
     "output_type": "stream",
     "text": [
      "Not a Leap Year\n",
      "Not a Leap Year\n",
      "Leap Year\n"
     ]
    }
   ],
   "source": [
    "def is_leap_year(year):\n",
    "    if (year % 4 == 0 and year % 100 != 0) or (year % 400 == 0):\n",
    "        return \"Leap Year\"  # It's a leap year\n",
    "    else:\n",
    "        return \"Not a Leap Year\"  # It's not a leap year\n",
    "print(is_leap_year(2202))\n",
    "print(is_leap_year(1999))\n",
    "print(is_leap_year(2004))"
   ]
  },
  {
   "cell_type": "markdown",
   "metadata": {},
   "source": [
    "# Homework Hack 3 Python"
   ]
  },
  {
   "cell_type": "code",
   "execution_count": 18,
   "metadata": {},
   "outputs": [
    {
     "name": "stdout",
     "output_type": "stream",
     "text": [
      "Warm\n",
      "Cold\n",
      "Hot\n"
     ]
    }
   ],
   "source": [
    "def temperature_range(temperature):\n",
    "    if temperature > 85:\n",
    "        return \"Hot\"\n",
    "    elif 60 <= temperature <= 85:\n",
    "        return \"Warm\"\n",
    "    else:\n",
    "        return \"Cold\"\n",
    "    \n",
    "print(temperature_range(72))\n",
    "print(temperature_range(39))\n",
    "print(temperature_range(93))"
   ]
  },
  {
   "cell_type": "markdown",
   "metadata": {},
   "source": [
    "# Homework Hack Javascript 4"
   ]
  },
  {
   "cell_type": "code",
   "execution_count": 21,
   "metadata": {
    "vscode": {
     "languageId": "javascript"
    }
   },
   "outputs": [
    {
     "data": {
      "application/javascript": "function checkVotingEligibility(age) {\n    if (age >= 18) {\n        return \"You are eligible to vote!\";\n    } else {\n        return \"You are not eligible to vote yet.\";\n    }\n}\n\nconsole.log(checkVotingEligibility(20))\nconsole.log(checkVotingEligibility(39))\nconsole.log(checkVotingEligibility(17))\nconsole.log(checkVotingEligibility(8))\n",
      "text/plain": [
       "<IPython.core.display.Javascript object>"
      ]
     },
     "metadata": {},
     "output_type": "display_data"
    }
   ],
   "source": [
    "%%js\n",
    "function checkVotingEligibility(age) {\n",
    "    if (age >= 18) {\n",
    "        return \"You are eligible to vote!\";\n",
    "    } else {\n",
    "        return \"You are not eligible to vote yet.\";\n",
    "    }\n",
    "}\n",
    "\n",
    "console.log(checkVotingEligibility(20))\n",
    "console.log(checkVotingEligibility(39))\n",
    "console.log(checkVotingEligibility(17))\n",
    "console.log(checkVotingEligibility(8))"
   ]
  },
  {
   "cell_type": "markdown",
   "metadata": {},
   "source": [
    "# Homework Hack 5 Javascript"
   ]
  },
  {
   "cell_type": "code",
   "execution_count": 22,
   "metadata": {
    "vscode": {
     "languageId": "javascript"
    }
   },
   "outputs": [
    {
     "data": {
      "application/javascript": "function getGrade(score) {\n    if (score >= 90) {\n        return \"Grade: A\";\n    } else if (score >= 80) {\n        return \"Grade: B\";\n    } else if (score >= 70) {\n        return \"Grade: C\";\n    } else {\n        return \"Grade: F\";\n    }\n}\n\nconsole.log(getGrade(95));  \nconsole.log(getGrade(85));  \nconsole.log(getGrade(75));  \nconsole.log(getGrade(65));  \n",
      "text/plain": [
       "<IPython.core.display.Javascript object>"
      ]
     },
     "metadata": {},
     "output_type": "display_data"
    }
   ],
   "source": [
    "%%js\n",
    "function getGrade(score) {\n",
    "    if (score >= 90) {\n",
    "        return \"Grade: A\";\n",
    "    } else if (score >= 80) {\n",
    "        return \"Grade: B\";\n",
    "    } else if (score >= 70) {\n",
    "        return \"Grade: C\";\n",
    "    } else {\n",
    "        return \"Grade: F\";\n",
    "    }\n",
    "}\n",
    "\n",
    "console.log(getGrade(95));  \n",
    "console.log(getGrade(85));  \n",
    "console.log(getGrade(75));  \n",
    "console.log(getGrade(65));  "
   ]
  },
  {
   "cell_type": "markdown",
   "metadata": {},
   "source": [
    "# Homework Hack 6 Javascript"
   ]
  },
  {
   "cell_type": "code",
   "execution_count": 23,
   "metadata": {
    "vscode": {
     "languageId": "javascript"
    }
   },
   "outputs": [
    {
     "data": {
      "application/javascript": "function convertTemperature(value, scale) {\n    if (scale === \"C\") {\n        let fahrenheit = (value * 9/5) + 32;\n        return fahrenheit + \"°F\";\n    } else if (scale === \"F\") {\n        let celsius = (value - 32) * 5/9;\n        return celsius.toFixed(2) + \"°C\";\n    } else {\n        return \"Error. Invalid scale. Use either value C or F for celsius and farenheit\";\n    }\n}\n\n\nconsole.log(convertTemperature(25, \"C\")); \nconsole.log(convertTemperature(77, \"F\"));\nconsole.log(convertTemperature(0, \"C\"));  \nconsole.log(convertTemperature(100, \"F\")); \nconsole.log(convertTemperature(50, \"X\"));  \n",
      "text/plain": [
       "<IPython.core.display.Javascript object>"
      ]
     },
     "metadata": {},
     "output_type": "display_data"
    }
   ],
   "source": [
    "%%js \n",
    "function convertTemperature(value, scale) {\n",
    "    if (scale === \"C\") {\n",
    "        let fahrenheit = (value * 9/5) + 32;\n",
    "        return fahrenheit + \"°F\";\n",
    "    } else if (scale === \"F\") {\n",
    "        let celsius = (value - 32) * 5/9;\n",
    "        return celsius.toFixed(2) + \"°C\";\n",
    "    } else {\n",
    "        return \"Error. Invalid scale. Use either value C or F for celsius and farenheit\";\n",
    "    }\n",
    "}\n",
    "\n",
    "\n",
    "console.log(convertTemperature(25, \"C\")); \n",
    "console.log(convertTemperature(77, \"F\"));\n",
    "console.log(convertTemperature(0, \"C\"));  \n",
    "console.log(convertTemperature(100, \"F\")); \n",
    "console.log(convertTemperature(50, \"X\"));  "
   ]
  }
 ],
 "metadata": {
  "kernelspec": {
   "display_name": "venv",
   "language": "python",
   "name": "python3"
  },
  "language_info": {
   "codemirror_mode": {
    "name": "ipython",
    "version": 3
   },
   "file_extension": ".py",
   "mimetype": "text/x-python",
   "name": "python",
   "nbconvert_exporter": "python",
   "pygments_lexer": "ipython3",
   "version": "3.12.4"
  }
 },
 "nbformat": 4,
 "nbformat_minor": 2
}
