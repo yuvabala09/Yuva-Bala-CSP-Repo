{
 "cells": [
  {
   "cell_type": "markdown",
   "metadata": {},
   "source": [
    "---\n",
    "layout: post\n",
    "title: Final Blog\n",
    "type: issues\n",
    "comments: True\n",
    "---"
   ]
  },
  {
   "cell_type": "code",
   "execution_count": null,
   "metadata": {
    "vscode": {
     "languageId": "html"
    }
   },
   "outputs": [],
   "source": [
    "<div class=\"flex flex-col md:flex-row gap-4 p-4\">\n",
    "    <a href=\"https://www.linkedin.com/in/yuva-bala-254539367/\" target=\"_blank\" rel=\"noopener noreferrer\"\n",
    "       class=\"px-6 py-3 rounded-2xl bg-blue-600 text-white font-semibold shadow-md hover:bg-blue-700 transition duration-300\">\n",
    "      💼 LinkedIn Profile\n",
    "    </a>\n",
    "  \n",
    "    <a href=\"https://yuvabala09.github.io/yuvabalacsprepo/2025/06/09/Homework-Certification_IPYNB_2_.html\" target=\"_blank\" rel=\"noopener noreferrer\"\n",
    "       class=\"px-6 py-3 rounded-2xl bg-green-600 text-white font-semibold shadow-md hover:bg-green-700 transition duration-300\">\n",
    "      📄 Certification Homework\n",
    "    </a>\n",
    "  \n",
    "    <a href=\"https://yuvabala09.github.io/yuvabalacsprepo/2025/06/09/Overview-of-Projects-Unique-Qualities_IPYNB_2_.html\" target=\"_blank\" rel=\"noopener noreferrer\"\n",
    "       class=\"px-6 py-3 rounded-2xl bg-purple-600 text-white font-semibold shadow-md hover:bg-purple-700 transition duration-300\">\n",
    "      🌟 Project Overview\n",
    "    </a>\n",
    "  </div>\n",
    "  "
   ]
  }
 ],
 "metadata": {
  "language_info": {
   "name": "python"
  }
 },
 "nbformat": 4,
 "nbformat_minor": 2
}
