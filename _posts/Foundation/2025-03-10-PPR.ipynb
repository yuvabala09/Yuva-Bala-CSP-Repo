---
layout: post
title: PPR
type: issues
comments: True
permalink: /PPR
---

## PPR

### 1. A List Being Created 
`country_dishes`
![PPRpic1](/yuvabalacsprepo/images/PPRpic1.png)
- The country_dishes list is being initialized with hardcoded objects of CountryDish.
- Each object represents a country’s national dish along with its name and description.
- This list is used later to populate the database.
### 2. A List Being Processed
Iterating through `country_dishes` to insert into DB
![PPRpic2](/yuvabalacsprepo/images/PPRpic2.png)
- The code loops through country_dishes and inserts each dish into the database.
- Each dish object calls .create(), which saves it to the database.
- If a duplicate entry is found (causing an IntegrityError), the transaction is rolled back.
### 3. A Function 
`random_country_dish()`
![PPRpic3](/yuvabalacsprepo/images/PPRpic3.png)
- The function get_random_country_dish() fetches all country dishes from the database.
- It checks if at least 5 dishes exist—otherwise, it returns an error message.
- If valid, it selects one random dish and returns it.
### 4. A Call to the Function 
`return(random_country_dish())`
![PPRpic4.1](/yuvabalacsprepo/images/PPRpic4p1.png)
![PPRpic4.2](/yuvabalacsprepo/images/PPRpic4p2.png)
- This API route (/api/random) is defined using @country_api.route().
- When a user requests this endpoint, get_random_country_dish() is executed.
- The response is converted to JSON and returned.

#  AP CSP Create Task Breakdown: Random Country Dish Generator

This blog post explains how my **Random Country Dish Generator** project meets the **AP CSP Create Performance Task (CPT) requirements** by incorporating **input, use of lists, procedures, sequencing, selection, iteration, calls to algorithms, and output/display**. The project follows a **full-stack approach**, integrating a **Flask API backend** with a **JavaScript-powered frontend**.

---

## **Input**
### **How the Program Receives Input**
The program allows users to **submit country dishes** using an interactive form. The form takes in three key values:  
- **Country Name** – Represents the country associated with the dish.  
- **Dish Name** – The national dish of the country.  
- **Dish Description** – A brief explanation of the dish, including ingredients or cultural significance.  

These inputs are processed and **sent to the backend API**, where they are stored in a database. The API ensures **data validation**, checking whether all required fields are provided before storing the dish.

![Pic#FRQBlog](/yuvabalacsprepo/images/1stPicFRQBlog.png)

Additionally, users can **filter dishes by name** using a search parameter in the API, allowing for **dynamic retrieval** of specific dish entries.

---

## **Use of a List**
### **Storing and Retrieving Multiple Dishes**
A **list of dishes** is stored in a structured **database**, enabling efficient access to multiple records at once. The backend API retrieves **all stored dishes** and returns them as a list, which the frontend then **processes and displays dynamically**.

When users visit the webpage, they see:
- A **randomly selected dish** from the database.  
- A **list of all user-submitted dishes** displayed dynamically.  

![Pic#FRQBlog](/yuvabalacsprepo/images/2ndPicFRQBlog.png)

This **list structure** ensures that users can **view multiple dishes** at once and interact with them.

---

## **Procedure/Algorithm**
### **Encapsulating Logic in Functions**
The project uses **functions (procedures)** to break down complex tasks into manageable components. These include:
- A **function for fetching a random dish**, ensuring dynamic and engaging user interaction.
- A **function for retrieving all stored dishes**, making it easy to display multiple user-submitted dishes.
- A **function for submitting a new dish**, which checks input validity and sends the data to the backend API.

Each function **encapsulates specific logic**, making the code **modular and reusable**. This ensures that actions like **fetching dishes or handling user submissions** remain **structured and easy to maintain**.

![Pic#FRQBlog](/yuvabalacsprepo/images/3rdPicFRQBlog.png)

---

## **Sequencing (Step-by-Step Execution)**
### **Ensuring Proper Execution Order**
Every feature follows a **logical sequence of execution**, which ensures that:
1. **User input is collected.** The program reads form inputs from the user.  
2. **A request is sent to the backend API.** The input is processed and stored in the database.  
3. **The database is updated.** The new dish is saved in a structured format.  
4. **The user interface updates.** The latest data is displayed dynamically on the webpage.  

![Pic#FRQBlog](/yuvabalacsprepo/images/4thPicFRQBlog.png)

This **sequencing** ensures smooth execution, preventing data from being lost or displayed incorrectly.

---

## **Selection (Conditional Logic)**
### **Making Decisions Based on User Actions**
The program incorporates **conditional logic** to handle **different scenarios**:
- **If a user submits incomplete data,** an error message is displayed instead of storing the dish.
- **If the API fails to retrieve dishes,** a fallback message is provided to avoid breaking the user experience.
- **If there aren’t enough dishes in the database,** the program prevents selecting a random dish.

![Pic#FRQBlog](/yuvabalacsprepo/images/5thPicFRQBlog.png)

This **decision-making process (selection)** ensures that the program functions **smoothly without crashes** and handles **real-world scenarios gracefully**.

---

## **Iteration (Looping)**
### **Displaying Multiple Dishes Dynamically**
Iteration is used in **multiple parts of the program**:
- The program loops through **all stored dishes** in the database to display them dynamically on the page.
- When filtering dishes, the API iterates through stored records to find **matching results**.
- The frontend loops through **all retrieved dishes** to create dynamic list elements.

![Pic#FRQBlog](/yuvabalacsprepo/images/6thPicFRQBlog.png)

Using **iteration**, the program ensures that **users can see all available dishes** and interact with them in real-time.

---

## **Call to Algorithm**
### **Triggering Key Program Functions**
Algorithms are **called and executed dynamically**:
- When the page **loads**, a function automatically **fetches and displays a random dish**.
- When a **user submits a dish**, the appropriate function is called to store the data and refresh the displayed list.
- If a **user requests a new random dish**, the function is called to replace the previous one.

![Pic#FRQBlog](/yuvabalacsprepo/images/7thPicFRQBlog.png)

These function calls ensure **smooth interactions** between the user and the system, keeping the experience **engaging and responsive**.

---

## **Output/Display**
### **Dynamically Updating the UI**
The program provides **real-time feedback** to users:
- When a dish is **fetched**, it is displayed in the appropriate section.
- When a **user submits a new dish**, it appears immediately in the list.
- When a **random dish is requested**, the current dish is replaced dynamically.

![Pic#FRQBlog](/yuvabalacsprepo/images/8thPicFRQBlog.png)

This **dynamic updating** ensures that users **always see the latest data** and makes the application **interactive and visually responsive**.

---

## **Summary Table**

| **Concept**           | **Implementation in the Project** |
|----------------------|----------------------------------|
| **Input**           | Users submit `country`, `dish`, and `description` through an input form. |
| **List Usage**      | The API retrieves and stores multiple dishes, returning them as a list. |
| **Procedure**       | Functions like fetching, submitting, and displaying dishes keep the code modular. |
| **Sequencing**      | Follows a structured order: user input → API request → database update → UI refresh. |
| **Selection**       | Uses conditional logic to handle errors, validate input, and prevent incorrect actions. |
| **Iteration**       | Loops through stored dishes to dynamically update and display the content. |
| **Call to Algorithm** | Functions are called to fetch, store, and update dishes dynamically. |
| **Output/Display**  | UI updates in real-time, reflecting the latest data and user interactions. |


---

## Final Thoughts
This project successfully demonstrates **full-stack web development**, integrating **frontend JavaScript** with a **Flask API backend**. The **AP CSP CPT requirements** are met through **structured programming concepts**, ensuring a **smooth, interactive, and engaging user experience**.

By incorporating **data abstraction, algorithms, sequencing, iteration, and conditionals**, this project models **real-world applications** like **food recommendation systems**. 

---

### Next Steps
- **Expanding the database** to include more diverse country dishes.
- **Enhancing filtering options** to allow users to search based on more criteria.
- **Adding user authentication** so users can save and manage their own favorite dishes.

This project serves as a **strong example of full-stack development** in AP CSP and highlights **the impact of computing** in creating **engaging and useful web applications**. 

---
